{
 "cells": [
  {
   "cell_type": "markdown",
   "metadata": {},
   "source": [
    "# Profitable app profiles for the App Store and Google Play markets\n",
    "Our company builds free apps for the App Store and Google Play markets. Its primary source of revenue consists of in-app ads, which are mostly influenced by the number of users. This study aims to find mobile app profiles that are profitable and to enable the team of developers to make data-driven decisions.\n",
    "\n",
    "## Import modules"
   ]
  },
  {
   "cell_type": "code",
   "execution_count": 1,
   "metadata": {},
   "outputs": [],
   "source": [
    "import itertools\n",
    "from csv import reader"
   ]
  },
  {
   "cell_type": "markdown",
   "metadata": {},
   "source": [
    "## Data sets used\n",
    "As of September 2018, there were approximately 2 million iOS apps available on the App Store, and 2.1 million Android apps on Google Play. Two simplify our study, the following subsets of data are used:\n",
    " * Mobile App Store - provided by Ramanathan through Kaggle ([link](https://www.kaggle.com/ramamet4/app-store-apple-data-set-10k-apps))\n",
    " * Google Play Store Apps - provided by Lavanya Gupta through Kaggle ([link](https://www.kaggle.com/lava18/google-play-store-apps))\n",
    "\n",
    "## Data preview\n",
    "Functions used in this section:"
   ]
  },
  {
   "cell_type": "code",
   "execution_count": 2,
   "metadata": {},
   "outputs": [],
   "source": [
    "# Open and preview the data sets\n",
    "def open_data(file_name):\n",
    "    '''Opens the data file and returns a list of lists.'''\n",
    "\n",
    "    opened_file = open(file_name, encoding='utf-8')\n",
    "\n",
    "    read_file = reader(opened_file)\n",
    "\n",
    "    data = list(read_file)\n",
    "\n",
    "    return data[0], data[1:]\n",
    "\n",
    "def explore_data(dataset, start=0, end=5, rows_and_columns=True):\n",
    "    '''Prints a slice of the specified data set and the number of rows and columns.'''\n",
    "\n",
    "    dataset_slice = dataset[start:end]\n",
    "    \n",
    "    for row in dataset_slice:\n",
    "\n",
    "        print(row, '\\n')\n",
    "\n",
    "    if rows_and_columns:\n",
    "        \n",
    "        print('Number of rows:', len(dataset))\n",
    "        print('Number of columns:', len(dataset[0]))"
   ]
  },
  {
   "cell_type": "code",
   "execution_count": 3,
   "metadata": {},
   "outputs": [
    {
     "name": "stdout",
     "output_type": "stream",
     "text": [
      "['id', 'track_name', 'size_bytes', 'currency', 'price', 'rating_count_tot', 'rating_count_ver', 'user_rating', 'user_rating_ver', 'ver', 'cont_rating', 'prime_genre', 'sup_devices.num', 'ipadSc_urls.num', 'lang.num', 'vpp_lic'] \n",
      "\n",
      "['284882215', 'Facebook', '389879808', 'USD', '0.0', '2974676', '212', '3.5', '3.5', '95.0', '4+', 'Social Networking', '37', '1', '29', '1'] \n",
      "\n",
      "['389801252', 'Instagram', '113954816', 'USD', '0.0', '2161558', '1289', '4.5', '4.0', '10.23', '12+', 'Photo & Video', '37', '0', '29', '1'] \n",
      "\n",
      "['529479190', 'Clash of Clans', '116476928', 'USD', '0.0', '2130805', '579', '4.5', '4.5', '9.24.12', '9+', 'Games', '38', '5', '18', '1'] \n",
      "\n",
      "['420009108', 'Temple Run', '65921024', 'USD', '0.0', '1724546', '3842', '4.5', '4.0', '1.6.2', '9+', 'Games', '40', '5', '1', '1'] \n",
      "\n",
      "['284035177', 'Pandora - Music & Radio', '130242560', 'USD', '0.0', '1126879', '3594', '4.0', '4.5', '8.4.1', '12+', 'Music', '37', '4', '1', '1'] \n",
      "\n",
      "Number of rows: 7197\n",
      "Number of columns: 16\n"
     ]
    }
   ],
   "source": [
    "# App Store data set\n",
    "ios_header, ios_apps = open_data('AppleStore.csv')\n",
    "\n",
    "print(ios_header, '\\n')\n",
    "explore_data(ios_apps)"
   ]
  },
  {
   "cell_type": "markdown",
   "metadata": {},
   "source": [
    "The App Store data set has 7197 apps and 16 columns. The columns that might be useful for the purpose of our analysis are 'track_name', 'currency', 'price', 'rating_count_tot', 'rating_count_ver', and 'prime_genre'. Not all column names are self-explanatory in this case, but details about each column can be found in the data set [documentation](https://www.kaggle.com/ramamet4/app-store-apple-data-set-10k-apps/home)."
   ]
  },
  {
   "cell_type": "code",
   "execution_count": 4,
   "metadata": {},
   "outputs": [
    {
     "name": "stdout",
     "output_type": "stream",
     "text": [
      "['App', 'Category', 'Rating', 'Reviews', 'Size', 'Installs', 'Type', 'Price', 'Content Rating', 'Genres', 'Last Updated', 'Current Ver', 'Android Ver'] \n",
      "\n",
      "['Photo Editor & Candy Camera & Grid & ScrapBook', 'ART_AND_DESIGN', '4.1', '159', '19M', '10,000+', 'Free', '0', 'Everyone', 'Art & Design', 'January 7, 2018', '1.0.0', '4.0.3 and up'] \n",
      "\n",
      "['Coloring book moana', 'ART_AND_DESIGN', '3.9', '967', '14M', '500,000+', 'Free', '0', 'Everyone', 'Art & Design;Pretend Play', 'January 15, 2018', '2.0.0', '4.0.3 and up'] \n",
      "\n",
      "['U Launcher Lite – FREE Live Cool Themes, Hide Apps', 'ART_AND_DESIGN', '4.7', '87510', '8.7M', '5,000,000+', 'Free', '0', 'Everyone', 'Art & Design', 'August 1, 2018', '1.2.4', '4.0.3 and up'] \n",
      "\n",
      "['Sketch - Draw & Paint', 'ART_AND_DESIGN', '4.5', '215644', '25M', '50,000,000+', 'Free', '0', 'Teen', 'Art & Design', 'June 8, 2018', 'Varies with device', '4.2 and up'] \n",
      "\n",
      "['Pixel Draw - Number Art Coloring Book', 'ART_AND_DESIGN', '4.3', '967', '2.8M', '100,000+', 'Free', '0', 'Everyone', 'Art & Design;Creativity', 'June 20, 2018', '1.1', '4.4 and up'] \n",
      "\n",
      "Number of rows: 10841\n",
      "Number of columns: 13\n"
     ]
    }
   ],
   "source": [
    "# Google Play data set\n",
    "android_header, android_apps = open_data('googleplaystore.csv')\n",
    "\n",
    "print(android_header, '\\n')\n",
    "explore_data(android_apps)"
   ]
  },
  {
   "cell_type": "markdown",
   "metadata": {},
   "source": [
    "The Google Play data set has 10841 apps and 13 columns. The columns that might be useful for the purpose of our analysis are 'App', 'Category', 'Reviews', 'Installs', 'Type', 'Price', and 'Genres'."
   ]
  },
  {
   "cell_type": "markdown",
   "metadata": {},
   "source": [
    "## Data cleaning\n",
    "### Remove wrong data\n",
    "According to the [discussion section](https://www.kaggle.com/lava18/google-play-store-apps/discussion/66015) of the android data set, the data of row 10472 is wrong. This row has a missing value in the 'Category' column and will be removed."
   ]
  },
  {
   "cell_type": "code",
   "execution_count": 5,
   "metadata": {},
   "outputs": [],
   "source": [
    "del android_apps[10472]"
   ]
  },
  {
   "cell_type": "markdown",
   "metadata": {},
   "source": [
    "### Remove repeated data\n",
    "We will check if the apps have repeated entries in each data set and only keep an entry for each app based on a selected criterion. For the App Store data set, the criteria used is the number of user ratings, and for the Google Play data set, the criteria used is the number of reviews. The purpose of these criteria is to select the most recent entry."
   ]
  },
  {
   "cell_type": "code",
   "execution_count": 6,
   "metadata": {},
   "outputs": [],
   "source": [
    "def remove_repeated(dataset, id_col, count_col):\n",
    "    '''Removes repeated apps from the data set.'''\n",
    "\n",
    "    apps_count = {}\n",
    "\n",
    "    # Get the highest count for each app\n",
    "    for idx, app in enumerate(dataset):\n",
    "\n",
    "        app_id = app[id_col]\n",
    "        count = int(app[count_col])\n",
    "\n",
    "        if app_id in apps_count:\n",
    "\n",
    "            if apps_count[app_id][1] < count: apps_count[app_id] = (idx, count)\n",
    "            \n",
    "        else:\n",
    "            apps_count[app_id] = (idx, count)\n",
    "\n",
    "    # Remove repeated entries\n",
    "    keep = [False] * len(dataset)\n",
    "\n",
    "    for app in apps_count: keep[apps_count[app][0]] = True\n",
    "\n",
    "    removed = [app[1] for app in list(itertools.compress(dataset, [not i for i in keep]))]\n",
    "    \n",
    "    dataset = list(itertools.compress(dataset, keep))\n",
    "    \n",
    "    print('Number of entries removed:', len(removed))\n",
    "    print('Number of entries kept:', len(dataset))\n",
    "    \n",
    "    return dataset, removed"
   ]
  },
  {
   "cell_type": "code",
   "execution_count": 7,
   "metadata": {},
   "outputs": [
    {
     "name": "stdout",
     "output_type": "stream",
     "text": [
      "Number of entries removed: 0\n",
      "Number of entries kept: 7197\n"
     ]
    }
   ],
   "source": [
    "ios_apps, removed = remove_repeated(ios_apps, 0, 5)"
   ]
  },
  {
   "cell_type": "code",
   "execution_count": 8,
   "metadata": {},
   "outputs": [
    {
     "name": "stdout",
     "output_type": "stream",
     "text": [
      "Number of entries removed: 1181\n",
      "Number of entries kept: 9659\n"
     ]
    }
   ],
   "source": [
    "android_apps, removed = remove_repeated(android_apps, 0, 3)"
   ]
  },
  {
   "cell_type": "markdown",
   "metadata": {},
   "source": [
    "### Remove non-English apps\n",
    "We are only interested in keeping apps that are directed toward an English-speaking audience. English text usually includes letters from the English alphabet, numbers composed of digits from 0 to 9, punctuation marks (., !, ?, ;, etc.), and other symbols (+, *, /, etc.). All these characters that are specific to English text are encoded using the ASCII standard. Each ASCII character has a corresponding number between 0 and 127 associated with it. However, some English app names use emojis or other symbols (™, — (em dash), – (en dash), etc.) that fall outside of the ASCII range. To minimize the impact of data loss, we'll only remove an app if its name has more than three non-ASCII characters."
   ]
  },
  {
   "cell_type": "code",
   "execution_count": 9,
   "metadata": {},
   "outputs": [],
   "source": [
    "def remove_non_english(dataset, name_col):\n",
    "    '''Removes non-English apps from the data set.'''\n",
    "\n",
    "    keep = [sum(ord(char) > 127 for char in app[name_col]) <= 3 for app in dataset]\n",
    "\n",
    "    removed = [app[name_col] for app in list(itertools.compress(dataset, [not i for i in keep]))]\n",
    "    \n",
    "    dataset = list(itertools.compress(dataset, keep))\n",
    "    \n",
    "    print('Number of entries removed:', len(removed))\n",
    "    print('Number of entries kept:', len(dataset))\n",
    "\n",
    "    return dataset, removed"
   ]
  },
  {
   "cell_type": "code",
   "execution_count": 10,
   "metadata": {},
   "outputs": [
    {
     "name": "stdout",
     "output_type": "stream",
     "text": [
      "Number of entries removed: 1014\n",
      "Number of entries kept: 6183\n"
     ]
    }
   ],
   "source": [
    "ios_apps, removed = remove_non_english(ios_apps, 1)\n",
    "#print(removed)"
   ]
  },
  {
   "cell_type": "code",
   "execution_count": 11,
   "metadata": {},
   "outputs": [
    {
     "name": "stdout",
     "output_type": "stream",
     "text": [
      "Number of entries removed: 45\n",
      "Number of entries kept: 9614\n"
     ]
    }
   ],
   "source": [
    "android_apps, removed = remove_non_english(android_apps, 0)\n",
    "#print(removed)"
   ]
  },
  {
   "cell_type": "markdown",
   "metadata": {},
   "source": [
    "### Remove paid apps\n",
    "As we mentioned in the introduction, we only build apps that are free to download and install, and our primary source of revenue consists of in-app ads. Below, we remove the paid apps from both data sets."
   ]
  },
  {
   "cell_type": "code",
   "execution_count": 12,
   "metadata": {},
   "outputs": [],
   "source": [
    "def remove_paid(dataset, price_col):\n",
    "    '''Removes paid apps from the data set.'''\n",
    "\n",
    "    keep = [app[price_col] == '0' or app[price_col] == '0.0' for app in dataset]\n",
    "\n",
    "    length = len(dataset)\n",
    "    \n",
    "    dataset = list(itertools.compress(dataset, keep))\n",
    "    \n",
    "    print('Number of entries removed:', length - len(dataset))\n",
    "    print('Number of entries kept:', len(dataset))\n",
    "\n",
    "    return dataset"
   ]
  },
  {
   "cell_type": "code",
   "execution_count": 13,
   "metadata": {},
   "outputs": [
    {
     "name": "stdout",
     "output_type": "stream",
     "text": [
      "Number of entries removed: 2961\n",
      "Number of entries kept: 3222\n"
     ]
    }
   ],
   "source": [
    "ios_apps = remove_paid(ios_apps, 4)"
   ]
  },
  {
   "cell_type": "code",
   "execution_count": 14,
   "metadata": {},
   "outputs": [
    {
     "name": "stdout",
     "output_type": "stream",
     "text": [
      "Number of entries removed: 750\n",
      "Number of entries kept: 8864\n"
     ]
    }
   ],
   "source": [
    "android_apps = remove_paid(android_apps, 7)"
   ]
  },
  {
   "cell_type": "markdown",
   "metadata": {},
   "source": [
    "## Data analysis\n",
    "\n",
    "### Most common apps by genre\n",
    "As we mentioned in the introduction, we aim to determine the kinds of apps that are likely to attract more users. To minimize risks and overhead, our validation strategy for an app idea is comprised of three steps:\n",
    "\n",
    "1. Build a minimal Android version of the app, and add it to Google Play;\n",
    "2. If the app has a good response from users, we then develop it further;\n",
    "3. If the app is profitable after six months, we also build an iOS version of the app and add it to the App Store.\n",
    "\n",
    "Because our end goal is to add the app on both the App Store and Google Play, we need to find app profiles that are successful in both markets. We will begin by getting a sense of the most common genres for each market. For this, we'll build a frequency table for the `prime_genre` column of the App Store data set, and the `Genres` and `Category` columns of the Google Play data set.\n",
    "\n",
    "We'll build two functions we can use to analyze the frequency tables:\n",
    " * One function to generate frequency tables that show percentages\n",
    " * Another function that we can use to display the percentages in a descending order"
   ]
  },
  {
   "cell_type": "code",
   "execution_count": 15,
   "metadata": {},
   "outputs": [],
   "source": [
    "def freq_table(dataset, col):\n",
    "    '''Generates a frequency table that shows percentages for the specified column.'''\n",
    "\n",
    "    table = {}\n",
    "    \n",
    "    for app in dataset:\n",
    "        \n",
    "        genre = app[col]\n",
    "        \n",
    "        if genre in table:\n",
    "            \n",
    "            table[genre] += 1\n",
    "        else:\n",
    "            table[genre] = 1\n",
    "\n",
    "    table = {k: v / len(dataset) * 100 for k, v in table.items()}\n",
    "    \n",
    "    return table\n",
    "\n",
    "def display_table(table):\n",
    "    '''Displays the values of the table in descending order.'''\n",
    "    \n",
    "    table = sorted(table.items(), key = lambda x: x[1], reverse = True)\n",
    "    \n",
    "    for genre in table: print('{}: {:.1f}'.format(genre[0], genre[1]))"
   ]
  },
  {
   "cell_type": "markdown",
   "metadata": {},
   "source": [
    "We start by examining the frequency table for the `prime_genre` column of the App Store data set."
   ]
  },
  {
   "cell_type": "code",
   "execution_count": 16,
   "metadata": {},
   "outputs": [
    {
     "name": "stdout",
     "output_type": "stream",
     "text": [
      "Games: 58.2\n",
      "Entertainment: 7.9\n",
      "Photo & Video: 5.0\n",
      "Education: 3.7\n",
      "Social Networking: 3.3\n",
      "Shopping: 2.6\n",
      "Utilities: 2.5\n",
      "Sports: 2.1\n",
      "Music: 2.0\n",
      "Health & Fitness: 2.0\n",
      "Productivity: 1.7\n",
      "Lifestyle: 1.6\n",
      "News: 1.3\n",
      "Travel: 1.2\n",
      "Finance: 1.1\n",
      "Weather: 0.9\n",
      "Food & Drink: 0.8\n",
      "Reference: 0.6\n",
      "Business: 0.5\n",
      "Book: 0.4\n",
      "Navigation: 0.2\n",
      "Medical: 0.2\n",
      "Catalogs: 0.1\n"
     ]
    }
   ],
   "source": [
    "ios_genre_table = freq_table(ios_apps, -5)\n",
    "display_table(ios_genre_table)"
   ]
  },
  {
   "cell_type": "markdown",
   "metadata": {},
   "source": [
    "We can see that among the free English apps, more than half (58.2%) are games. Entertainment apps are close to 8%, followed by photo and video apps (5%). Only 3.7% of the apps are designed for education, followed by social networking apps which amount for 3.3% of the apps in our data set. \n",
    "\n",
    "It seems that the free English apps of the App Store are mostly designed for fun (games, entertainment, photo and video, social networking, sports, music, etc.). In contrast, apps with practical purposes (education, shopping, utilities, productivity, lifestyle, etc.) are rarer. However, the fact that fun apps are the most numerous doesn't imply that they have the most significant number of users. The demand might not be the same as the offer. \n",
    "\n",
    "Let's continue by examining the `Genres` and `Category` columns of the Google Play data set (two columns which seem to be related)."
   ]
  },
  {
   "cell_type": "code",
   "execution_count": 17,
   "metadata": {},
   "outputs": [
    {
     "name": "stdout",
     "output_type": "stream",
     "text": [
      "FAMILY: 18.9\n",
      "GAME: 9.7\n",
      "TOOLS: 8.5\n",
      "BUSINESS: 4.6\n",
      "LIFESTYLE: 3.9\n",
      "PRODUCTIVITY: 3.9\n",
      "FINANCE: 3.7\n",
      "MEDICAL: 3.5\n",
      "SPORTS: 3.4\n",
      "PERSONALIZATION: 3.3\n",
      "COMMUNICATION: 3.2\n",
      "HEALTH_AND_FITNESS: 3.1\n",
      "PHOTOGRAPHY: 2.9\n",
      "NEWS_AND_MAGAZINES: 2.8\n",
      "SOCIAL: 2.7\n",
      "TRAVEL_AND_LOCAL: 2.3\n",
      "SHOPPING: 2.2\n",
      "BOOKS_AND_REFERENCE: 2.1\n",
      "DATING: 1.9\n",
      "VIDEO_PLAYERS: 1.8\n",
      "MAPS_AND_NAVIGATION: 1.4\n",
      "FOOD_AND_DRINK: 1.2\n",
      "EDUCATION: 1.2\n",
      "ENTERTAINMENT: 1.0\n",
      "LIBRARIES_AND_DEMO: 0.9\n",
      "AUTO_AND_VEHICLES: 0.9\n",
      "HOUSE_AND_HOME: 0.8\n",
      "WEATHER: 0.8\n",
      "EVENTS: 0.7\n",
      "PARENTING: 0.7\n",
      "ART_AND_DESIGN: 0.6\n",
      "COMICS: 0.6\n",
      "BEAUTY: 0.6\n"
     ]
    }
   ],
   "source": [
    "android_category_table = freq_table(android_apps, 1)\n",
    "display_table(android_category_table)"
   ]
  },
  {
   "cell_type": "markdown",
   "metadata": {},
   "source": [
    "The landscape seems different on Google Play, since there are not that many apps designed for fun. A significant number of apps are designed for practical purposes (family, tools, business, lifestyle, productivity, etc.). However, if we investigate this further, we can see that the family category (which accounts for almost 19% of the apps) means mostly games for kids.\n",
    "\n",
    "[![img](https://s3.amazonaws.com/dq-content/350/py1m8_family.png)](https://play.google.com/store/apps/category/FAMILY?hl=en)\n",
    "\n",
    "Even so, practical apps seem to have a better representation on Google Play compared to App Store. This picture is also confirmed by the frequency table we see for the `Genres` column:"
   ]
  },
  {
   "cell_type": "code",
   "execution_count": 18,
   "metadata": {},
   "outputs": [
    {
     "name": "stdout",
     "output_type": "stream",
     "text": [
      "Tools: 8.4\n",
      "Entertainment: 6.1\n",
      "Education: 5.3\n",
      "Business: 4.6\n",
      "Lifestyle: 3.9\n",
      "Productivity: 3.9\n",
      "Finance: 3.7\n",
      "Medical: 3.5\n",
      "Sports: 3.5\n",
      "Personalization: 3.3\n",
      "Communication: 3.2\n",
      "Action: 3.1\n",
      "Health & Fitness: 3.1\n",
      "Photography: 2.9\n",
      "News & Magazines: 2.8\n",
      "Social: 2.7\n",
      "Travel & Local: 2.3\n",
      "Shopping: 2.2\n",
      "Books & Reference: 2.1\n",
      "Simulation: 2.0\n",
      "Dating: 1.9\n",
      "Arcade: 1.9\n",
      "Video Players & Editors: 1.8\n",
      "Casual: 1.8\n",
      "Maps & Navigation: 1.4\n",
      "Food & Drink: 1.2\n",
      "Puzzle: 1.1\n",
      "Racing: 1.0\n",
      "Libraries & Demo: 0.9\n",
      "Role Playing: 0.9\n",
      "Auto & Vehicles: 0.9\n",
      "Strategy: 0.9\n",
      "House & Home: 0.8\n",
      "Weather: 0.8\n",
      "Events: 0.7\n",
      "Adventure: 0.7\n",
      "Comics: 0.6\n",
      "Art & Design: 0.6\n",
      "Beauty: 0.6\n",
      "Parenting: 0.5\n",
      "Card: 0.5\n",
      "Casino: 0.4\n",
      "Trivia: 0.4\n",
      "Educational;Education: 0.4\n",
      "Board: 0.4\n",
      "Educational: 0.4\n",
      "Education;Education: 0.3\n",
      "Word: 0.3\n",
      "Casual;Pretend Play: 0.2\n",
      "Music: 0.2\n",
      "Entertainment;Music & Video: 0.2\n",
      "Puzzle;Brain Games: 0.2\n",
      "Racing;Action & Adventure: 0.2\n",
      "Casual;Brain Games: 0.1\n",
      "Casual;Action & Adventure: 0.1\n",
      "Arcade;Action & Adventure: 0.1\n",
      "Action;Action & Adventure: 0.1\n",
      "Educational;Pretend Play: 0.1\n",
      "Entertainment;Brain Games: 0.1\n",
      "Simulation;Action & Adventure: 0.1\n",
      "Board;Brain Games: 0.1\n",
      "Parenting;Education: 0.1\n",
      "Art & Design;Creativity: 0.1\n",
      "Educational;Brain Games: 0.1\n",
      "Casual;Creativity: 0.1\n",
      "Parenting;Music & Video: 0.1\n",
      "Education;Pretend Play: 0.1\n",
      "Education;Creativity: 0.0\n",
      "Role Playing;Pretend Play: 0.0\n",
      "Education;Brain Games: 0.0\n",
      "Entertainment;Creativity: 0.0\n",
      "Educational;Creativity: 0.0\n",
      "Adventure;Action & Adventure: 0.0\n",
      "Role Playing;Action & Adventure: 0.0\n",
      "Educational;Action & Adventure: 0.0\n",
      "Entertainment;Action & Adventure: 0.0\n",
      "Puzzle;Action & Adventure: 0.0\n",
      "Education;Action & Adventure: 0.0\n",
      "Education;Music & Video: 0.0\n",
      "Casual;Education: 0.0\n",
      "Music;Music & Video: 0.0\n",
      "Simulation;Pretend Play: 0.0\n",
      "Puzzle;Creativity: 0.0\n",
      "Sports;Action & Adventure: 0.0\n",
      "Board;Action & Adventure: 0.0\n",
      "Entertainment;Pretend Play: 0.0\n",
      "Video Players & Editors;Music & Video: 0.0\n",
      "Comics;Creativity: 0.0\n",
      "Lifestyle;Pretend Play: 0.0\n",
      "Art & Design;Pretend Play: 0.0\n",
      "Entertainment;Education: 0.0\n",
      "Arcade;Pretend Play: 0.0\n",
      "Art & Design;Action & Adventure: 0.0\n",
      "Strategy;Action & Adventure: 0.0\n",
      "Music & Audio;Music & Video: 0.0\n",
      "Health & Fitness;Education: 0.0\n",
      "Casual;Music & Video: 0.0\n",
      "Travel & Local;Action & Adventure: 0.0\n",
      "Tools;Education: 0.0\n",
      "Parenting;Brain Games: 0.0\n",
      "Video Players & Editors;Creativity: 0.0\n",
      "Health & Fitness;Action & Adventure: 0.0\n",
      "Trivia;Education: 0.0\n",
      "Lifestyle;Education: 0.0\n",
      "Card;Action & Adventure: 0.0\n",
      "Books & Reference;Education: 0.0\n",
      "Simulation;Education: 0.0\n",
      "Puzzle;Education: 0.0\n",
      "Adventure;Education: 0.0\n",
      "Role Playing;Brain Games: 0.0\n",
      "Strategy;Education: 0.0\n",
      "Racing;Pretend Play: 0.0\n",
      "Communication;Creativity: 0.0\n",
      "Strategy;Creativity: 0.0\n"
     ]
    }
   ],
   "source": [
    "android_genre_table = freq_table(android_apps, -4)\n",
    "display_table(android_genre_table)"
   ]
  },
  {
   "cell_type": "markdown",
   "metadata": {},
   "source": [
    "The difference between the `Genres` and the `Category` columns is not crystal clear. One thing we can notice is that the `Genres` column is much more granular (it has more categories). We're only looking for the bigger picture at the moment, so we'll only work with the `Category` column moving forward.\n",
    "\n",
    "So far, we found that the App Store is dominated by apps designed for fun, while Google Play shows a more balanced landscape of both practical and for-fun apps. Now we'd like to get an idea about the kind of apps that have most users.\n",
    "\n",
    "### Most popular apps by genre\n",
    "\n",
    "One way to find out what genres are the most popular (have the most users) is to calculate the average number of installs for each app genre. For the Google Play data set, we can find this information in the `Installs` column, but for the App Store data set this information is missing. As a workaround, we'll take the total number of user ratings as a proxy, which we can find in the `rating_count_tot` app."
   ]
  },
  {
   "cell_type": "code",
   "execution_count": 19,
   "metadata": {},
   "outputs": [],
   "source": [
    "def average_table(dataset, group_col, avg_col):\n",
    "\n",
    "    groups_avg = {}\n",
    "    \n",
    "    for app in dataset:\n",
    "        \n",
    "        group = app[group_col]\n",
    "        val = float(app[avg_col])\n",
    "       \n",
    "        if group in groups_avg:\n",
    "            \n",
    "            aux = groups_avg[group]\n",
    "            groups_avg[group] = (aux[0] + val, aux[1] + 1)\n",
    "        else:\n",
    "            groups_avg[group] = (val, 1)\n",
    "\n",
    "    groups_avg = {k: v[0] / v[1] for k, v in groups_avg.items()}\n",
    "    \n",
    "    return groups_avg"
   ]
  },
  {
   "cell_type": "code",
   "execution_count": 20,
   "metadata": {},
   "outputs": [
    {
     "name": "stdout",
     "output_type": "stream",
     "text": [
      "Navigation: 86090.3\n",
      "Reference: 74942.1\n",
      "Social Networking: 71548.3\n",
      "Music: 57326.5\n",
      "Weather: 52279.9\n",
      "Book: 39758.5\n",
      "Food & Drink: 33333.9\n",
      "Finance: 31467.9\n",
      "Photo & Video: 28441.5\n",
      "Travel: 28243.8\n",
      "Shopping: 26919.7\n",
      "Health & Fitness: 23298.0\n",
      "Sports: 23008.9\n",
      "Games: 22788.7\n",
      "News: 21248.0\n",
      "Productivity: 21028.4\n",
      "Utilities: 18684.5\n",
      "Lifestyle: 16485.8\n",
      "Entertainment: 14029.8\n",
      "Business: 7491.1\n",
      "Education: 7004.0\n",
      "Catalogs: 4004.0\n",
      "Medical: 612.0\n"
     ]
    }
   ],
   "source": [
    "ios_ratings_avg = average_table(ios_apps, -5, 5)\n",
    "display_table(ios_ratings_avg)"
   ]
  },
  {
   "cell_type": "markdown",
   "metadata": {},
   "source": [
    "Navigation apps have the highest number of average user reviews. However, this figure is heavily influenced by Waze and Google Maps, which together have close to half a million user reviews."
   ]
  },
  {
   "cell_type": "code",
   "execution_count": 21,
   "metadata": {},
   "outputs": [
    {
     "name": "stdout",
     "output_type": "stream",
     "text": [
      "Waze - GPS Navigation, Maps & Real-time Traffic: 345046\n",
      "Google Maps - Navigation & Transit: 154911\n",
      "Geocaching®: 12811\n",
      "CoPilot GPS – Car Navigation & Offline Maps: 3582\n",
      "ImmobilienScout24: Real Estate Search in Germany: 187\n",
      "Railway Route Search: 5\n"
     ]
    }
   ],
   "source": [
    "for app in ios_apps:\n",
    "\n",
    "    if app[-5] == 'Navigation': print('{}: {}'.format(app[1], app[5]))"
   ]
  },
  {
   "cell_type": "markdown",
   "metadata": {},
   "source": [
    "The same pattern applies to social networking apps, where the average number is heavily influenced by a few giants like Facebook, Pinterest, Skype, etc. Same applies to music apps, where a few big players like Pandora, Spotify and Shazam heavily influence the average number. Reference apps have 74,942 user ratings on average, but it's actually the Bible and Dictionary.com which skew up the average rating."
   ]
  },
  {
   "cell_type": "code",
   "execution_count": 22,
   "metadata": {},
   "outputs": [
    {
     "name": "stdout",
     "output_type": "stream",
     "text": [
      "Bible: 985920\n",
      "Dictionary.com Dictionary & Thesaurus: 200047\n",
      "Dictionary.com Dictionary & Thesaurus for iPad: 54175\n",
      "Google Translate: 26786\n",
      "Muslim Pro: Ramadan 2017 Prayer Times, Azan, Quran: 18418\n",
      "New Furniture Mods - Pocket Wiki & Game Tools for Minecraft PC Edition: 17588\n",
      "Merriam-Webster Dictionary: 16849\n",
      "Night Sky: 12122\n",
      "City Maps for Minecraft PE - The Best Maps for Minecraft Pocket Edition (MCPE): 8535\n",
      "LUCKY BLOCK MOD ™ for Minecraft PC Edition - The Best Pocket Wiki & Mods Installer Tools: 4693\n",
      "GUNS MODS for Minecraft PC Edition - Mods Tools: 1497\n",
      "Guides for Pokémon GO - Pokemon GO News and Cheats: 826\n",
      "WWDC: 762\n",
      "Horror Maps for Minecraft PE - Download The Scariest Maps for Minecraft Pocket Edition (MCPE) Free: 718\n",
      "VPN Express: 14\n",
      "Real Bike Traffic Rider Virtual Reality Glasses: 8\n",
      "教えて!goo: 0\n",
      "Jishokun-Japanese English Dictionary & Translator: 0\n"
     ]
    }
   ],
   "source": [
    "for app in ios_apps:\n",
    "\n",
    "    if app[-5] == 'Reference': print('{}: {}'.format(app[1], app[5]))"
   ]
  },
  {
   "cell_type": "markdown",
   "metadata": {},
   "source": [
    "However, this niche seems to show some potential. One thing we could do is take another popular book and turn it into an app where we could add different features besides the raw version of the book. This might include daily quotes from the book, an audio version of the book, quizzes about the book, etc. On top of that, we could also embed a dictionary within the app, so users don't need to exit our app to look up words in an external app.\n",
    "\n",
    "This idea seems to fit well with the fact that the App Store is dominated by for-fun apps. This suggests the market might be a bit saturated with for-fun apps, which means a practical app might have more of a chance to stand out among the huge number of apps on the App Store.\n",
    "\n",
    "Other genres that seem popular include weather, book, food and drink, or finance. The book genre seem to overlap a bit with the app idea we described above, but the other genres don't seem too interesting to us:\n",
    "\n",
    "- Weather apps — people generally don't spend too much time in-app, and the chances of making profit from in-app adds are low. Also, getting reliable live weather data may require us to connect our apps to non-free APIs.\n",
    "\n",
    "- Food and drink — examples here include Starbucks, Dunkin' Donuts, McDonald's, etc. So making a popular food and drink app requires actual cooking and a delivery service, which is outside the scope of our company.\n",
    "\n",
    "- Finance apps — these apps involve banking, paying bills, money transfer, etc. Building a finance app requires domain knowledge, and we don't want to hire a finance expert just to build an app.\n",
    "\n",
    "Now let's analyze the Google Play market a bit.\n",
    "\n",
    "For the Google Play market, we have data about the number of installs, so we should be able to get a clearer picture of genre popularity. However, the install numbers don't seem precise enough — we can see that most values are open-ended (100+, 1,000+, 5,000+, etc.):"
   ]
  },
  {
   "cell_type": "code",
   "execution_count": 23,
   "metadata": {},
   "outputs": [
    {
     "name": "stdout",
     "output_type": "stream",
     "text": [
      "1,000,000+: 15.7\n",
      "100,000+: 11.6\n",
      "10,000,000+: 10.5\n",
      "10,000+: 10.2\n",
      "1,000+: 8.4\n",
      "100+: 6.9\n",
      "5,000,000+: 6.8\n",
      "500,000+: 5.6\n",
      "50,000+: 4.8\n",
      "5,000+: 4.5\n",
      "10+: 3.5\n",
      "500+: 3.2\n",
      "50,000,000+: 2.3\n",
      "100,000,000+: 2.1\n",
      "50+: 1.9\n",
      "5+: 0.8\n",
      "1+: 0.5\n",
      "500,000,000+: 0.3\n",
      "1,000,000,000+: 0.2\n",
      "0+: 0.0\n",
      "0: 0.0\n"
     ]
    }
   ],
   "source": [
    "android_installs_table = freq_table(android_apps, 5)\n",
    "display_table(android_installs_table)"
   ]
  },
  {
   "cell_type": "markdown",
   "metadata": {},
   "source": [
    "Although this data is not very precise, it suffices for getting an idea which app genres attract the most users. We're going to leave the numbers as they are, which means that we'll consider that an app with 100,000+ installs has 100,000 installs, and an app with 1,000,000+ installs has 1,000,000 installs, and so on."
   ]
  },
  {
   "cell_type": "code",
   "execution_count": 24,
   "metadata": {},
   "outputs": [
    {
     "name": "stdout",
     "output_type": "stream",
     "text": [
      "COMMUNICATION: 38456119.2\n",
      "VIDEO_PLAYERS: 24727872.5\n",
      "SOCIAL: 23253652.1\n",
      "PHOTOGRAPHY: 17840110.4\n",
      "PRODUCTIVITY: 16787331.3\n",
      "GAME: 15588015.6\n",
      "TRAVEL_AND_LOCAL: 13984077.7\n",
      "ENTERTAINMENT: 11640705.9\n",
      "TOOLS: 10801391.3\n",
      "NEWS_AND_MAGAZINES: 9549178.5\n",
      "BOOKS_AND_REFERENCE: 8767811.9\n",
      "SHOPPING: 7036877.3\n",
      "PERSONALIZATION: 5201482.6\n",
      "WEATHER: 5074486.2\n",
      "HEALTH_AND_FITNESS: 4188822.0\n",
      "MAPS_AND_NAVIGATION: 4056941.8\n",
      "FAMILY: 3695641.8\n",
      "SPORTS: 3638640.1\n",
      "ART_AND_DESIGN: 1986335.1\n",
      "FOOD_AND_DRINK: 1924897.7\n",
      "EDUCATION: 1833495.1\n",
      "BUSINESS: 1712290.1\n",
      "LIFESTYLE: 1437816.3\n",
      "FINANCE: 1387692.5\n",
      "HOUSE_AND_HOME: 1331540.6\n",
      "DATING: 854028.8\n",
      "COMICS: 817657.3\n",
      "AUTO_AND_VEHICLES: 647317.8\n",
      "LIBRARIES_AND_DEMO: 638503.7\n",
      "PARENTING: 542603.6\n",
      "BEAUTY: 513151.9\n",
      "EVENTS: 253542.2\n",
      "MEDICAL: 120550.6\n"
     ]
    }
   ],
   "source": [
    "for app in android_apps:\n",
    "\n",
    "    n_installs = app[5]\n",
    "    n_installs = n_installs.replace(',', '')\n",
    "    n_installs = n_installs.replace('+', '')\n",
    "    \n",
    "    app[5] = float(n_installs)\n",
    "    \n",
    "android_ratings_avg = average_table(android_apps, 1, 5)\n",
    "display_table(android_ratings_avg)"
   ]
  },
  {
   "cell_type": "markdown",
   "metadata": {},
   "source": [
    "Communication apps have the most average installs (38,456,119). This number is heavily skewed up by a few apps that have over one billion installs (WhatsApp, Facebook Messenger, Skype, Google Chrome, Gmail, and Hangouts)."
   ]
  },
  {
   "cell_type": "code",
   "execution_count": 25,
   "metadata": {},
   "outputs": [
    {
     "name": "stdout",
     "output_type": "stream",
     "text": [
      "WhatsApp Messenger: 1000000000.0\n",
      "Messenger – Text and Video Chat for Free: 1000000000.0\n",
      "Skype - free IM & video calls: 1000000000.0\n",
      "Google Chrome: Fast & Secure: 1000000000.0\n",
      "Gmail: 1000000000.0\n",
      "Hangouts: 1000000000.0\n"
     ]
    }
   ],
   "source": [
    "for app in android_apps:\n",
    "\n",
    "    if app[1] == 'COMMUNICATION' and app[5] >= 1E9: print('{}: {}'.format(app[0], app[5]))"
   ]
  },
  {
   "cell_type": "markdown",
   "metadata": {},
   "source": [
    "This pattern is repeated for video players apps (Youtube, Google Play Movies & TV, or MX Player), social apps (Facebook, Instagram, Google+, etc.), photography apps (Google Photos and other popular photo editors) or productivity apps (Microsoft Word, Dropbox, Google Calendar, Evernote, etc.).\n",
    "\n",
    "Again, the main concern is that these app genres might seem more popular than they are. Moreover, these niches seem to be dominated by a few giants who are hard to compete against. The game genre seems pretty popular, but previously we found out this part of the market seems a bit saturated, so we'd like to come up with a different app recommendation if possible. The books and reference genre looks reasonably popular, with an average number of installs of 8,767,811. It's interesting to explore this in more depth, since we found this genre has some potential to work well on the App Store, and our aim is to recommend an app genre that shows potential for being profitable on both the App Store and Google Play."
   ]
  },
  {
   "cell_type": "code",
   "execution_count": 26,
   "metadata": {},
   "outputs": [
    {
     "name": "stdout",
     "output_type": "stream",
     "text": [
      "E-Book Read - Read Book for free: 50000.0\n",
      "Download free book with green book: 100000.0\n",
      "Wikipedia: 10000000.0\n",
      "Cool Reader: 10000000.0\n",
      "Free Panda Radio Music: 100000.0\n",
      "Book store: 1000000.0\n",
      "FBReader: Favorite Book Reader: 10000000.0\n",
      "English Grammar Complete Handbook: 500000.0\n",
      "Free Books - Spirit Fanfiction and Stories: 1000000.0\n",
      "Google Play Books: 1000000000.0\n",
      "AlReader -any text book reader: 5000000.0\n",
      "Offline English Dictionary: 100000.0\n",
      "Offline: English to Tagalog Dictionary: 500000.0\n",
      "FamilySearch Tree: 1000000.0\n",
      "Cloud of Books: 1000000.0\n",
      "Recipes of Prophetic Medicine for free: 500000.0\n",
      "ReadEra – free ebook reader: 1000000.0\n",
      "Anonymous caller detection: 10000.0\n",
      "Ebook Reader: 5000000.0\n",
      "Litnet - E-books: 100000.0\n",
      "Read books online: 5000000.0\n",
      "English to Urdu Dictionary: 500000.0\n",
      "eBoox: book reader fb2 epub zip: 1000000.0\n",
      "English Persian Dictionary: 500000.0\n",
      "Flybook: 500000.0\n",
      "All Maths Formulas: 1000000.0\n",
      "Ancestry: 5000000.0\n",
      "HTC Help: 10000000.0\n",
      "English translation from Bengali: 100000.0\n",
      "Pdf Book Download - Read Pdf Book: 100000.0\n",
      "Free Book Reader: 100000.0\n",
      "eBoox new: Reader for fb2 epub zip books: 50000.0\n",
      "Only 30 days in English, the guideline is guaranteed: 500000.0\n",
      "Moon+ Reader: 10000000.0\n",
      "SH-02J Owner's Manual (Android 8.0): 50000.0\n",
      "English-Myanmar Dictionary: 1000000.0\n",
      "Golden Dictionary (EN-AR): 1000000.0\n",
      "All Language Translator Free: 1000000.0\n",
      "Azpen eReader: 500000.0\n",
      "URBANO V 02 instruction manual: 100000.0\n",
      "Bible: 100000000.0\n",
      "C Programs and Reference: 50000.0\n",
      "C Offline Tutorial: 1000.0\n",
      "C Programs Handbook: 50000.0\n",
      "Amazon Kindle: 100000000.0\n",
      "Aab e Hayat Full Novel: 100000.0\n",
      "Aldiko Book Reader: 10000000.0\n",
      "Google I/O 2018: 500000.0\n",
      "R Language Reference Guide: 10000.0\n",
      "Learn R Programming Full: 5000.0\n",
      "R Programing Offline Tutorial: 1000.0\n",
      "Guide for R Programming: 5.0\n",
      "Learn R Programming: 10.0\n",
      "R Quick Reference Big Data: 1000.0\n",
      "V Made: 100000.0\n",
      "Wattpad 📖 Free Books: 100000000.0\n",
      "Dictionary - WordWeb: 5000000.0\n",
      "Guide (for X-MEN): 100000.0\n",
      "AC Air condition Troubleshoot,Repair,Maintenance: 5000.0\n",
      "AE Bulletins: 1000.0\n",
      "Ae Allah na Dai (Rasa): 10000.0\n",
      "50000 Free eBooks & Free AudioBooks: 5000000.0\n",
      "Ag PhD Field Guide: 10000.0\n",
      "Ag PhD Deficiencies: 10000.0\n",
      "Ag PhD Planting Population Calculator: 1000.0\n",
      "Ag PhD Soybean Diseases: 1000.0\n",
      "Fertilizer Removal By Crop: 50000.0\n",
      "A-J Media Vault: 50.0\n",
      "Al-Quran (Free): 10000000.0\n",
      "Al Quran (Tafsir & by Word): 500000.0\n",
      "Al Quran Indonesia: 10000000.0\n",
      "Al'Quran Bahasa Indonesia: 10000000.0\n",
      "Al Quran Al karim: 1000000.0\n",
      "Al-Muhaffiz: 50000.0\n",
      "Al Quran : EAlim - Translations & MP3 Offline: 5000000.0\n",
      "Al-Quran 30 Juz free copies: 500000.0\n",
      "Koran Read &MP3 30 Juz Offline: 1000000.0\n",
      "Hafizi Quran 15 lines per page: 1000000.0\n",
      "Quran for Android: 10000000.0\n",
      "Surah Al-Waqiah: 100000.0\n",
      "Hisnul Al Muslim - Hisn Invocations & Adhkaar: 100000.0\n",
      "Satellite AR: 1000000.0\n",
      "Audiobooks from Audible: 100000000.0\n",
      "Kinot & Eichah for Tisha B'Av: 10000.0\n",
      "AW Tozer Devotionals - Daily: 5000.0\n",
      "Tozer Devotional -Series 1: 1000.0\n",
      "The Pursuit of God: 1000.0\n",
      "AY Sing: 5000.0\n",
      "Ay Hasnain k Nana Milad Naat: 10000.0\n",
      "Ay Mohabbat Teri Khatir Novel: 10000.0\n",
      "Arizona Statutes, ARS (AZ Law): 1000.0\n",
      "Oxford A-Z of English Usage: 1000000.0\n",
      "BD Fishpedia: 1000.0\n",
      "BD All Sim Offer: 10000.0\n",
      "Youboox - Livres, BD et magazines: 500000.0\n",
      "B&H Kids AR: 10000.0\n",
      "B y H Niños ES: 5000.0\n",
      "Dictionary.com: Find Definitions for English Words: 10000000.0\n",
      "English Dictionary - Offline: 10000000.0\n",
      "Bible KJV: 5000000.0\n",
      "Borneo Bible, BM Bible: 10000.0\n",
      "MOD Black for BM: 100.0\n",
      "BM Box: 1000.0\n",
      "Anime Mod for BM: 100.0\n",
      "NOOK: Read eBooks & Magazines: 10000000.0\n",
      "NOOK Audiobooks: 500000.0\n",
      "NOOK App for NOOK Devices: 500000.0\n",
      "Browsery by Barnes & Noble: 5000.0\n",
      "bp e-store: 1000.0\n",
      "Brilliant Quotes: Life, Love, Family & Motivation: 1000000.0\n",
      "BR Ambedkar Biography & Quotes: 10000.0\n",
      "BU Alsace: 100.0\n",
      "Catholic La Bu Zo Kam: 500.0\n",
      "Khrifa Hla Bu (Solfa): 10.0\n",
      "Kristian Hla Bu: 10000.0\n",
      "SA HLA BU: 1000.0\n",
      "Learn SAP BW: 500.0\n",
      "Learn SAP BW on HANA: 500.0\n",
      "CA Laws 2018 (California Laws and Codes): 5000.0\n",
      "Bootable Methods(USB-CD-DVD): 10000.0\n",
      "cloudLibrary: 100000.0\n",
      "SDA Collegiate Quarterly: 500.0\n",
      "Sabbath School: 100000.0\n",
      "Cypress College Library: 100.0\n",
      "Stats Royale for Clash Royale: 1000000.0\n",
      "GATE 21 years CS Papers(2011-2018 Solved): 50.0\n",
      "Learn CT Scan Of Head: 5000.0\n",
      "Easy Cv maker 2018: 10000.0\n",
      "How to Write CV: 100000.0\n",
      "CW Nuclear: 1000.0\n",
      "CY Spray nozzle: 10.0\n",
      "BibleRead En Cy Zh Yue: 5.0\n",
      "CZ-Help: 5.0\n",
      "Modlitební knížka CZ: 500.0\n",
      "Guide for DB Xenoverse: 10000.0\n",
      "Guide for DB Xenoverse 2: 10000.0\n",
      "Guide for IMS DB: 10.0\n",
      "DC HSEMA: 5000.0\n",
      "DC Public Library: 1000.0\n",
      "Painting Lulu DC Super Friends: 1000.0\n",
      "Dictionary: 10000000.0\n",
      "Fix Error Google Playstore: 1000.0\n",
      "D. H. Lawrence Poems FREE: 1000.0\n",
      "Bilingual Dictionary Audio App: 5000.0\n",
      "DM Screen: 10000.0\n",
      "wikiHow: how to do anything: 1000000.0\n",
      "Dr. Doug's Tips: 1000.0\n",
      "Bible du Semeur-BDS (French): 50000.0\n",
      "La citadelle du musulman: 50000.0\n",
      "DV 2019 Entry Guide: 10000.0\n",
      "DV 2019 - EDV Photo & Form: 50000.0\n",
      "DV 2018 Winners Guide: 1000.0\n",
      "EB Annual Meetings: 1000.0\n",
      "EC - AP & Telangana: 5000.0\n",
      "TN Patta Citta & EC: 10000.0\n",
      "AP Stamps and Registration: 10000.0\n",
      "CompactiMa EC pH Calibration: 100.0\n",
      "EGW Writings 2: 100000.0\n",
      "EGW Writings: 1000000.0\n",
      "Bible with EGW Comments: 100000.0\n",
      "My Little Pony AR Guide: 1000000.0\n",
      "SDA Sabbath School Quarterly: 500000.0\n",
      "Duaa Ek Ibaadat: 5000.0\n",
      "Spanish English Translator: 10000000.0\n",
      "Dictionary - Merriam-Webster: 10000000.0\n",
      "JW Library: 10000000.0\n",
      "Oxford Dictionary of English : Free: 10000000.0\n",
      "English Hindi Dictionary: 10000000.0\n",
      "English to Hindi Dictionary: 5000000.0\n",
      "EP Research Service: 1000.0\n",
      "Hymnes et Louanges: 100000.0\n",
      "EU Charter: 1000.0\n",
      "EU Data Protection: 1000.0\n",
      "EU IP Codes: 100.0\n",
      "EW PDF: 5.0\n",
      "BakaReader EX: 100000.0\n",
      "EZ Quran: 50000.0\n",
      "FA Part 1 & 2 Past Papers Solved Free – Offline: 5000.0\n",
      "La Fe de Jesus: 1000.0\n",
      "La Fe de Jesús: 500.0\n",
      "Le Fe de Jesus: 500.0\n",
      "Florida - Pocket Brainbook: 1000.0\n",
      "Florida Statutes (FL Code): 1000.0\n",
      "English To Shona Dictionary: 10000.0\n",
      "Greek Bible FP (Audio): 1000.0\n",
      "Golden Dictionary (FR-AR): 500000.0\n",
      "Fanfic-FR: 5000.0\n",
      "Bulgarian French Dictionary Fr: 10000.0\n",
      "Chemin (fr): 1000.0\n",
      "The SCP Foundation DB fr nn5n: 1000.0\n"
     ]
    }
   ],
   "source": [
    "for app in android_apps:\n",
    "\n",
    "    if app[1] == 'BOOKS_AND_REFERENCE': print('{}: {}'.format(app[0], app[5]))"
   ]
  },
  {
   "cell_type": "markdown",
   "metadata": {
    "colab_type": "text",
    "id": "j4vZcL-Udw5G"
   },
   "source": [
    "The book and reference genre includes a variety of apps: software for processing and reading ebooks, various collections of libraries, dictionaries, tutorials on programming or languages, etc. It seems there's still a small number of extremely popular apps that skew the average:"
   ]
  },
  {
   "cell_type": "code",
   "execution_count": 27,
   "metadata": {},
   "outputs": [
    {
     "name": "stdout",
     "output_type": "stream",
     "text": [
      "Google Play Books: 1000000000.0\n",
      "Bible: 100000000.0\n",
      "Amazon Kindle: 100000000.0\n",
      "Wattpad 📖 Free Books: 100000000.0\n",
      "Audiobooks from Audible: 100000000.0\n"
     ]
    }
   ],
   "source": [
    "for app in android_apps:\n",
    "\n",
    "    if app[1] == 'BOOKS_AND_REFERENCE' and app[5] >= 100E6: print('{}: {}'.format(app[0], app[5]))"
   ]
  },
  {
   "cell_type": "markdown",
   "metadata": {
    "colab_type": "text",
    "id": "jGuGD7ODdw5K"
   },
   "source": [
    "However, it looks like there are only a few very popular apps, so this market still shows potential. Let's try to get some app ideas based on the kind of apps that are somewhere in the middle in terms of popularity (between 1,000,000 and 100,000,000 downloads):"
   ]
  },
  {
   "cell_type": "code",
   "execution_count": 28,
   "metadata": {},
   "outputs": [
    {
     "name": "stdout",
     "output_type": "stream",
     "text": [
      "Wikipedia: 10000000.0\n",
      "Cool Reader: 10000000.0\n",
      "Book store: 1000000.0\n",
      "FBReader: Favorite Book Reader: 10000000.0\n",
      "Free Books - Spirit Fanfiction and Stories: 1000000.0\n",
      "AlReader -any text book reader: 5000000.0\n",
      "FamilySearch Tree: 1000000.0\n",
      "Cloud of Books: 1000000.0\n",
      "ReadEra – free ebook reader: 1000000.0\n",
      "Ebook Reader: 5000000.0\n",
      "Read books online: 5000000.0\n",
      "eBoox: book reader fb2 epub zip: 1000000.0\n",
      "All Maths Formulas: 1000000.0\n",
      "Ancestry: 5000000.0\n",
      "HTC Help: 10000000.0\n",
      "Moon+ Reader: 10000000.0\n",
      "English-Myanmar Dictionary: 1000000.0\n",
      "Golden Dictionary (EN-AR): 1000000.0\n",
      "All Language Translator Free: 1000000.0\n",
      "Bible: 100000000.0\n",
      "Amazon Kindle: 100000000.0\n",
      "Aldiko Book Reader: 10000000.0\n",
      "Wattpad 📖 Free Books: 100000000.0\n",
      "Dictionary - WordWeb: 5000000.0\n",
      "50000 Free eBooks & Free AudioBooks: 5000000.0\n",
      "Al-Quran (Free): 10000000.0\n",
      "Al Quran Indonesia: 10000000.0\n",
      "Al'Quran Bahasa Indonesia: 10000000.0\n",
      "Al Quran Al karim: 1000000.0\n",
      "Al Quran : EAlim - Translations & MP3 Offline: 5000000.0\n",
      "Koran Read &MP3 30 Juz Offline: 1000000.0\n",
      "Hafizi Quran 15 lines per page: 1000000.0\n",
      "Quran for Android: 10000000.0\n",
      "Satellite AR: 1000000.0\n",
      "Audiobooks from Audible: 100000000.0\n",
      "Oxford A-Z of English Usage: 1000000.0\n",
      "Dictionary.com: Find Definitions for English Words: 10000000.0\n",
      "English Dictionary - Offline: 10000000.0\n",
      "Bible KJV: 5000000.0\n",
      "NOOK: Read eBooks & Magazines: 10000000.0\n",
      "Brilliant Quotes: Life, Love, Family & Motivation: 1000000.0\n",
      "Stats Royale for Clash Royale: 1000000.0\n",
      "Dictionary: 10000000.0\n",
      "wikiHow: how to do anything: 1000000.0\n",
      "EGW Writings: 1000000.0\n",
      "My Little Pony AR Guide: 1000000.0\n",
      "Spanish English Translator: 10000000.0\n",
      "Dictionary - Merriam-Webster: 10000000.0\n",
      "JW Library: 10000000.0\n",
      "Oxford Dictionary of English : Free: 10000000.0\n",
      "English Hindi Dictionary: 10000000.0\n",
      "English to Hindi Dictionary: 5000000.0\n"
     ]
    }
   ],
   "source": [
    "for app in android_apps:\n",
    "\n",
    "    if app[1] == 'BOOKS_AND_REFERENCE' and app[5] >= 1E6 and app[5] <= 100E6: print('{}: {}'.format(app[0], app[5]))"
   ]
  },
  {
   "cell_type": "markdown",
   "metadata": {},
   "source": [
    "This niche seems to be dominated by software for processing and reading ebooks, as well as various collections of libraries and dictionaries. Hence, it's probably not a good idea to build similar apps since there'll be some significant competition.\n",
    "\n",
    "We also notice there are quite a few apps built around the book Quran, which suggests that building an app around a popular book can be profitable. It seems that taking a popular book (perhaps a more recent book) and turning it into an app could be profitable for both the Google Play and the App Store markets.\n",
    "\n",
    "However, it looks like the market is already full of libraries, so we need to add some special features besides the raw version of the book. This might include daily quotes from the book, an audio version of the book, quizzes on the book, a forum where people can discuss the book, etc.\n",
    "\n",
    "\n",
    "## Conclusions\n",
    "This project analyzed data about the apps for the App Store and Google Play markets to recommend an app profile that can be profitable for both markets. We concluded that taking a popular book (perhaps a more recent book) and turning it into an app could be a good idea. The markets are already full of libraries, so we need to add some special features besides the raw version of the book. This might include daily quotes from the book, an audio version of the book, quizzes on the book, a forum where people can discuss the book, etc."
   ]
  }
 ],
 "metadata": {
  "kernelspec": {
   "display_name": "Python 3",
   "language": "python",
   "name": "python3"
  },
  "language_info": {
   "codemirror_mode": {
    "name": "ipython",
    "version": 3
   },
   "file_extension": ".py",
   "mimetype": "text/x-python",
   "name": "python",
   "nbconvert_exporter": "python",
   "pygments_lexer": "ipython3",
   "version": "3.8.3"
  }
 },
 "nbformat": 4,
 "nbformat_minor": 4
}
