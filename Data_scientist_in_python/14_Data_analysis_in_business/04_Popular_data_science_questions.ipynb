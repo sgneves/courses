{
 "cells": [
  {
   "cell_type": "markdown",
   "metadata": {},
   "source": [
    "# Popular data science questions"
   ]
  },
  {
   "cell_type": "markdown",
   "metadata": {},
   "source": [
    "## Introduction\n",
    "\n",
    "The goal of this project is to determine what content should a data science education company create, based on interest by subject.\n",
    "\n",
    "The website [Data Science Stack Exchange](https://datascience.stackexchange.com) is used to see what kind of content is more popular. This website is part of [Stack Exchange](https://en.wikipedia.org/wiki/Stack_Exchange), which is a network of question-and-answer websites on topics in diverse fields, each site covering a specific topic. Questions, answers and users are subject to a reputation award process, allowing the websites to be self-moderating. This award process gives us confidence in using Stack Exchange in our study.\n",
    "\n",
    "The figure below exemplifies the tagging system used by DSSE, which allows us to quantify how many questions are asked about each subject. This information is used to assess what kind of content is more popular.\n",
    "\n",
    "![tags_ds](https://dq-content.s3.amazonaws.com/469/tags_ds.png)"
   ]
  },
  {
   "cell_type": "markdown",
   "metadata": {},
   "source": [
    "## Querying the data from DSSE\n",
    "\n",
    "Stack Exchange provides an open-source tool named [Data Explorer](https://data.stackexchange.com/datascience/query/new) (SEDE), which is used for running arbitrary queries against public data from its network. SEDE uses a [Transact-SQL](https://en.wikipedia.org/wiki/Transact-SQL), which is Microsoft's and Sybase's proprietary extension to the SQL. This study will focus on table Posts, and in particular, on the following columns:\n",
    "\n",
    "* Id - Identification number for the post.\n",
    "* PostTypeId - Identification number for the type of post.\n",
    "* CreationDate - The date and time of creation of the post.\n",
    "* Score - The post's score.\n",
    "* ViewCount - How many times the post was viewed.\n",
    "* Tags - What tags were used.\n",
    "* AnswerCount - How many answers the question got (only applicable to question posts).\n",
    "* FavoriteCount - How many times the question was favored (only applicable to question posts).\n",
    "\n",
    "The different types of post are:\n",
    "\n",
    "1. Question\n",
    "2. Answer\n",
    "3. Wiki\n",
    "4. TagWikiExcerpt\n",
    "5. TagWiki\n",
    "6. ModeratorNomination\n",
    "7. WikiPlaceholder\n",
    "8. PrivilegeWiki\n",
    "\n",
    "To check the number of posts of each type, we run the following query:\n",
    "\n",
    "```\n",
    "SELECT PostTypeId, COUNT(*)\n",
    "  FROM Posts\n",
    " GROUP BY PostTypeId;\n",
    "```\n",
    "\n",
    "which gives us\n",
    "\n",
    "PostTypeId | Count\n",
    "--- | ---\n",
    "1 | 26285\n",
    "2 | 29547\n",
    "4 | 246\n",
    "5 | 246\n",
    "6 | 11\n",
    "7 | 1\n",
    "\n",
    "Questions and answers types of posts have a much higher volume than the remaining types of posts. This study will focus on the questions posts of 2019. We run the following query to get the data and after export it to the file `2019_questions.csv`.\n",
    "\n",
    "```\n",
    "SELECT Id, CreationDate, Score, ViewCount, Tags, AnswerCount, FavoriteCount\n",
    "  FROM Posts\n",
    " WHERE PostTypeId = 1 AND YEAR(CreationDate) = 2019;\n",
    "```\n",
    "\n",
    "## Checking and cleaning the data"
   ]
  },
  {
   "cell_type": "code",
   "execution_count": 1,
   "metadata": {},
   "outputs": [
    {
     "data": {
      "text/html": [
       "<div>\n",
       "<style scoped>\n",
       "    .dataframe tbody tr th:only-of-type {\n",
       "        vertical-align: middle;\n",
       "    }\n",
       "\n",
       "    .dataframe tbody tr th {\n",
       "        vertical-align: top;\n",
       "    }\n",
       "\n",
       "    .dataframe thead th {\n",
       "        text-align: right;\n",
       "    }\n",
       "</style>\n",
       "<table border=\"1\" class=\"dataframe\">\n",
       "  <thead>\n",
       "    <tr style=\"text-align: right;\">\n",
       "      <th></th>\n",
       "      <th>Id</th>\n",
       "      <th>CreationDate</th>\n",
       "      <th>Score</th>\n",
       "      <th>ViewCount</th>\n",
       "      <th>Tags</th>\n",
       "      <th>AnswerCount</th>\n",
       "      <th>FavoriteCount</th>\n",
       "    </tr>\n",
       "  </thead>\n",
       "  <tbody>\n",
       "    <tr>\n",
       "      <th>0</th>\n",
       "      <td>44419</td>\n",
       "      <td>2019-01-23 09:21:13</td>\n",
       "      <td>1</td>\n",
       "      <td>21</td>\n",
       "      <td>&lt;machine-learning&gt;&lt;data-mining&gt;</td>\n",
       "      <td>0</td>\n",
       "      <td>NaN</td>\n",
       "    </tr>\n",
       "    <tr>\n",
       "      <th>1</th>\n",
       "      <td>44420</td>\n",
       "      <td>2019-01-23 09:34:01</td>\n",
       "      <td>0</td>\n",
       "      <td>25</td>\n",
       "      <td>&lt;machine-learning&gt;&lt;regression&gt;&lt;linear-regressi...</td>\n",
       "      <td>0</td>\n",
       "      <td>NaN</td>\n",
       "    </tr>\n",
       "    <tr>\n",
       "      <th>2</th>\n",
       "      <td>44423</td>\n",
       "      <td>2019-01-23 09:58:41</td>\n",
       "      <td>2</td>\n",
       "      <td>1651</td>\n",
       "      <td>&lt;python&gt;&lt;time-series&gt;&lt;forecast&gt;&lt;forecasting&gt;</td>\n",
       "      <td>0</td>\n",
       "      <td>NaN</td>\n",
       "    </tr>\n",
       "    <tr>\n",
       "      <th>3</th>\n",
       "      <td>44427</td>\n",
       "      <td>2019-01-23 10:57:09</td>\n",
       "      <td>0</td>\n",
       "      <td>55</td>\n",
       "      <td>&lt;machine-learning&gt;&lt;scikit-learn&gt;&lt;pca&gt;</td>\n",
       "      <td>1</td>\n",
       "      <td>NaN</td>\n",
       "    </tr>\n",
       "    <tr>\n",
       "      <th>4</th>\n",
       "      <td>44428</td>\n",
       "      <td>2019-01-23 11:02:15</td>\n",
       "      <td>0</td>\n",
       "      <td>19</td>\n",
       "      <td>&lt;dataset&gt;&lt;bigdata&gt;&lt;data&gt;&lt;speech-to-text&gt;</td>\n",
       "      <td>0</td>\n",
       "      <td>NaN</td>\n",
       "    </tr>\n",
       "    <tr>\n",
       "      <th>...</th>\n",
       "      <td>...</td>\n",
       "      <td>...</td>\n",
       "      <td>...</td>\n",
       "      <td>...</td>\n",
       "      <td>...</td>\n",
       "      <td>...</td>\n",
       "      <td>...</td>\n",
       "    </tr>\n",
       "    <tr>\n",
       "      <th>8834</th>\n",
       "      <td>55413</td>\n",
       "      <td>2019-07-10 09:08:31</td>\n",
       "      <td>1</td>\n",
       "      <td>39</td>\n",
       "      <td>&lt;pca&gt;&lt;dimensionality-reduction&gt;&lt;linear-algebra&gt;</td>\n",
       "      <td>1</td>\n",
       "      <td>1.0</td>\n",
       "    </tr>\n",
       "    <tr>\n",
       "      <th>8835</th>\n",
       "      <td>55414</td>\n",
       "      <td>2019-07-10 09:34:55</td>\n",
       "      <td>0</td>\n",
       "      <td>113</td>\n",
       "      <td>&lt;keras&gt;&lt;weight-initialization&gt;</td>\n",
       "      <td>0</td>\n",
       "      <td>NaN</td>\n",
       "    </tr>\n",
       "    <tr>\n",
       "      <th>8836</th>\n",
       "      <td>55415</td>\n",
       "      <td>2019-07-10 09:45:37</td>\n",
       "      <td>1</td>\n",
       "      <td>212</td>\n",
       "      <td>&lt;python&gt;&lt;visualization&gt;&lt;seaborn&gt;</td>\n",
       "      <td>1</td>\n",
       "      <td>NaN</td>\n",
       "    </tr>\n",
       "    <tr>\n",
       "      <th>8837</th>\n",
       "      <td>55416</td>\n",
       "      <td>2019-07-10 09:59:56</td>\n",
       "      <td>0</td>\n",
       "      <td>22</td>\n",
       "      <td>&lt;time-series&gt;</td>\n",
       "      <td>0</td>\n",
       "      <td>NaN</td>\n",
       "    </tr>\n",
       "    <tr>\n",
       "      <th>8838</th>\n",
       "      <td>55419</td>\n",
       "      <td>2019-07-10 10:31:23</td>\n",
       "      <td>1</td>\n",
       "      <td>168</td>\n",
       "      <td>&lt;k-nn&gt;</td>\n",
       "      <td>1</td>\n",
       "      <td>0.0</td>\n",
       "    </tr>\n",
       "  </tbody>\n",
       "</table>\n",
       "<p>8839 rows × 7 columns</p>\n",
       "</div>"
      ],
      "text/plain": [
       "         Id        CreationDate  Score  ViewCount  \\\n",
       "0     44419 2019-01-23 09:21:13      1         21   \n",
       "1     44420 2019-01-23 09:34:01      0         25   \n",
       "2     44423 2019-01-23 09:58:41      2       1651   \n",
       "3     44427 2019-01-23 10:57:09      0         55   \n",
       "4     44428 2019-01-23 11:02:15      0         19   \n",
       "...     ...                 ...    ...        ...   \n",
       "8834  55413 2019-07-10 09:08:31      1         39   \n",
       "8835  55414 2019-07-10 09:34:55      0        113   \n",
       "8836  55415 2019-07-10 09:45:37      1        212   \n",
       "8837  55416 2019-07-10 09:59:56      0         22   \n",
       "8838  55419 2019-07-10 10:31:23      1        168   \n",
       "\n",
       "                                                   Tags  AnswerCount  \\\n",
       "0                       <machine-learning><data-mining>            0   \n",
       "1     <machine-learning><regression><linear-regressi...            0   \n",
       "2          <python><time-series><forecast><forecasting>            0   \n",
       "3                 <machine-learning><scikit-learn><pca>            1   \n",
       "4              <dataset><bigdata><data><speech-to-text>            0   \n",
       "...                                                 ...          ...   \n",
       "8834    <pca><dimensionality-reduction><linear-algebra>            1   \n",
       "8835                     <keras><weight-initialization>            0   \n",
       "8836                   <python><visualization><seaborn>            1   \n",
       "8837                                      <time-series>            0   \n",
       "8838                                             <k-nn>            1   \n",
       "\n",
       "      FavoriteCount  \n",
       "0               NaN  \n",
       "1               NaN  \n",
       "2               NaN  \n",
       "3               NaN  \n",
       "4               NaN  \n",
       "...             ...  \n",
       "8834            1.0  \n",
       "8835            NaN  \n",
       "8836            NaN  \n",
       "8837            NaN  \n",
       "8838            0.0  \n",
       "\n",
       "[8839 rows x 7 columns]"
      ]
     },
     "execution_count": 1,
     "metadata": {},
     "output_type": "execute_result"
    }
   ],
   "source": [
    "# Import modules\n",
    "import pandas as pd\n",
    "import matplotlib.pyplot as plt\n",
    "\n",
    "# Read the data from file\n",
    "q_2019 = pd.read_csv(\"2019_questions.csv\", parse_dates=[\"CreationDate\"])\n",
    "q_2019"
   ]
  },
  {
   "cell_type": "code",
   "execution_count": 2,
   "metadata": {
    "scrolled": true
   },
   "outputs": [
    {
     "name": "stdout",
     "output_type": "stream",
     "text": [
      "<class 'pandas.core.frame.DataFrame'>\n",
      "RangeIndex: 8839 entries, 0 to 8838\n",
      "Data columns (total 7 columns):\n",
      " #   Column         Non-Null Count  Dtype         \n",
      "---  ------         --------------  -----         \n",
      " 0   Id             8839 non-null   int64         \n",
      " 1   CreationDate   8839 non-null   datetime64[ns]\n",
      " 2   Score          8839 non-null   int64         \n",
      " 3   ViewCount      8839 non-null   int64         \n",
      " 4   Tags           8839 non-null   object        \n",
      " 5   AnswerCount    8839 non-null   int64         \n",
      " 6   FavoriteCount  1407 non-null   float64       \n",
      "dtypes: datetime64[ns](1), float64(1), int64(4), object(1)\n",
      "memory usage: 483.5+ KB\n"
     ]
    }
   ],
   "source": [
    "q_2019.info()"
   ]
  },
  {
   "cell_type": "markdown",
   "metadata": {},
   "source": [
    "Only the column `FavoriteCount` has missing values. Maybe a missing value represents a zero value. Let’s check if the value zero is also used."
   ]
  },
  {
   "cell_type": "code",
   "execution_count": 3,
   "metadata": {},
   "outputs": [
    {
     "data": {
      "text/plain": [
       "175"
      ]
     },
     "execution_count": 3,
     "metadata": {},
     "output_type": "execute_result"
    }
   ],
   "source": [
    "(q_2019[\"FavoriteCount\"] == 0).sum()"
   ]
  },
  {
   "cell_type": "markdown",
   "metadata": {},
   "source": [
    "The value zero is also used, and so it is unclear what does a missing value means. Also, the number of missing values of the column `FavoriteCount` is very significant, and hence this column will be removed."
   ]
  },
  {
   "cell_type": "code",
   "execution_count": 4,
   "metadata": {},
   "outputs": [],
   "source": [
    "q_2019.drop(\"FavoriteCount\", axis=1, inplace=True)"
   ]
  },
  {
   "cell_type": "markdown",
   "metadata": {},
   "source": [
    "The values in the `Tags` column are strings that look like this:\n",
    "\n",
    "\"\\<python>\\<deep-learning>\\<convnet>\\<image-recognition>\""
   ]
  },
  {
   "cell_type": "markdown",
   "metadata": {},
   "source": [
    "It is not easy to work with this format. We will convert each element into a list of tags."
   ]
  },
  {
   "cell_type": "code",
   "execution_count": 5,
   "metadata": {},
   "outputs": [],
   "source": [
    "q_2019[\"Tags\"] = q_2019[\"Tags\"].str.findall(r\"<(.+?)>\")"
   ]
  },
  {
   "cell_type": "markdown",
   "metadata": {},
   "source": [
    "## Most popular tags\n",
    "\n",
    "We will now determine the most popular tags. To do so, we will consider two different popularity proxies: for each tag we'll count how many times the tag was used, and how many times a question with that tag was viewed."
   ]
  },
  {
   "cell_type": "code",
   "execution_count": 6,
   "metadata": {},
   "outputs": [],
   "source": [
    "# Get the unique tags\n",
    "tags = list(set([j for i in q_2019[\"Tags\"] for j in i]))\n",
    "\n",
    "# Calculate the number of times each tag was used and viewed\n",
    "tags = pd.DataFrame(index=tags, columns=[\"used\",\"viewed\"])\n",
    "\n",
    "def tag_popularity(row):\n",
    "\n",
    "    is_used = q_2019[\"Tags\"].apply(lambda x: True if row.name in x else False)\n",
    "    \n",
    "    row[\"used\"] = is_used.sum()\n",
    "    row[\"viewed\"] = q_2019.loc[is_used, \"ViewCount\"].sum()\n",
    "    \n",
    "    return row\n",
    "\n",
    "tags = tags.apply(tag_popularity, axis=1)"
   ]
  },
  {
   "cell_type": "markdown",
   "metadata": {},
   "source": [
    "Let’s look at the ten most popular tags for both popularity proxies."
   ]
  },
  {
   "cell_type": "code",
   "execution_count": 7,
   "metadata": {},
   "outputs": [
    {
     "data": {
      "text/plain": [
       "<AxesSubplot:title={'center':'N. of views'}>"
      ]
     },
     "execution_count": 7,
     "metadata": {},
     "output_type": "execute_result"
    },
    {
     "data": {
      "image/png": "[encoded data removed]",
      "text/plain": [
       "<Figure size 1080x504 with 2 Axes>"
      ]
     },
     "metadata": {
      "needs_background": "light"
     },
     "output_type": "display_data"
    }
   ],
   "source": [
    "fig, ax = plt.subplots(1, 2, figsize=(15,7))\n",
    "tags[\"used\"].sort_values(ascending=False).head(10).plot.bar(ax=ax[0], title=\"N. of questions\", rot=45)\n",
    "tags[\"viewed\"].sort_values(ascending=False).head(10).plot.bar(ax=ax[1], title=\"N. of views\", rot=45)"
   ]
  },
  {
   "cell_type": "markdown",
   "metadata": {},
   "source": [
    "The majority of the top 10 used tags also appear on the top 10 viewed tags. We will now consider only the tags that appear on both sets."
   ]
  },
  {
   "cell_type": "code",
   "execution_count": 8,
   "metadata": {},
   "outputs": [
    {
     "name": "stdout",
     "output_type": "stream",
     "text": [
      "['classification', 'deep-learning', 'keras', 'machine-learning', 'neural-network', 'python', 'scikit-learn', 'tensorflow']\n"
     ]
    }
   ],
   "source": [
    "# Top 10 used tags\n",
    "top_used_tags = tags[\"used\"].sort_values(ascending=False).index[:10]\n",
    "\n",
    "# Top 10 viewed tags\n",
    "top_viewed_tags = tags[\"viewed\"].sort_values(ascending=False).index[:10]\n",
    "\n",
    "# Top tags\n",
    "top_tags = sorted(list(set(top_used_tags) & set(top_viewed_tags)))\n",
    "print(top_tags)"
   ]
  },
  {
   "cell_type": "markdown",
   "metadata": {},
   "source": [
    "The tags descriptions listed below were taken from the [tags page](https://datascience.stackexchange.com/tags) on DSSE.\n",
    "\n",
    "* classification - An instance of supervised learning that identifies the category or categories which a new instance of dataset belongs.\n",
    "* deep-learning - A new area of Machine Learning research concerned with the technologies used for learning hierarchical representations of data, mainly done with deep neural networks but also with some sort of Probabilistic Graphical Models.\n",
    "* keras - A minimalist, highly modular neural network library written in Python.\n",
    "* machine-learning - Methods and principles of building \"computer systems that automatically improve with experience.\"\n",
    "* neural-network - Artificial neural networks (ANN), are composed of 'neurons' - programming constructs that mimic the properties of biological neurons. A set of weighted connections between the neurons allows information to propagate through the network to solve artificial intelligence problems without the network designer having had a model of a real system.\n",
    "* python - Use for data science questions related to the programming language Python.\n",
    "* scikit-learn - Scikit-learn is a Python module comprising of simple and efficient tool for machine learning, data mining and data analysis.\n",
    "* tensorflow - TensorFlow is an open source library for machine learning and machine intelligence. TensorFlow uses data flow graphs with tensors flowing along edges.\n",
    "\n",
    "The goal of this project is to determine what content should a data science education company create, based on interest by subject. We do not want to choose a subject that is too broad. Also, if we choose something too specific, it won’t be relevant to many people. Deep learning seems to be a good candidate. It is not too broad, and it is the third most used in questions and the forth with most views."
   ]
  },
  {
   "cell_type": "markdown",
   "metadata": {},
   "source": [
    "## Popularity of deep learning\n",
    "\n",
    "Ideally, the content we decide to create will be the most useful for as long as possible. Is deep learning just a fad? To verify this, we will look at all of the questions ever asked on DSSE. Previously, we just looked at the year 2019. We run the following query to get the data and after export it to the file `all_questions.csv`.\n",
    "\n",
    "```\n",
    "SELECT Id, CreationDate, Tags\n",
    "  FROM Posts\n",
    " WHERE PostTypeId = 1;\n",
    "```"
   ]
  },
  {
   "cell_type": "code",
   "execution_count": 9,
   "metadata": {},
   "outputs": [],
   "source": [
    "# Read the data from file\n",
    "q_all = pd.read_csv(\"all_questions.csv\", parse_dates=[\"CreationDate\"])\n",
    "\n",
    "# Convert the tags of each post into a list of tags\n",
    "q_all[\"Tags\"] = q_all[\"Tags\"].str.findall(r\"<(.+?)>\")"
   ]
  },
  {
   "cell_type": "markdown",
   "metadata": {},
   "source": [
    "The most popular tags that are directly related to deep learning are: `cnn`, `tensorflow`, `keras` and `deep-learning`."
   ]
  },
  {
   "cell_type": "code",
   "execution_count": 10,
   "metadata": {},
   "outputs": [],
   "source": [
    "deep_learning_tags = {\"cnn\", \"tensorflow\", \"keras\", \"deep-learning\"}"
   ]
  },
  {
   "cell_type": "markdown",
   "metadata": {},
   "source": [
    "Let’s create a column that has the value true if the list of tags contains any deep learning tags and false otherwise."
   ]
  },
  {
   "cell_type": "code",
   "execution_count": 11,
   "metadata": {},
   "outputs": [
    {
     "data": {
      "text/html": [
       "<div>\n",
       "<style scoped>\n",
       "    .dataframe tbody tr th:only-of-type {\n",
       "        vertical-align: middle;\n",
       "    }\n",
       "\n",
       "    .dataframe tbody tr th {\n",
       "        vertical-align: top;\n",
       "    }\n",
       "\n",
       "    .dataframe thead th {\n",
       "        text-align: right;\n",
       "    }\n",
       "</style>\n",
       "<table border=\"1\" class=\"dataframe\">\n",
       "  <thead>\n",
       "    <tr style=\"text-align: right;\">\n",
       "      <th></th>\n",
       "      <th>Id</th>\n",
       "      <th>CreationDate</th>\n",
       "      <th>Tags</th>\n",
       "      <th>Is_DL</th>\n",
       "    </tr>\n",
       "  </thead>\n",
       "  <tbody>\n",
       "    <tr>\n",
       "      <th>19220</th>\n",
       "      <td>12937</td>\n",
       "      <td>2016-07-22 09:30:22</td>\n",
       "      <td>[machine-learning, clustering, unsupervised-le...</td>\n",
       "      <td>0</td>\n",
       "    </tr>\n",
       "    <tr>\n",
       "      <th>2824</th>\n",
       "      <td>38294</td>\n",
       "      <td>2018-09-15 17:40:00</td>\n",
       "      <td>[neural-network, keras, mlp]</td>\n",
       "      <td>1</td>\n",
       "    </tr>\n",
       "    <tr>\n",
       "      <th>1521</th>\n",
       "      <td>25053</td>\n",
       "      <td>2017-11-23 14:40:25</td>\n",
       "      <td>[nlp, clustering, word2vec, similarity]</td>\n",
       "      <td>0</td>\n",
       "    </tr>\n",
       "    <tr>\n",
       "      <th>16522</th>\n",
       "      <td>23618</td>\n",
       "      <td>2017-10-08 17:34:17</td>\n",
       "      <td>[tensorflow, numerical]</td>\n",
       "      <td>1</td>\n",
       "    </tr>\n",
       "    <tr>\n",
       "      <th>13204</th>\n",
       "      <td>30628</td>\n",
       "      <td>2018-04-21 23:42:51</td>\n",
       "      <td>[machine-learning, data-mining, clustering, da...</td>\n",
       "      <td>0</td>\n",
       "    </tr>\n",
       "  </tbody>\n",
       "</table>\n",
       "</div>"
      ],
      "text/plain": [
       "          Id        CreationDate  \\\n",
       "19220  12937 2016-07-22 09:30:22   \n",
       "2824   38294 2018-09-15 17:40:00   \n",
       "1521   25053 2017-11-23 14:40:25   \n",
       "16522  23618 2017-10-08 17:34:17   \n",
       "13204  30628 2018-04-21 23:42:51   \n",
       "\n",
       "                                                    Tags  Is_DL  \n",
       "19220  [machine-learning, clustering, unsupervised-le...      0  \n",
       "2824                        [neural-network, keras, mlp]      1  \n",
       "1521             [nlp, clustering, word2vec, similarity]      0  \n",
       "16522                            [tensorflow, numerical]      1  \n",
       "13204  [machine-learning, data-mining, clustering, da...      0  "
      ]
     },
     "execution_count": 11,
     "metadata": {},
     "output_type": "execute_result"
    }
   ],
   "source": [
    "q_all[\"Is_DL\"] = q_all[\"Tags\"].apply(lambda x: 1 if len(set(x) & deep_learning_tags) > 0 else 0)\n",
    "q_all.sample(5)"
   ]
  },
  {
   "cell_type": "markdown",
   "metadata": {},
   "source": [
    "Now we will evaluate how the popularity of deep learning evolves with time. To avoid having too much variability of the results, we will group them by quarter. Since we don't have all the data for the first quarter of 2020, we'll get rid of those dates."
   ]
  },
  {
   "cell_type": "code",
   "execution_count": 12,
   "metadata": {},
   "outputs": [
    {
     "data": {
      "text/html": [
       "<div>\n",
       "<style scoped>\n",
       "    .dataframe tbody tr th:only-of-type {\n",
       "        vertical-align: middle;\n",
       "    }\n",
       "\n",
       "    .dataframe tbody tr th {\n",
       "        vertical-align: top;\n",
       "    }\n",
       "\n",
       "    .dataframe thead th {\n",
       "        text-align: right;\n",
       "    }\n",
       "</style>\n",
       "<table border=\"1\" class=\"dataframe\">\n",
       "  <thead>\n",
       "    <tr style=\"text-align: right;\">\n",
       "      <th></th>\n",
       "      <th>Id</th>\n",
       "      <th>CreationDate</th>\n",
       "      <th>Tags</th>\n",
       "      <th>Is_DL</th>\n",
       "      <th>Quarter</th>\n",
       "    </tr>\n",
       "  </thead>\n",
       "  <tbody>\n",
       "    <tr>\n",
       "      <th>10268</th>\n",
       "      <td>19545</td>\n",
       "      <td>2017-06-08 04:31:04</td>\n",
       "      <td>[neural-network, deep-learning, keras]</td>\n",
       "      <td>1</td>\n",
       "      <td>17Q2</td>\n",
       "    </tr>\n",
       "    <tr>\n",
       "      <th>7666</th>\n",
       "      <td>6440</td>\n",
       "      <td>2015-07-12 19:08:38</td>\n",
       "      <td>[deep-learning, multitask-learning]</td>\n",
       "      <td>1</td>\n",
       "      <td>15Q3</td>\n",
       "    </tr>\n",
       "    <tr>\n",
       "      <th>18627</th>\n",
       "      <td>12622</td>\n",
       "      <td>2016-07-06 04:49:45</td>\n",
       "      <td>[machine-learning, classification, naive-bayes...</td>\n",
       "      <td>0</td>\n",
       "      <td>16Q3</td>\n",
       "    </tr>\n",
       "    <tr>\n",
       "      <th>10794</th>\n",
       "      <td>9063</td>\n",
       "      <td>2015-11-26 13:07:02</td>\n",
       "      <td>[machine-learning, data-mining, nlp, parsing]</td>\n",
       "      <td>0</td>\n",
       "      <td>15Q4</td>\n",
       "    </tr>\n",
       "    <tr>\n",
       "      <th>5702</th>\n",
       "      <td>26996</td>\n",
       "      <td>2018-01-24 12:42:29</td>\n",
       "      <td>[machine-learning, tensorflow, keras, rnn, lstm]</td>\n",
       "      <td>1</td>\n",
       "      <td>18Q1</td>\n",
       "    </tr>\n",
       "  </tbody>\n",
       "</table>\n",
       "</div>"
      ],
      "text/plain": [
       "          Id        CreationDate  \\\n",
       "10268  19545 2017-06-08 04:31:04   \n",
       "7666    6440 2015-07-12 19:08:38   \n",
       "18627  12622 2016-07-06 04:49:45   \n",
       "10794   9063 2015-11-26 13:07:02   \n",
       "5702   26996 2018-01-24 12:42:29   \n",
       "\n",
       "                                                    Tags  Is_DL Quarter  \n",
       "10268             [neural-network, deep-learning, keras]      1    17Q2  \n",
       "7666                 [deep-learning, multitask-learning]      1    15Q3  \n",
       "18627  [machine-learning, classification, naive-bayes...      0    16Q3  \n",
       "10794      [machine-learning, data-mining, nlp, parsing]      0    15Q4  \n",
       "5702    [machine-learning, tensorflow, keras, rnn, lstm]      1    18Q1  "
      ]
     },
     "execution_count": 12,
     "metadata": {},
     "output_type": "execute_result"
    }
   ],
   "source": [
    "q_all = q_all[q_all[\"CreationDate\"].dt.year < 2020]\n",
    "\n",
    "def get_quarter(datetime):\n",
    "    \n",
    "    year = str(datetime.year)[-2:]\n",
    "    quarter = str(((datetime.month - 1) // 3) + 1)\n",
    "    \n",
    "    return \"{y}Q{q}\".format(y=year, q=quarter)\n",
    "\n",
    "q_all[\"Quarter\"] = q_all[\"CreationDate\"].apply(get_quarter)\n",
    "q_all.sample(5)"
   ]
  },
  {
   "cell_type": "markdown",
   "metadata": {},
   "source": [
    "For each quarter we will:\n",
    "\n",
    "* Count the number of deep learning questions.\n",
    "* Count the total number of questions.\n",
    "* Compute the ratio between the two numbers above."
   ]
  },
  {
   "cell_type": "code",
   "execution_count": 13,
   "metadata": {},
   "outputs": [],
   "source": [
    "quarterly = q_all.groupby('Quarter').agg({\"Is_DL\": ['sum', 'size']})\n",
    "\n",
    "quarterly.columns = ['DeepLearningQuestions', 'TotalQuestions']\n",
    "\n",
    "quarterly[\"DeepLearningRate\"] = quarterly[\"DeepLearningQuestions\"] /quarterly[\"TotalQuestions\"]\n",
    "\n",
    "quarterly.reset_index(inplace=True)"
   ]
  },
  {
   "cell_type": "code",
   "execution_count": 14,
   "metadata": {},
   "outputs": [
    {
     "name": "stderr",
     "output_type": "stream",
     "text": [
      "C:\\PortablePrograms\\WinPython\\python-3.8.5.amd64\\lib\\site-packages\\pandas\\plotting\\_matplotlib\\core.py:1235: UserWarning: FixedFormatter should only be used together with FixedLocator\n",
      "  ax.set_xticklabels(xticklabels)\n"
     ]
    },
    {
     "data": {
      "image/png": "[encoded data removed]",
      "text/plain": [
       "<Figure size 1728x864 with 2 Axes>"
      ]
     },
     "metadata": {
      "needs_background": "light"
     },
     "output_type": "display_data"
    }
   ],
   "source": [
    "ax1 = quarterly.plot(x=\"Quarter\", y=\"DeepLearningRate\", color=\"orange\", fontsize=16, figsize=(24,12))\n",
    "\n",
    "ax2 = quarterly.plot.bar(\"Quarter\", \"TotalQuestions\", ax=ax1, secondary_y=True, fontsize=16, rot=45)\n",
    "\n",
    "for idx, val in quarterly[\"TotalQuestions\"].iteritems():\n",
    "    ax2.text(idx, val, str(val), fontsize=16, ha=\"center\", va=\"bottom\")\n",
    "\n",
    "h1, l1 = ax1.get_legend_handles_labels()\n",
    "h2, l2 = ax2.get_legend_handles_labels()\n",
    "ax1.get_legend().remove()\n",
    "ax1.legend(h1 + h2, l1 + l2, loc='upper left', prop={\"size\": 20});"
   ]
  },
  {
   "cell_type": "markdown",
   "metadata": {},
   "source": [
    "The popularity of deep learning had a significant growth between the second quarter of 2014 and the end of 2017. By the end of this year, almost 30% of all questions were related to deep learning. During 2018 and 2019, the popularity varied between 25% and 30%. Hence, we recommend that the data science education company should create content related to deep learning."
   ]
  }
 ],
 "metadata": {
  "kernelspec": {
   "display_name": "Python 3",
   "language": "python",
   "name": "python3"
  },
  "language_info": {
   "codemirror_mode": {
    "name": "ipython",
    "version": 3
   },
   "file_extension": ".py",
   "mimetype": "text/x-python",
   "name": "python",
   "nbconvert_exporter": "python",
   "pygments_lexer": "ipython3",
   "version": "3.8.5"
  }
 },
 "nbformat": 4,
 "nbformat_minor": 4
}
