{
 "cells": [
  {
   "cell_type": "markdown",
   "metadata": {},
   "source": [
    "# Mobile app for lottery addiction\n",
    "\n",
    "A medical institute that aims to prevent and treat gambling addictions wants to build a dedicated mobile app to help lottery addicts better estimate their chances of winning. This project aims to create the logical core of the app and calculate probabilities. For the first version of the app, they want us to focus on the 6/49 lottery and build functions that enable users to answer questions like:\n",
    "\n",
    "* What is the probability of winning the big prize with a single ticket?\n",
    "* What is the probability of winning the big prize if we play 40 different tickets (or any other number)?\n",
    "* What is the probability of having at least five (or four, or three) winning numbers on a single ticket?"
   ]
  },
  {
   "cell_type": "code",
   "execution_count": 1,
   "metadata": {},
   "outputs": [],
   "source": [
    "# Import modules\n",
    "from math import comb\n",
    "from math import factorial\n",
    "import pandas as pd"
   ]
  },
  {
   "cell_type": "markdown",
   "metadata": {},
   "source": [
    "## One-ticket Probability\n",
    "\n",
    "We will now focus on writing a function that calculates the probability of winning the big prize. In the 6/49 lottery, six numbers are drawn from a set of 49 numbers that range from 1 to 49. A player wins the big prize if the six numbers on their tickets match all the six numbers drawn. We will start by calculating the probability of winning the big for a single ticket case. We discussed with the engineering team of the medical institute, and they told us we need to be aware of the following details when we write the function:\n",
    "\n",
    "* Inside the app, the user inputs six different numbers from 1 to 49.\n",
    "* Under the hood, the six numbers will come as a Python list, which will serve as the single input to our function.\n",
    "* The engineering team wants the function to print the probability value in a way that people without any probability training can understand.\n"
   ]
  },
  {
   "cell_type": "code",
   "execution_count": 2,
   "metadata": {},
   "outputs": [],
   "source": [
    "def one_ticket_probability(user_numbers):\n",
    "    \n",
    "    print(\"The chances of winning the lottery with the ticket {} is 1 in {:,}.\".format(user_numbers, comb(49, 6)))"
   ]
  },
  {
   "cell_type": "code",
   "execution_count": 3,
   "metadata": {},
   "outputs": [
    {
     "name": "stdout",
     "output_type": "stream",
     "text": [
      "The chances of winning the lottery with the ticket [1, 2, 3, 4, 5, 6] is 1 in 13,983,816.\n",
      "The chances of winning the lottery with the ticket [7, 10, 15, 23, 32, 44] is 1 in 13,983,816.\n"
     ]
    }
   ],
   "source": [
    "one_ticket_probability([1,2,3,4,5,6])\n",
    "one_ticket_probability([7,10,15,23,32,44])"
   ]
  },
  {
   "cell_type": "markdown",
   "metadata": {},
   "source": [
    "## Historical data check\n",
    "\n",
    "The engineering team of the medical institute also want users to be able to compare their ticket against the historical lottery data in Canada and determine whether they would have ever won by now. We'll use a [data set]( https://www.kaggle.com/datascienceai/lottery-dataset) from Kaggle that contains historical data coming from the Canada 6/49 lottery."
   ]
  },
  {
   "cell_type": "code",
   "execution_count": 4,
   "metadata": {},
   "outputs": [
    {
     "data": {
      "text/html": [
       "<div>\n",
       "<style scoped>\n",
       "    .dataframe tbody tr th:only-of-type {\n",
       "        vertical-align: middle;\n",
       "    }\n",
       "\n",
       "    .dataframe tbody tr th {\n",
       "        vertical-align: top;\n",
       "    }\n",
       "\n",
       "    .dataframe thead th {\n",
       "        text-align: right;\n",
       "    }\n",
       "</style>\n",
       "<table border=\"1\" class=\"dataframe\">\n",
       "  <thead>\n",
       "    <tr style=\"text-align: right;\">\n",
       "      <th></th>\n",
       "      <th>PRODUCT</th>\n",
       "      <th>DRAW NUMBER</th>\n",
       "      <th>SEQUENCE NUMBER</th>\n",
       "      <th>DRAW DATE</th>\n",
       "      <th>NUMBER DRAWN 1</th>\n",
       "      <th>NUMBER DRAWN 2</th>\n",
       "      <th>NUMBER DRAWN 3</th>\n",
       "      <th>NUMBER DRAWN 4</th>\n",
       "      <th>NUMBER DRAWN 5</th>\n",
       "      <th>NUMBER DRAWN 6</th>\n",
       "      <th>BONUS NUMBER</th>\n",
       "    </tr>\n",
       "  </thead>\n",
       "  <tbody>\n",
       "    <tr>\n",
       "      <th>1666</th>\n",
       "      <td>649</td>\n",
       "      <td>1667</td>\n",
       "      <td>0</td>\n",
       "      <td>1/12/2000</td>\n",
       "      <td>6</td>\n",
       "      <td>14</td>\n",
       "      <td>20</td>\n",
       "      <td>32</td>\n",
       "      <td>37</td>\n",
       "      <td>44</td>\n",
       "      <td>24</td>\n",
       "    </tr>\n",
       "    <tr>\n",
       "      <th>1134</th>\n",
       "      <td>649</td>\n",
       "      <td>1135</td>\n",
       "      <td>0</td>\n",
       "      <td>12/7/1994</td>\n",
       "      <td>7</td>\n",
       "      <td>15</td>\n",
       "      <td>31</td>\n",
       "      <td>36</td>\n",
       "      <td>38</td>\n",
       "      <td>39</td>\n",
       "      <td>48</td>\n",
       "    </tr>\n",
       "    <tr>\n",
       "      <th>2391</th>\n",
       "      <td>649</td>\n",
       "      <td>2392</td>\n",
       "      <td>0</td>\n",
       "      <td>12/23/2006</td>\n",
       "      <td>4</td>\n",
       "      <td>6</td>\n",
       "      <td>19</td>\n",
       "      <td>22</td>\n",
       "      <td>23</td>\n",
       "      <td>45</td>\n",
       "      <td>43</td>\n",
       "    </tr>\n",
       "    <tr>\n",
       "      <th>1533</th>\n",
       "      <td>649</td>\n",
       "      <td>1534</td>\n",
       "      <td>0</td>\n",
       "      <td>10/3/1998</td>\n",
       "      <td>1</td>\n",
       "      <td>6</td>\n",
       "      <td>17</td>\n",
       "      <td>20</td>\n",
       "      <td>33</td>\n",
       "      <td>44</td>\n",
       "      <td>26</td>\n",
       "    </tr>\n",
       "    <tr>\n",
       "      <th>1318</th>\n",
       "      <td>649</td>\n",
       "      <td>1319</td>\n",
       "      <td>0</td>\n",
       "      <td>9/11/1996</td>\n",
       "      <td>12</td>\n",
       "      <td>14</td>\n",
       "      <td>20</td>\n",
       "      <td>21</td>\n",
       "      <td>39</td>\n",
       "      <td>43</td>\n",
       "      <td>48</td>\n",
       "    </tr>\n",
       "  </tbody>\n",
       "</table>\n",
       "</div>"
      ],
      "text/plain": [
       "      PRODUCT  DRAW NUMBER  SEQUENCE NUMBER   DRAW DATE  NUMBER DRAWN 1  \\\n",
       "1666      649         1667                0   1/12/2000               6   \n",
       "1134      649         1135                0   12/7/1994               7   \n",
       "2391      649         2392                0  12/23/2006               4   \n",
       "1533      649         1534                0   10/3/1998               1   \n",
       "1318      649         1319                0   9/11/1996              12   \n",
       "\n",
       "      NUMBER DRAWN 2  NUMBER DRAWN 3  NUMBER DRAWN 4  NUMBER DRAWN 5  \\\n",
       "1666              14              20              32              37   \n",
       "1134              15              31              36              38   \n",
       "2391               6              19              22              23   \n",
       "1533               6              17              20              33   \n",
       "1318              14              20              21              39   \n",
       "\n",
       "      NUMBER DRAWN 6  BONUS NUMBER  \n",
       "1666              44            24  \n",
       "1134              39            48  \n",
       "2391              45            43  \n",
       "1533              44            26  \n",
       "1318              43            48  "
      ]
     },
     "execution_count": 4,
     "metadata": {},
     "output_type": "execute_result"
    }
   ],
   "source": [
    "lottery = pd.read_csv(\"649.csv\")\n",
    "lottery.sample(5)"
   ]
  },
  {
   "cell_type": "code",
   "execution_count": 5,
   "metadata": {},
   "outputs": [
    {
     "name": "stdout",
     "output_type": "stream",
     "text": [
      "This data set has 3665 rows and 11 columns.\n"
     ]
    }
   ],
   "source": [
    "print(\"This data set has {} rows and {} columns.\".format(lottery.shape[0], lottery.shape[1]))"
   ]
  },
  {
   "cell_type": "markdown",
   "metadata": {},
   "source": [
    "The engineering team wants us to write a function that prints:\n",
    "* the number of times the combination selected occurred in the Canada data set.\n",
    "* the probability of winning the big prize in the next drawing with that combination."
   ]
  },
  {
   "cell_type": "code",
   "execution_count": 6,
   "metadata": {},
   "outputs": [
    {
     "data": {
      "text/plain": [
       "809     {32, 33, 34, 35, 17, 24}\n",
       "1045     {37, 8, 42, 47, 48, 49}\n",
       "1077    {33, 36, 10, 46, 25, 30}\n",
       "3001    {37, 11, 44, 15, 16, 22}\n",
       "2567    {36, 37, 45, 26, 29, 31}\n",
       "dtype: object"
      ]
     },
     "execution_count": 6,
     "metadata": {},
     "output_type": "execute_result"
    }
   ],
   "source": [
    "# Extract all the winning numbers\n",
    "winning_numbers = lottery.apply(lambda x: set(x[-6:]), axis=1)\n",
    "winning_numbers.sample(5)"
   ]
  },
  {
   "cell_type": "code",
   "execution_count": 7,
   "metadata": {},
   "outputs": [],
   "source": [
    "# Function to display the number of times the combination inputted by the user occurred in the past and the probability of\n",
    "# winning the big prize in the next drawing with that combination\n",
    "def check_historical_occurence(user_numbers, winning_numbers):\n",
    "    \n",
    "    n_ocurrences = (set(user_numbers) == winning_numbers).sum()\n",
    "    print(\"The ticket {} has been drawn {} time(s) in the past.\".format(user_numbers, n_ocurrences))\n",
    "    \n",
    "    print(\"The chances of winning the next lottery with the ticket {} is 1 in {:,}.\".format(user_numbers, comb(49, 6)))"
   ]
  },
  {
   "cell_type": "code",
   "execution_count": 8,
   "metadata": {},
   "outputs": [
    {
     "name": "stdout",
     "output_type": "stream",
     "text": [
      "The ticket [1, 2, 3, 4, 5, 6] has been drawn 0 time(s) in the past.\n",
      "The chances of winning the next lottery with the ticket [1, 2, 3, 4, 5, 6] is 1 in 13,983,816.\n",
      "\n",
      "The ticket [32, 38, 40, 22, 25, 31] has been drawn 1 time(s) in the past.\n",
      "The chances of winning the next lottery with the ticket [32, 38, 40, 22, 25, 31] is 1 in 13,983,816.\n"
     ]
    }
   ],
   "source": [
    "check_historical_occurence([1,2,3,4,5,6], winning_numbers)\n",
    "print(\"\")\n",
    "check_historical_occurence([32, 38, 40, 22, 25, 31], winning_numbers)"
   ]
  },
  {
   "cell_type": "markdown",
   "metadata": {},
   "source": [
    "## Multi-ticket probability\n",
    "\n",
    "Lottery addicts usually play more than one ticket on a single drawing, thinking that this might increase their chances of winning significantly. The engineering team wants us to write a function that will allow the users to calculate the chances of winning for any number of different tickets, and gave us the following information:\n",
    "\n",
    "* The user will input the number of different tickets they want to play (without inputting the specific combinations they intend to play).\n",
    "* Our function will see an integer between 1 and 13,983,816 (the maximum number of different tickets).\n",
    "* The function should print information about the probability of winning the big prize depending on the number of different tickets played."
   ]
  },
  {
   "cell_type": "code",
   "execution_count": 9,
   "metadata": {},
   "outputs": [],
   "source": [
    "def multi_ticket_probability(n_tickets):\n",
    "\n",
    "    print(\"The chances of winning the lottery with {:,} ticket(s) is 1 in {:,}.\".format(n_tickets, round(comb(49, 6) / n_tickets)))"
   ]
  },
  {
   "cell_type": "code",
   "execution_count": 10,
   "metadata": {},
   "outputs": [
    {
     "name": "stdout",
     "output_type": "stream",
     "text": [
      "The chances of winning the lottery with 1 ticket(s) is 1 in 13,983,816.\n",
      "The chances of winning the lottery with 10 ticket(s) is 1 in 1,398,382.\n",
      "The chances of winning the lottery with 100 ticket(s) is 1 in 139,838.\n",
      "The chances of winning the lottery with 10,000 ticket(s) is 1 in 1,398.\n",
      "The chances of winning the lottery with 1,000,000 ticket(s) is 1 in 14.\n",
      "The chances of winning the lottery with 6,991,908 ticket(s) is 1 in 2.\n",
      "The chances of winning the lottery with 13,983,816 ticket(s) is 1 in 1.\n"
     ]
    }
   ],
   "source": [
    "for n_tickets in [1, 10, 100, 10000, 1000000, 6991908, 13983816]: multi_ticket_probability(n_tickets)"
   ]
  },
  {
   "cell_type": "markdown",
   "metadata": {},
   "source": [
    "## Less winning numbers\n",
    "\n",
    "In most 6/49 lotteries there are smaller prizes if a player's ticket match two, three, four, or five of the six numbers drawn. As a consequence, the users might be interested in knowing the probability of having two, three, four, or five winning numbers. The engineering team wants us to write a function that takes as input six different numbers from 1 to 49 and prints information about the probability of having between two and six winning numbers."
   ]
  },
  {
   "cell_type": "code",
   "execution_count": 11,
   "metadata": {},
   "outputs": [],
   "source": [
    "def one_ticket_all_probabilities(user_numbers):\n",
    "    \n",
    "    print(\"Your ticket {} has:\".format(user_numbers))\n",
    "    \n",
    "    for i in range(2,7):\n",
    "        \n",
    "        n_ticket_combinations = comb(6, i)\n",
    "        n_remaining_combinations = comb(43, 6 - i)\n",
    "        n_success_outcomes = n_ticket_combinations * n_remaining_combinations\n",
    "\n",
    "        print(\"1 in {:,} chances of having {} winning numbers.\".format(round(comb(49, 6) / n_success_outcomes), i))"
   ]
  },
  {
   "cell_type": "code",
   "execution_count": 12,
   "metadata": {},
   "outputs": [
    {
     "name": "stdout",
     "output_type": "stream",
     "text": [
      "Your ticket [1, 2, 3, 4, 5, 6] has:\n",
      "1 in 8 chances of having 2 winning numbers.\n",
      "1 in 57 chances of having 3 winning numbers.\n",
      "1 in 1,032 chances of having 4 winning numbers.\n",
      "1 in 54,201 chances of having 5 winning numbers.\n",
      "1 in 13,983,816 chances of having 6 winning numbers.\n"
     ]
    }
   ],
   "source": [
    "one_ticket_all_probabilities([1,2,3,4,5,6])"
   ]
  },
  {
   "cell_type": "markdown",
   "metadata": {},
   "source": [
    "## Further developments\n",
    "\n",
    "Possible features for a second version of the app are:\n",
    "\n",
    "* Making the outputs even easier to understand by adding fun analogies. E.g., we can output something along the lines \"You are 100 times more likely to be the victim of a shark attack than winning the lottery\").\n",
    "* Develop a function that outputs information on probability and historical occurrence at the same time."
   ]
  }
 ],
 "metadata": {
  "kernelspec": {
   "display_name": "Python 3",
   "language": "python",
   "name": "python3"
  },
  "language_info": {
   "codemirror_mode": {
    "name": "ipython",
    "version": 3
   },
   "file_extension": ".py",
   "mimetype": "text/x-python",
   "name": "python",
   "nbconvert_exporter": "python",
   "pygments_lexer": "ipython3",
   "version": "3.8.5"
  }
 },
 "nbformat": 4,
 "nbformat_minor": 4
}
