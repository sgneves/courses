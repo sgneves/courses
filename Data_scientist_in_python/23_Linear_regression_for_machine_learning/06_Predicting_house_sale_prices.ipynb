{
 "cells": [
  {
   "cell_type": "markdown",
   "metadata": {},
   "source": [
    "# Predicting house sale prices\n",
    "\n",
    "This project aims to predict the sale prices of houses in the city of Ames, Iowa, United States. We will use data from 2006 to 2010. You can read more about why the data was collected [here](https://doi.org/10.1080/10691898.2011.11889627). You can also read about the different columns in the data [here](https://s3.amazonaws.com/dq-content/307/data_description.txt).\n",
    "\n",
    "## Import data"
   ]
  },
  {
   "cell_type": "code",
   "execution_count": 1,
   "metadata": {},
   "outputs": [],
   "source": [
    "# Import modules\n",
    "import matplotlib.pyplot as plt\n",
    "import numpy as np\n",
    "import pandas as pd\n",
    "from sklearn.linear_model import LinearRegression\n",
    "from sklearn.metrics import mean_squared_error\n",
    "from sklearn.model_selection import cross_val_score, KFold\n"
   ]
  },
  {
   "cell_type": "code",
   "execution_count": 2,
   "metadata": {},
   "outputs": [
    {
     "data": {
      "text/html": [
       "<div>\n",
       "<style scoped>\n",
       "    .dataframe tbody tr th:only-of-type {\n",
       "        vertical-align: middle;\n",
       "    }\n",
       "\n",
       "    .dataframe tbody tr th {\n",
       "        vertical-align: top;\n",
       "    }\n",
       "\n",
       "    .dataframe thead th {\n",
       "        text-align: right;\n",
       "    }\n",
       "</style>\n",
       "<table border=\"1\" class=\"dataframe\">\n",
       "  <thead>\n",
       "    <tr style=\"text-align: right;\">\n",
       "      <th></th>\n",
       "      <th>Order</th>\n",
       "      <th>PID</th>\n",
       "      <th>MS SubClass</th>\n",
       "      <th>MS Zoning</th>\n",
       "      <th>Lot Frontage</th>\n",
       "      <th>Lot Area</th>\n",
       "      <th>Street</th>\n",
       "      <th>Alley</th>\n",
       "      <th>Lot Shape</th>\n",
       "      <th>Land Contour</th>\n",
       "      <th>...</th>\n",
       "      <th>Pool Area</th>\n",
       "      <th>Pool QC</th>\n",
       "      <th>Fence</th>\n",
       "      <th>Misc Feature</th>\n",
       "      <th>Misc Val</th>\n",
       "      <th>Mo Sold</th>\n",
       "      <th>Yr Sold</th>\n",
       "      <th>Sale Type</th>\n",
       "      <th>Sale Condition</th>\n",
       "      <th>SalePrice</th>\n",
       "    </tr>\n",
       "  </thead>\n",
       "  <tbody>\n",
       "    <tr>\n",
       "      <th>0</th>\n",
       "      <td>1</td>\n",
       "      <td>526301100</td>\n",
       "      <td>20</td>\n",
       "      <td>RL</td>\n",
       "      <td>141.0</td>\n",
       "      <td>31770</td>\n",
       "      <td>Pave</td>\n",
       "      <td>NaN</td>\n",
       "      <td>IR1</td>\n",
       "      <td>Lvl</td>\n",
       "      <td>...</td>\n",
       "      <td>0</td>\n",
       "      <td>NaN</td>\n",
       "      <td>NaN</td>\n",
       "      <td>NaN</td>\n",
       "      <td>0</td>\n",
       "      <td>5</td>\n",
       "      <td>2010</td>\n",
       "      <td>WD</td>\n",
       "      <td>Normal</td>\n",
       "      <td>215000</td>\n",
       "    </tr>\n",
       "    <tr>\n",
       "      <th>1</th>\n",
       "      <td>2</td>\n",
       "      <td>526350040</td>\n",
       "      <td>20</td>\n",
       "      <td>RH</td>\n",
       "      <td>80.0</td>\n",
       "      <td>11622</td>\n",
       "      <td>Pave</td>\n",
       "      <td>NaN</td>\n",
       "      <td>Reg</td>\n",
       "      <td>Lvl</td>\n",
       "      <td>...</td>\n",
       "      <td>0</td>\n",
       "      <td>NaN</td>\n",
       "      <td>MnPrv</td>\n",
       "      <td>NaN</td>\n",
       "      <td>0</td>\n",
       "      <td>6</td>\n",
       "      <td>2010</td>\n",
       "      <td>WD</td>\n",
       "      <td>Normal</td>\n",
       "      <td>105000</td>\n",
       "    </tr>\n",
       "    <tr>\n",
       "      <th>2</th>\n",
       "      <td>3</td>\n",
       "      <td>526351010</td>\n",
       "      <td>20</td>\n",
       "      <td>RL</td>\n",
       "      <td>81.0</td>\n",
       "      <td>14267</td>\n",
       "      <td>Pave</td>\n",
       "      <td>NaN</td>\n",
       "      <td>IR1</td>\n",
       "      <td>Lvl</td>\n",
       "      <td>...</td>\n",
       "      <td>0</td>\n",
       "      <td>NaN</td>\n",
       "      <td>NaN</td>\n",
       "      <td>Gar2</td>\n",
       "      <td>12500</td>\n",
       "      <td>6</td>\n",
       "      <td>2010</td>\n",
       "      <td>WD</td>\n",
       "      <td>Normal</td>\n",
       "      <td>172000</td>\n",
       "    </tr>\n",
       "    <tr>\n",
       "      <th>3</th>\n",
       "      <td>4</td>\n",
       "      <td>526353030</td>\n",
       "      <td>20</td>\n",
       "      <td>RL</td>\n",
       "      <td>93.0</td>\n",
       "      <td>11160</td>\n",
       "      <td>Pave</td>\n",
       "      <td>NaN</td>\n",
       "      <td>Reg</td>\n",
       "      <td>Lvl</td>\n",
       "      <td>...</td>\n",
       "      <td>0</td>\n",
       "      <td>NaN</td>\n",
       "      <td>NaN</td>\n",
       "      <td>NaN</td>\n",
       "      <td>0</td>\n",
       "      <td>4</td>\n",
       "      <td>2010</td>\n",
       "      <td>WD</td>\n",
       "      <td>Normal</td>\n",
       "      <td>244000</td>\n",
       "    </tr>\n",
       "    <tr>\n",
       "      <th>4</th>\n",
       "      <td>5</td>\n",
       "      <td>527105010</td>\n",
       "      <td>60</td>\n",
       "      <td>RL</td>\n",
       "      <td>74.0</td>\n",
       "      <td>13830</td>\n",
       "      <td>Pave</td>\n",
       "      <td>NaN</td>\n",
       "      <td>IR1</td>\n",
       "      <td>Lvl</td>\n",
       "      <td>...</td>\n",
       "      <td>0</td>\n",
       "      <td>NaN</td>\n",
       "      <td>MnPrv</td>\n",
       "      <td>NaN</td>\n",
       "      <td>0</td>\n",
       "      <td>3</td>\n",
       "      <td>2010</td>\n",
       "      <td>WD</td>\n",
       "      <td>Normal</td>\n",
       "      <td>189900</td>\n",
       "    </tr>\n",
       "  </tbody>\n",
       "</table>\n",
       "<p>5 rows × 82 columns</p>\n",
       "</div>"
      ],
      "text/plain": [
       "   Order        PID  MS SubClass MS Zoning  Lot Frontage  Lot Area Street  \\\n",
       "0      1  526301100           20        RL         141.0     31770   Pave   \n",
       "1      2  526350040           20        RH          80.0     11622   Pave   \n",
       "2      3  526351010           20        RL          81.0     14267   Pave   \n",
       "3      4  526353030           20        RL          93.0     11160   Pave   \n",
       "4      5  527105010           60        RL          74.0     13830   Pave   \n",
       "\n",
       "  Alley Lot Shape Land Contour  ... Pool Area Pool QC  Fence Misc Feature  \\\n",
       "0   NaN       IR1          Lvl  ...         0     NaN    NaN          NaN   \n",
       "1   NaN       Reg          Lvl  ...         0     NaN  MnPrv          NaN   \n",
       "2   NaN       IR1          Lvl  ...         0     NaN    NaN         Gar2   \n",
       "3   NaN       Reg          Lvl  ...         0     NaN    NaN          NaN   \n",
       "4   NaN       IR1          Lvl  ...         0     NaN  MnPrv          NaN   \n",
       "\n",
       "  Misc Val Mo Sold Yr Sold Sale Type  Sale Condition  SalePrice  \n",
       "0        0       5    2010       WD           Normal     215000  \n",
       "1        0       6    2010       WD           Normal     105000  \n",
       "2    12500       6    2010       WD           Normal     172000  \n",
       "3        0       4    2010       WD           Normal     244000  \n",
       "4        0       3    2010       WD           Normal     189900  \n",
       "\n",
       "[5 rows x 82 columns]"
      ]
     },
     "execution_count": 2,
     "metadata": {},
     "output_type": "execute_result"
    }
   ],
   "source": [
    "# Import the dataset\n",
    "houses = pd.read_csv('AmesHousing.txt', delimiter=\"\\t\")\n",
    "houses.head()"
   ]
  },
  {
   "cell_type": "code",
   "execution_count": 3,
   "metadata": {},
   "outputs": [
    {
     "name": "stdout",
     "output_type": "stream",
     "text": [
      "The average house price is $180796\n"
     ]
    }
   ],
   "source": [
    "# Define the targe column\n",
    "target = 'SalePrice'\n",
    "\n",
    "# Calculate the mean sale price\n",
    "mean_price = houses[target].mean()\n",
    "\n",
    "print(\"The average house price is ${:.0f}\".format(mean_price))"
   ]
  },
  {
   "cell_type": "markdown",
   "metadata": {},
   "source": [
    "## Data cleaning\n",
    "\n",
    "For handling the missing values at this stage, we will:\n",
    "* Remove any column with 5% or more missing values\n",
    "* Remove any text column with missing values\n",
    "* Fill in the missing values of numerical columns with the average value"
   ]
  },
  {
   "cell_type": "code",
   "execution_count": 4,
   "metadata": {},
   "outputs": [
    {
     "data": {
      "text/plain": [
       "0"
      ]
     },
     "execution_count": 4,
     "metadata": {},
     "output_type": "execute_result"
    }
   ],
   "source": [
    "# Remove any column with 5% or more missing values\n",
    "houses = houses.loc[:,houses.isnull().sum() / houses.shape[0] < 0.05 ]\n",
    "\n",
    "# Remove any text column with missing values\n",
    "houses = houses.loc[:,~((houses.dtypes == 'object') & (houses.isnull().any()))]\n",
    "\n",
    "# Fill in the missing values of numerical columns with the average value\n",
    "num_cols = houses.select_dtypes('number').columns\n",
    "\n",
    "houses[num_cols] = houses[num_cols].fillna(houses[num_cols].mean())\n",
    "\n",
    "# Count missing values\n",
    "houses.isnull().sum().sum()"
   ]
  },
  {
   "cell_type": "markdown",
   "metadata": {},
   "source": [
    "Now we will drop columns that:\n",
    "* That are not useful for predicting the target.\n",
    "* Leak data about the final sale."
   ]
  },
  {
   "cell_type": "code",
   "execution_count": 5,
   "metadata": {},
   "outputs": [],
   "source": [
    "## Drop columns that are not useful for predicting the target\n",
    "houses = houses.drop([\"PID\", \"Order\"], axis=1)\n",
    "\n",
    "## Drop columns that leak info about the final sale\n",
    "houses = houses.drop([\"Mo Sold\", \"Sale Condition\", \"Sale Type\", \"Yr Sold\"], axis=1)"
   ]
  },
  {
   "cell_type": "markdown",
   "metadata": {},
   "source": [
    "## Initial prediction\n",
    "\n",
    "We will use ordinary least squares linear regression ins this project. The target column is `SalePrice`. For the initial estimation, we will use the feature that has the highest correlation with the target."
   ]
  },
  {
   "cell_type": "code",
   "execution_count": 6,
   "metadata": {},
   "outputs": [
    {
     "data": {
      "text/plain": [
       "Overall Qual     0.799262\n",
       "Gr Liv Area      0.706780\n",
       "Garage Cars      0.647861\n",
       "Garage Area      0.640385\n",
       "Total Bsmt SF    0.632105\n",
       "Name: SalePrice, dtype: float64"
      ]
     },
     "execution_count": 6,
     "metadata": {},
     "output_type": "execute_result"
    }
   ],
   "source": [
    "num_cols = houses.select_dtypes('number').columns\n",
    "\n",
    "houses[num_cols].corr()['SalePrice'].abs().sort_values(ascending=False)[1:6]"
   ]
  },
  {
   "cell_type": "markdown",
   "metadata": {},
   "source": [
    "The feature `Overall Qual` has the highest correlation with the target."
   ]
  },
  {
   "cell_type": "code",
   "execution_count": 7,
   "metadata": {},
   "outputs": [
    {
     "name": "stdout",
     "output_type": "stream",
     "text": [
      "The average house price is $180796, and the Root Mean Square Error (RMSE) is $49492 (27.4% of the average price).\n"
     ]
    }
   ],
   "source": [
    "features = ['Overall Qual']\n",
    "\n",
    "# Divide into training and test sets using equal proportions\n",
    "train = houses[0:1460].copy()\n",
    "test = houses[1460:].copy()\n",
    "\n",
    "# Instantiate ordinary least squares linear regression model\n",
    "lr = LinearRegression()\n",
    "\n",
    "# Fit the model using the training data and target values\n",
    "lr.fit(train[features], train[target])\n",
    "\n",
    "# Predict the target for the test data\n",
    "predictions  = lr.predict(test[features])\n",
    "\n",
    "# Calculate the root mean squared error\n",
    "rmse = np.sqrt(mean_squared_error(test[target], predictions))\n",
    "\n",
    "print(\"The average house price is ${:.0f}, and the Root Mean Square Error (RMSE) is ${:.0f} ({:.1f}% of the average price).\".format(mean_price, rmse, rmse / mean_price * 100))"
   ]
  },
  {
   "cell_type": "markdown",
   "metadata": {},
   "source": [
    "## Feature selection\n",
    "\n",
    "We will now look at the correlation between each numerical feature and the target. We will only consider features that have a correlation coefficient greater than 0.2."
   ]
  },
  {
   "cell_type": "code",
   "execution_count": 8,
   "metadata": {},
   "outputs": [
    {
     "name": "stdout",
     "output_type": "stream",
     "text": [
      "Overall Qual      0.799262\n",
      "Gr Liv Area       0.706780\n",
      "Garage Cars       0.647861\n",
      "Garage Area       0.640385\n",
      "Total Bsmt SF     0.632105\n",
      "1st Flr SF        0.621676\n",
      "Year Built        0.558426\n",
      "Full Bath         0.545604\n",
      "Year Remod/Add    0.532974\n",
      "Mas Vnr Area      0.505784\n",
      "TotRms AbvGrd     0.495474\n",
      "Fireplaces        0.474558\n",
      "BsmtFin SF 1      0.432794\n",
      "Wood Deck SF      0.327143\n",
      "Open Porch SF     0.312951\n",
      "Half Bath         0.285056\n",
      "Bsmt Full Bath    0.275894\n",
      "2nd Flr SF        0.269373\n",
      "Lot Area          0.266549\n",
      "Name: SalePrice, dtype: float64\n"
     ]
    }
   ],
   "source": [
    "num_cols = houses.select_dtypes('number').columns\n",
    "\n",
    "features_corr = houses[num_cols].corr()['SalePrice'].abs().sort_values(ascending=False)[1:]\n",
    "features_corr = features_corr[features_corr > 0.2]\n",
    "print(features_corr)\n",
    "\n",
    "num_features = features_corr.index.values"
   ]
  },
  {
   "cell_type": "code",
   "execution_count": 9,
   "metadata": {},
   "outputs": [],
   "source": [
    "def train_test_model_1(train, test, features):\n",
    "\n",
    "    # Instantiate ordinary least squares linear regression model\n",
    "    lr = LinearRegression()\n",
    "\n",
    "    # Fit the model using the training data and target values\n",
    "    lr.fit(train[features], train[target])\n",
    "\n",
    "    # Predict the target for the test data\n",
    "    predictions  = lr.predict(test[features])\n",
    "\n",
    "    # Calculate the root mean squared error\n",
    "    rmse = np.sqrt(mean_squared_error(test[target], predictions))\n",
    "    \n",
    "    return rmse"
   ]
  },
  {
   "cell_type": "code",
   "execution_count": 10,
   "metadata": {},
   "outputs": [
    {
     "data": {
      "text/plain": [
       "Text(0, 0.5, 'Root mean squared error')"
      ]
     },
     "execution_count": 10,
     "metadata": {},
     "output_type": "execute_result"
    },
    {
     "data": {
      "image/png": "[encoded data removed]",
      "text/plain": [
       "<Figure size 432x288 with 1 Axes>"
      ]
     },
     "metadata": {
      "needs_background": "light"
     },
     "output_type": "display_data"
    }
   ],
   "source": [
    "# Divide into training and test sets using equal proportions\n",
    "train = houses[0:1460].copy()\n",
    "test = houses[1460:].copy()\n",
    "\n",
    "# Train ans test the model for each feature\n",
    "rmses = [train_test_model_1(train, test, [feature]) for feature in num_features]\n",
    "rmses = pd.Series(rmses, index=features_corr.index)\n",
    "\n",
    "# Plot the RMSE\n",
    "plt.scatter(features_corr, rmses)\n",
    "plt.xlabel(\"Correlation\")\n",
    "plt.ylabel(\"Root mean squared error\")"
   ]
  },
  {
   "cell_type": "code",
   "execution_count": 11,
   "metadata": {},
   "outputs": [
    {
     "data": {
      "image/png": "[encoded data removed]",
      "text/plain": [
       "<Figure size 432x288 with 1 Axes>"
      ]
     },
     "metadata": {
      "needs_background": "light"
     },
     "output_type": "display_data"
    }
   ],
   "source": [
    "n_features = range(1,len(num_features) + 1)\n",
    "\n",
    "rmses = [train_test_model_1(train, test, num_features[:n]) for n in n_features]\n",
    "\n",
    "plt.plot(n_features, rmses)\n",
    "plt.xlabel(\"N. of features\")\n",
    "plt.ylabel(\"Root mean squared error\")\n",
    "plt.xticks(n_features);"
   ]
  },
  {
   "cell_type": "markdown",
   "metadata": {},
   "source": [
    "Using the twelve features with the highest correlation lead to the lowest error."
   ]
  },
  {
   "cell_type": "code",
   "execution_count": 12,
   "metadata": {},
   "outputs": [
    {
     "data": {
      "text/plain": [
       "array(['Overall Qual', 'Gr Liv Area', 'Garage Cars', 'Garage Area',\n",
       "       'Total Bsmt SF', '1st Flr SF', 'Year Built', 'Full Bath',\n",
       "       'Year Remod/Add', 'Mas Vnr Area', 'TotRms AbvGrd', 'Fireplaces'],\n",
       "      dtype=object)"
      ]
     },
     "execution_count": 12,
     "metadata": {},
     "output_type": "execute_result"
    }
   ],
   "source": [
    "num_features = num_features[:12]\n",
    "num_features"
   ]
  },
  {
   "cell_type": "markdown",
   "metadata": {},
   "source": [
    "Regarding the categorical features, we will select those that do not lead to a high Root Mean Square Error (RMSE). We need to convert them into dummy/indicator variables to use them in the linear regression model."
   ]
  },
  {
   "cell_type": "code",
   "execution_count": 13,
   "metadata": {},
   "outputs": [],
   "source": [
    "cat_cols = [\"MS SubClass\", \"MS Zoning\", \"Street\", \"Land Contour\", \"Lot Config\", \"Neighborhood\", \"Condition 1\", \"Condition 2\",\n",
    "            \"Bldg Type\", \"House Style\", \"Roof Style\", \"Roof Matl\", \"Exterior 1st\", \"Exterior 2nd\", \"Foundation\", \"Heating\",\n",
    "            \"Central Air\"]"
   ]
  },
  {
   "cell_type": "code",
   "execution_count": 14,
   "metadata": {},
   "outputs": [],
   "source": [
    "def train_test_model_2(df, feature_name):\n",
    "\n",
    "    # Instantiate ordinary least squares linear regression model\n",
    "    lr = LinearRegression()\n",
    "\n",
    "    # Create DataFrame with target and converted feature\n",
    "    df_converted = pd.concat([df[target], pd.get_dummies(df[feature_name].astype('category'))], axis=1)\n",
    "    \n",
    "    # Divide into training and test sets using equal proportions\n",
    "    train = df_converted[0:1460].copy()\n",
    "    test = df_converted[1460:].copy()\n",
    "\n",
    "    # Fit the model using the training data and target values\n",
    "    lr.fit(train.iloc[:,1:], train.iloc[:,0])\n",
    "\n",
    "    # Predict the target for the test data\n",
    "    predictions  = lr.predict(test.iloc[:,1:])\n",
    "\n",
    "    # Calculate the root mean squared error\n",
    "    rmse = np.sqrt(mean_squared_error(test[target], predictions))\n",
    "    \n",
    "    return rmse"
   ]
  },
  {
   "cell_type": "code",
   "execution_count": 15,
   "metadata": {},
   "outputs": [
    {
     "data": {
      "text/plain": [
       "array(['MS Zoning', 'Street', 'Land Contour', 'Lot Config', 'Condition 1',\n",
       "       'Bldg Type', 'House Style', 'Roof Style', 'Roof Matl',\n",
       "       'Exterior 1st', 'Foundation', 'Heating', 'Central Air'],\n",
       "      dtype='<U12')"
      ]
     },
     "execution_count": 15,
     "metadata": {},
     "output_type": "execute_result"
    }
   ],
   "source": [
    "cat_features = cat_cols\n",
    "\n",
    "rmses = [train_test_model_2(houses, feature) for feature in cat_features]\n",
    "\n",
    "cat_features = np.array(cat_features)[np.array(rmses) < 100000]\n",
    "cat_features"
   ]
  },
  {
   "cell_type": "markdown",
   "metadata": {},
   "source": [
    "## Final prediction"
   ]
  },
  {
   "cell_type": "code",
   "execution_count": 16,
   "metadata": {},
   "outputs": [],
   "source": [
    "# Create DataFrame with numerical features, converted categorical features and target\n",
    "df = houses[num_features].copy()\n",
    "\n",
    "for col in cat_features:\n",
    "\n",
    "    df = pd.concat([df, pd.get_dummies(houses[col].astype('category'))], axis=1)\n",
    "\n",
    "features = df.columns\n",
    "    \n",
    "df[target] = houses[target]"
   ]
  },
  {
   "cell_type": "code",
   "execution_count": 17,
   "metadata": {},
   "outputs": [
    {
     "name": "stdout",
     "output_type": "stream",
     "text": [
      "The average house price is $180796, and the Root Mean Square Error (RMSE) is $33872 (18.7% of the average price).\n"
     ]
    }
   ],
   "source": [
    "# Instantiate ordinary least squares linear regression model\n",
    "lr = LinearRegression()\n",
    "\n",
    "# Performe K-Fold cross validation (using 5 folds)\n",
    "kf = KFold(5, shuffle=True, random_state=1)\n",
    "\n",
    "rmses = cross_val_score(lr, df[features], df[target], scoring=\"neg_root_mean_squared_error\", cv=kf)\n",
    "rmse = abs(rmses).mean()\n",
    "\n",
    "print(\"The average house price is ${:.0f}, and the Root Mean Square Error (RMSE) is ${:.0f} ({:.1f}% of the average price).\".format(mean_price, rmse, rmse / mean_price * 100))"
   ]
  }
 ],
 "metadata": {
  "kernelspec": {
   "display_name": "Python 3",
   "language": "python",
   "name": "python3"
  },
  "language_info": {
   "codemirror_mode": {
    "name": "ipython",
    "version": 3
   },
   "file_extension": ".py",
   "mimetype": "text/x-python",
   "name": "python",
   "nbconvert_exporter": "python",
   "pygments_lexer": "ipython3",
   "version": "3.8.5"
  }
 },
 "nbformat": 4,
 "nbformat_minor": 4
}
