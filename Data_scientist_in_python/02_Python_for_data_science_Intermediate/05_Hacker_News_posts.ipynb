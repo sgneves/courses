{
 "cells": [
  {
   "cell_type": "markdown",
   "metadata": {},
   "source": [
    "# Trends of “Ask HN” and “Show HN” posts of Hacker News"
   ]
  },
  {
   "cell_type": "markdown",
   "metadata": {},
   "source": [
    "This project compares two types of posts from [Hacker News](https://news.ycombinator.com/), a popular site where technology related stories (or 'posts') are voted and commented upon. The two types of posts we'll explore begin with either `Ask HN` or `Show HN`.\n",
    "\n",
    "A user can ask the Hacker News community a specific question, such as “Ask HN: How to improve my website?” Likewise, users submit `Show HN` posts to show the Hacker News community a project, product, or just generally something interesting (e.g., “Show HN: Shanhu.io, a programming playground powered by e8vm”).\n",
    "\n",
    "We'll compare these two types of posts to determine the following:\n",
    " * Do `Ask HN` or `Show HN` receive more comments on average?\n",
    " * Do posts created at a specific time receive more comments on average?\n",
    "\n",
    "## Introduction\n",
    "\n",
    "The data set used in this project was initially downloaded from Kaggle and was provided by Hacker News ([link])( https://www.kaggle.com/hacker-news/hacker-news-posts). After, has been reduced from almost 300,000 rows to approximately 20,000 rows by removing all submissions that did not receive any comments, and then randomly sampled from the remaining submissions."
   ]
  },
  {
   "cell_type": "code",
   "execution_count": 1,
   "metadata": {},
   "outputs": [
    {
     "name": "stdout",
     "output_type": "stream",
     "text": [
      "['id', 'title', 'url', 'num_points', 'num_comments', 'author', 'created_at']\n",
      "\n",
      "[['12224879', 'Interactive Dynamic Video', 'http://www.interactivedynamicvideo.com/', '386', '52', 'ne0phyte', '8/4/2016 11:52'], ['10975351', 'How to Use Open Source and Shut the Fuck Up at the Same Time', 'http://hueniverse.com/2016/01/26/how-to-use-open-source-and-shut-the-fuck-up-at-the-same-time/', '39', '10', 'josep2', '1/26/2016 19:30'], ['11964716', \"Florida DJs May Face Felony for April Fools' Water Joke\", 'http://www.thewire.com/entertainment/2013/04/florida-djs-april-fools-water-joke/63798/', '2', '1', 'vezycash', '6/23/2016 22:20'], ['11919867', 'Technology ventures: From Idea to Enterprise', 'https://www.amazon.com/Technology-Ventures-Enterprise-Thomas-Byers/dp/0073523429', '3', '1', 'hswarna', '6/17/2016 0:01'], ['10301696', 'Note by Note: The Making of Steinway L1037 (2007)', 'http://www.nytimes.com/2007/11/07/movies/07stein.html?_r=0', '8', '2', 'walterbell', '9/30/2015 4:12']]\n"
     ]
    }
   ],
   "source": [
    "# Import the data set from a csv file\n",
    "from csv import reader\n",
    "\n",
    "# Open the file and parse the data\n",
    "opened_file = open('hacker_news.csv', encoding='utf-8')\n",
    "read_file = reader(opened_file)\n",
    "\n",
    "# Convert the read file into a list of lists and remove the first row of the data, which contains\n",
    "# the column names\n",
    "hn = list(read_file)\n",
    "header = hn[0]\n",
    "hn = hn[1:]\n",
    "\n",
    "# Display the header and first five rows\n",
    "print(header)\n",
    "print()\n",
    "print(hn[:5])"
   ]
  },
  {
   "cell_type": "markdown",
   "metadata": {},
   "source": [
    "Description of the columns:\n",
    "1. `id`: The unique identifier from Hacker News for the post\n",
    "1. `title`: The title of the post\n",
    "1. `url`: The URL that the posts links to, if it the post has a URL\n",
    "1. `num_points`: The number of points the post acquired, calculated as the total number of upvotes minus the total number of downvotes\n",
    "1. `num_comments`: The number of comments that were made on the post\n",
    "1. `author`: The username of the person who submitted the post\n",
    "1. `created_at`: The date and time at which the post was submitted"
   ]
  },
  {
   "cell_type": "markdown",
   "metadata": {},
   "source": [
    "## Extracting Ask HN and Show HN posts\n",
    "First, we'll separate the posts into `Ask HN`, `Show HN` and others."
   ]
  },
  {
   "cell_type": "code",
   "execution_count": 2,
   "metadata": {},
   "outputs": [
    {
     "name": "stdout",
     "output_type": "stream",
     "text": [
      "Number of Ask HN posts: 1744\n",
      "Number of Show HN posts: 1162\n",
      "Number of other HN posts: 17194\n"
     ]
    }
   ],
   "source": [
    "ask_posts = []\n",
    "show_posts = []\n",
    "other_posts = []\n",
    "\n",
    "for post in hn:\n",
    "    \n",
    "    title = post[1]\n",
    "    \n",
    "    if title.lower().startswith('ask hn'):\n",
    "        \n",
    "        ask_posts.append(post)\n",
    "        \n",
    "    elif title.lower().startswith('show hn'):\n",
    "        \n",
    "        show_posts.append(post)\n",
    "    else:\n",
    "        other_posts.append(post)\n",
    "\n",
    "print('Number of Ask HN posts: ' + str(len(ask_posts)))\n",
    "print('Number of Show HN posts: ' + str(len(show_posts)))\n",
    "print('Number of other HN posts: ' + str(len(other_posts)))\n",
    "# print(*ask_posts[:10], '\\n', sep='\\n')\n",
    "# print(*show_posts[:10], '\\n', sep='\\n')\n",
    "# print(*other_posts[:10], '\\n', sep='\\n')"
   ]
  },
  {
   "cell_type": "markdown",
   "metadata": {},
   "source": [
    "## Calculating the average number of comments for Ask HN and Show HN posts\n",
    "Now let's determine which type of posts receives more comments on average."
   ]
  },
  {
   "cell_type": "code",
   "execution_count": 3,
   "metadata": {},
   "outputs": [
    {
     "name": "stdout",
     "output_type": "stream",
     "text": [
      "Average number of comments:\n",
      " - Ask HN posts: 14.0\n",
      " - Show HN posts: 10.3\n"
     ]
    }
   ],
   "source": [
    "avg_ask_comments = sum([int(post[4]) for post in ask_posts]) / len(ask_posts)\n",
    "avg_show_comments = sum([int(post[4]) for post in show_posts]) / len(show_posts)\n",
    "\n",
    "print('Average number of comments:')\n",
    "print(' - Ask HN posts: {:.1f}'.format(avg_ask_comments))\n",
    "print(' - Show HN posts: {:.1f}'.format(avg_show_comments))"
   ]
  },
  {
   "cell_type": "markdown",
   "metadata": {},
   "source": [
    "On average, ask posts in our sample receive approximately 14 comments, whereas show posts receive about 10. Since ask posts are more likely to receive comments (36% more), we'll focus our remaining analysis just on these posts."
   ]
  },
  {
   "cell_type": "markdown",
   "metadata": {},
   "source": [
    "## Finding the amount of Ask HN posts and comments by hour created\n",
    "Next, we'll determine if we can maximize the number of comments an ask post receives by creating it at a specific time. First, we'll find the number of ask posts made during each hour of the day, along with the number of comments those posts received."
   ]
  },
  {
   "cell_type": "code",
   "execution_count": 4,
   "metadata": {},
   "outputs": [
    {
     "name": "stdout",
     "output_type": "stream",
     "text": [
      "Amount of posts created in each hour of the day:\n",
      "(0, 55)\n",
      "(1, 60)\n",
      "(2, 58)\n",
      "(3, 54)\n",
      "(4, 47)\n",
      "(5, 46)\n",
      "(6, 44)\n",
      "(7, 34)\n",
      "(8, 48)\n",
      "(9, 45)\n",
      "(10, 59)\n",
      "(11, 58)\n",
      "(12, 73)\n",
      "(13, 85)\n",
      "(14, 107)\n",
      "(15, 116)\n",
      "(16, 108)\n",
      "(17, 100)\n",
      "(18, 109)\n",
      "(19, 110)\n",
      "(20, 80)\n",
      "(21, 109)\n",
      "(22, 71)\n",
      "(23, 68)\n",
      "\n",
      "Number of comments received in each hour of the day:\n",
      "(0, 447)\n",
      "(1, 683)\n",
      "(2, 1381)\n",
      "(3, 421)\n",
      "(4, 337)\n",
      "(5, 464)\n",
      "(6, 397)\n",
      "(7, 267)\n",
      "(8, 492)\n",
      "(9, 251)\n",
      "(10, 793)\n",
      "(11, 641)\n",
      "(12, 687)\n",
      "(13, 1253)\n",
      "(14, 1416)\n",
      "(15, 4477)\n",
      "(16, 1814)\n",
      "(17, 1146)\n",
      "(18, 1439)\n",
      "(19, 1188)\n",
      "(20, 1722)\n",
      "(21, 1745)\n",
      "(22, 479)\n",
      "(23, 543)\n",
      "\n",
      "Maximum number of posts in an hour: 116\n",
      "Maximum number of comments in an hour: 4477\n"
     ]
    }
   ],
   "source": [
    "import datetime as dt\n",
    "\n",
    "counts_by_hour = {}\n",
    "comments_by_hour = {}\n",
    "\n",
    "for post in ask_posts:\n",
    "\n",
    "    # Convert date and time strings to datetime objects and get the hour\n",
    "    hour = dt.datetime.strptime(post[6], '%m/%d/%Y %H:%M').hour\n",
    "\n",
    "    # Calculate the amount of posts created in each hour of the day, along with the number of comments received\n",
    "    if hour in counts_by_hour:\n",
    "        \n",
    "        counts_by_hour[hour] += 1\n",
    "        comments_by_hour[hour] += int(post[4])\n",
    "    else:\n",
    "        counts_by_hour[hour] = 1\n",
    "        comments_by_hour[hour] = int(post[4])\n",
    "\n",
    "print('Amount of posts created in each hour of the day:')\n",
    "print(*sorted(counts_by_hour.items()), sep='\\n')\n",
    "print()\n",
    "print('Number of comments received in each hour of the day:')\n",
    "print(*sorted(comments_by_hour.items()), sep='\\n')\n",
    "print()\n",
    "print('Maximum number of posts in an hour: ' + str(max(counts_by_hour.values())))\n",
    "print('Maximum number of comments in an hour: ' + str(max(comments_by_hour.values())))"
   ]
  },
  {
   "cell_type": "markdown",
   "metadata": {},
   "source": [
    "The period when most posts were created was between 15:00 and 16:00 (116 posts). The posts made on this period also received the most number of comments (4477)."
   ]
  },
  {
   "cell_type": "markdown",
   "metadata": {},
   "source": [
    "## Calculating the average number of comments for Ask HN posts by hour\n",
    "Now we'll calculate the average number of comments ask posts created at each hour of the day receive."
   ]
  },
  {
   "cell_type": "code",
   "execution_count": 5,
   "metadata": {},
   "outputs": [
    {
     "data": {
      "text/plain": [
       "[(9, 5.5777777777777775),\n",
       " (13, 14.741176470588234),\n",
       " (10, 13.440677966101696),\n",
       " (14, 13.233644859813085),\n",
       " (16, 16.796296296296298),\n",
       " (23, 7.985294117647059),\n",
       " (12, 9.41095890410959),\n",
       " (17, 11.46),\n",
       " (15, 38.5948275862069),\n",
       " (21, 16.009174311926607),\n",
       " (20, 21.525),\n",
       " (2, 23.810344827586206),\n",
       " (18, 13.20183486238532),\n",
       " (3, 7.796296296296297),\n",
       " (5, 10.08695652173913),\n",
       " (19, 10.8),\n",
       " (1, 11.383333333333333),\n",
       " (22, 6.746478873239437),\n",
       " (8, 10.25),\n",
       " (4, 7.170212765957447),\n",
       " (0, 8.127272727272727),\n",
       " (6, 9.022727272727273),\n",
       " (7, 7.852941176470588),\n",
       " (11, 11.051724137931034)]"
      ]
     },
     "execution_count": 5,
     "metadata": {},
     "output_type": "execute_result"
    }
   ],
   "source": [
    "avg_by_hour = [(hour, comments_by_hour[hour] / counts_by_hour[hour]) for hour in counts_by_hour]\n",
    "avg_by_hour"
   ]
  },
  {
   "cell_type": "markdown",
   "metadata": {},
   "source": [
    "## Sorting and printing values from a list of lists"
   ]
  },
  {
   "cell_type": "code",
   "execution_count": 6,
   "metadata": {},
   "outputs": [
    {
     "name": "stdout",
     "output_type": "stream",
     "text": [
      "Top 5 average number of comments received per post:\n",
      "15:00: 38.6\n",
      "02:00: 23.8\n",
      "20:00: 21.5\n",
      "16:00: 16.8\n",
      "21:00: 16.0\n"
     ]
    }
   ],
   "source": [
    "avg_by_hour = sorted(avg_by_hour, key = lambda x: x[1], reverse=True)\n",
    "\n",
    "print('Top 5 average number of comments received per post:')\n",
    "\n",
    "for hour, avg in avg_by_hour[:5]:\n",
    "\n",
    "    print('{:02}:00: {:.1f}'.format(hour, avg))"
   ]
  },
  {
   "cell_type": "markdown",
   "metadata": {},
   "source": [
    "Again, the period with the highest average number of comments received per post was between 15:00 and 16:00 (38.6 comments/post)."
   ]
  },
  {
   "cell_type": "markdown",
   "metadata": {},
   "source": [
    "## Conclusions\n",
    "This project compared data from ask and show posts from Hacker News to determine which type of post and time received the most comments on average. We concluded that the ask posts created between 15:00 and 16:00 had the maximum average number of comments. However, it should be noted that the data set we analyzed excluded posts without any comments."
   ]
  }
 ],
 "metadata": {
  "kernelspec": {
   "display_name": "Python 3",
   "language": "python",
   "name": "python3"
  },
  "language_info": {
   "codemirror_mode": {
    "name": "ipython",
    "version": 3
   },
   "file_extension": ".py",
   "mimetype": "text/x-python",
   "name": "python",
   "nbconvert_exporter": "python",
   "pygments_lexer": "ipython3",
   "version": "3.8.3"
  }
 },
 "nbformat": 4,
 "nbformat_minor": 4
}
