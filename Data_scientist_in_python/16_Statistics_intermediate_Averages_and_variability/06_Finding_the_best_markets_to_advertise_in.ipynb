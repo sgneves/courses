{
 "cells": [
  {
   "cell_type": "markdown",
   "metadata": {},
   "source": [
    "# Finding the best markets to advertise in\n",
    "\n",
    "An e-learning company that offers courses on programming, such as web and mobile development, wants to advertise their product. This project aims to find out the two best markets to promote their product.\n",
    "\n",
    "This work is based on the [data]( https://medium.freecodecamp.org/we-asked-20-000-people-who-they-are-and-how-theyre-learning-to-code-fff5d668969) from freeCodeCamp's 2017 New Coder Survey. freeCodeCamp is a free e-learning platform that offers courses on web development. Because they run a [popular Medium publication]( https://medium.freecodecamp.org/) (over 400,000 followers), their survey attracted new coders with varying interests (not only web development), which is ideal for the purpose of our study.The survey data is publicly available in [this](https://github.com/freeCodeCamp/2017-new-coder-survey) GitHub repository.\n",
    "\n",
    "## Data overview"
   ]
  },
  {
   "cell_type": "code",
   "execution_count": 1,
   "metadata": {},
   "outputs": [],
   "source": [
    "# import modules\n",
    "import pandas as pd\n",
    "import matplotlib.pyplot as plt\n",
    "import seaborn as sns"
   ]
  },
  {
   "cell_type": "code",
   "execution_count": 2,
   "metadata": {},
   "outputs": [],
   "source": [
    "# Read the data\n",
    "survey = pd.read_csv(\"2017-fCC-New-Coders-Survey-Data.csv\", low_memory=False)"
   ]
  },
  {
   "cell_type": "code",
   "execution_count": 3,
   "metadata": {},
   "outputs": [
    {
     "data": {
      "text/plain": [
       "(18175, 136)"
      ]
     },
     "execution_count": 3,
     "metadata": {},
     "output_type": "execute_result"
    }
   ],
   "source": [
    "# Number of rows and columns\n",
    "survey.shape"
   ]
  },
  {
   "cell_type": "code",
   "execution_count": 4,
   "metadata": {},
   "outputs": [
    {
     "data": {
      "text/html": [
       "<div>\n",
       "<style scoped>\n",
       "    .dataframe tbody tr th:only-of-type {\n",
       "        vertical-align: middle;\n",
       "    }\n",
       "\n",
       "    .dataframe tbody tr th {\n",
       "        vertical-align: top;\n",
       "    }\n",
       "\n",
       "    .dataframe thead th {\n",
       "        text-align: right;\n",
       "    }\n",
       "</style>\n",
       "<table border=\"1\" class=\"dataframe\">\n",
       "  <thead>\n",
       "    <tr style=\"text-align: right;\">\n",
       "      <th></th>\n",
       "      <th>Age</th>\n",
       "      <th>AttendedBootcamp</th>\n",
       "      <th>BootcampFinish</th>\n",
       "      <th>BootcampLoanYesNo</th>\n",
       "      <th>BootcampName</th>\n",
       "      <th>BootcampRecommend</th>\n",
       "      <th>ChildrenNumber</th>\n",
       "      <th>CityPopulation</th>\n",
       "      <th>CodeEventConferences</th>\n",
       "      <th>CodeEventDjangoGirls</th>\n",
       "      <th>...</th>\n",
       "      <th>YouTubeFCC</th>\n",
       "      <th>YouTubeFunFunFunction</th>\n",
       "      <th>YouTubeGoogleDev</th>\n",
       "      <th>YouTubeLearnCode</th>\n",
       "      <th>YouTubeLevelUpTuts</th>\n",
       "      <th>YouTubeMIT</th>\n",
       "      <th>YouTubeMozillaHacks</th>\n",
       "      <th>YouTubeOther</th>\n",
       "      <th>YouTubeSimplilearn</th>\n",
       "      <th>YouTubeTheNewBoston</th>\n",
       "    </tr>\n",
       "  </thead>\n",
       "  <tbody>\n",
       "    <tr>\n",
       "      <th>3010</th>\n",
       "      <td>45.0</td>\n",
       "      <td>0.0</td>\n",
       "      <td>NaN</td>\n",
       "      <td>NaN</td>\n",
       "      <td>NaN</td>\n",
       "      <td>NaN</td>\n",
       "      <td>NaN</td>\n",
       "      <td>more than 1 million</td>\n",
       "      <td>NaN</td>\n",
       "      <td>NaN</td>\n",
       "      <td>...</td>\n",
       "      <td>1.0</td>\n",
       "      <td>NaN</td>\n",
       "      <td>NaN</td>\n",
       "      <td>NaN</td>\n",
       "      <td>NaN</td>\n",
       "      <td>NaN</td>\n",
       "      <td>NaN</td>\n",
       "      <td>NaN</td>\n",
       "      <td>NaN</td>\n",
       "      <td>1.0</td>\n",
       "    </tr>\n",
       "    <tr>\n",
       "      <th>12253</th>\n",
       "      <td>21.0</td>\n",
       "      <td>0.0</td>\n",
       "      <td>NaN</td>\n",
       "      <td>NaN</td>\n",
       "      <td>NaN</td>\n",
       "      <td>NaN</td>\n",
       "      <td>NaN</td>\n",
       "      <td>between 100,000 and 1 million</td>\n",
       "      <td>NaN</td>\n",
       "      <td>NaN</td>\n",
       "      <td>...</td>\n",
       "      <td>NaN</td>\n",
       "      <td>NaN</td>\n",
       "      <td>NaN</td>\n",
       "      <td>NaN</td>\n",
       "      <td>NaN</td>\n",
       "      <td>NaN</td>\n",
       "      <td>NaN</td>\n",
       "      <td>NaN</td>\n",
       "      <td>NaN</td>\n",
       "      <td>NaN</td>\n",
       "    </tr>\n",
       "    <tr>\n",
       "      <th>7012</th>\n",
       "      <td>20.0</td>\n",
       "      <td>0.0</td>\n",
       "      <td>NaN</td>\n",
       "      <td>NaN</td>\n",
       "      <td>NaN</td>\n",
       "      <td>NaN</td>\n",
       "      <td>NaN</td>\n",
       "      <td>more than 1 million</td>\n",
       "      <td>NaN</td>\n",
       "      <td>NaN</td>\n",
       "      <td>...</td>\n",
       "      <td>NaN</td>\n",
       "      <td>NaN</td>\n",
       "      <td>NaN</td>\n",
       "      <td>1.0</td>\n",
       "      <td>NaN</td>\n",
       "      <td>NaN</td>\n",
       "      <td>NaN</td>\n",
       "      <td>NaN</td>\n",
       "      <td>NaN</td>\n",
       "      <td>1.0</td>\n",
       "    </tr>\n",
       "    <tr>\n",
       "      <th>17002</th>\n",
       "      <td>44.0</td>\n",
       "      <td>0.0</td>\n",
       "      <td>NaN</td>\n",
       "      <td>NaN</td>\n",
       "      <td>NaN</td>\n",
       "      <td>NaN</td>\n",
       "      <td>1.0</td>\n",
       "      <td>less than 100,000</td>\n",
       "      <td>NaN</td>\n",
       "      <td>NaN</td>\n",
       "      <td>...</td>\n",
       "      <td>NaN</td>\n",
       "      <td>NaN</td>\n",
       "      <td>NaN</td>\n",
       "      <td>1.0</td>\n",
       "      <td>NaN</td>\n",
       "      <td>NaN</td>\n",
       "      <td>NaN</td>\n",
       "      <td>NaN</td>\n",
       "      <td>NaN</td>\n",
       "      <td>1.0</td>\n",
       "    </tr>\n",
       "    <tr>\n",
       "      <th>4759</th>\n",
       "      <td>NaN</td>\n",
       "      <td>0.0</td>\n",
       "      <td>NaN</td>\n",
       "      <td>NaN</td>\n",
       "      <td>NaN</td>\n",
       "      <td>NaN</td>\n",
       "      <td>NaN</td>\n",
       "      <td>NaN</td>\n",
       "      <td>NaN</td>\n",
       "      <td>NaN</td>\n",
       "      <td>...</td>\n",
       "      <td>NaN</td>\n",
       "      <td>NaN</td>\n",
       "      <td>NaN</td>\n",
       "      <td>NaN</td>\n",
       "      <td>NaN</td>\n",
       "      <td>NaN</td>\n",
       "      <td>NaN</td>\n",
       "      <td>NaN</td>\n",
       "      <td>NaN</td>\n",
       "      <td>NaN</td>\n",
       "    </tr>\n",
       "    <tr>\n",
       "      <th>556</th>\n",
       "      <td>29.0</td>\n",
       "      <td>0.0</td>\n",
       "      <td>NaN</td>\n",
       "      <td>NaN</td>\n",
       "      <td>NaN</td>\n",
       "      <td>NaN</td>\n",
       "      <td>NaN</td>\n",
       "      <td>between 100,000 and 1 million</td>\n",
       "      <td>NaN</td>\n",
       "      <td>NaN</td>\n",
       "      <td>...</td>\n",
       "      <td>NaN</td>\n",
       "      <td>NaN</td>\n",
       "      <td>NaN</td>\n",
       "      <td>NaN</td>\n",
       "      <td>NaN</td>\n",
       "      <td>NaN</td>\n",
       "      <td>NaN</td>\n",
       "      <td>NaN</td>\n",
       "      <td>NaN</td>\n",
       "      <td>NaN</td>\n",
       "    </tr>\n",
       "    <tr>\n",
       "      <th>4788</th>\n",
       "      <td>23.0</td>\n",
       "      <td>0.0</td>\n",
       "      <td>NaN</td>\n",
       "      <td>NaN</td>\n",
       "      <td>NaN</td>\n",
       "      <td>NaN</td>\n",
       "      <td>NaN</td>\n",
       "      <td>less than 100,000</td>\n",
       "      <td>NaN</td>\n",
       "      <td>NaN</td>\n",
       "      <td>...</td>\n",
       "      <td>1.0</td>\n",
       "      <td>NaN</td>\n",
       "      <td>NaN</td>\n",
       "      <td>1.0</td>\n",
       "      <td>NaN</td>\n",
       "      <td>NaN</td>\n",
       "      <td>NaN</td>\n",
       "      <td>NaN</td>\n",
       "      <td>1.0</td>\n",
       "      <td>NaN</td>\n",
       "    </tr>\n",
       "    <tr>\n",
       "      <th>3389</th>\n",
       "      <td>17.0</td>\n",
       "      <td>0.0</td>\n",
       "      <td>NaN</td>\n",
       "      <td>NaN</td>\n",
       "      <td>NaN</td>\n",
       "      <td>NaN</td>\n",
       "      <td>NaN</td>\n",
       "      <td>less than 100,000</td>\n",
       "      <td>NaN</td>\n",
       "      <td>NaN</td>\n",
       "      <td>...</td>\n",
       "      <td>NaN</td>\n",
       "      <td>NaN</td>\n",
       "      <td>NaN</td>\n",
       "      <td>NaN</td>\n",
       "      <td>NaN</td>\n",
       "      <td>NaN</td>\n",
       "      <td>NaN</td>\n",
       "      <td>NaN</td>\n",
       "      <td>NaN</td>\n",
       "      <td>NaN</td>\n",
       "    </tr>\n",
       "    <tr>\n",
       "      <th>11417</th>\n",
       "      <td>NaN</td>\n",
       "      <td>0.0</td>\n",
       "      <td>NaN</td>\n",
       "      <td>NaN</td>\n",
       "      <td>NaN</td>\n",
       "      <td>NaN</td>\n",
       "      <td>NaN</td>\n",
       "      <td>NaN</td>\n",
       "      <td>NaN</td>\n",
       "      <td>NaN</td>\n",
       "      <td>...</td>\n",
       "      <td>NaN</td>\n",
       "      <td>NaN</td>\n",
       "      <td>NaN</td>\n",
       "      <td>NaN</td>\n",
       "      <td>NaN</td>\n",
       "      <td>NaN</td>\n",
       "      <td>NaN</td>\n",
       "      <td>NaN</td>\n",
       "      <td>NaN</td>\n",
       "      <td>NaN</td>\n",
       "    </tr>\n",
       "    <tr>\n",
       "      <th>17774</th>\n",
       "      <td>31.0</td>\n",
       "      <td>0.0</td>\n",
       "      <td>NaN</td>\n",
       "      <td>NaN</td>\n",
       "      <td>NaN</td>\n",
       "      <td>NaN</td>\n",
       "      <td>2.0</td>\n",
       "      <td>less than 100,000</td>\n",
       "      <td>NaN</td>\n",
       "      <td>NaN</td>\n",
       "      <td>...</td>\n",
       "      <td>NaN</td>\n",
       "      <td>NaN</td>\n",
       "      <td>NaN</td>\n",
       "      <td>NaN</td>\n",
       "      <td>NaN</td>\n",
       "      <td>NaN</td>\n",
       "      <td>NaN</td>\n",
       "      <td>NaN</td>\n",
       "      <td>NaN</td>\n",
       "      <td>NaN</td>\n",
       "    </tr>\n",
       "  </tbody>\n",
       "</table>\n",
       "<p>10 rows × 136 columns</p>\n",
       "</div>"
      ],
      "text/plain": [
       "        Age  AttendedBootcamp  BootcampFinish  BootcampLoanYesNo BootcampName  \\\n",
       "3010   45.0               0.0             NaN                NaN          NaN   \n",
       "12253  21.0               0.0             NaN                NaN          NaN   \n",
       "7012   20.0               0.0             NaN                NaN          NaN   \n",
       "17002  44.0               0.0             NaN                NaN          NaN   \n",
       "4759    NaN               0.0             NaN                NaN          NaN   \n",
       "556    29.0               0.0             NaN                NaN          NaN   \n",
       "4788   23.0               0.0             NaN                NaN          NaN   \n",
       "3389   17.0               0.0             NaN                NaN          NaN   \n",
       "11417   NaN               0.0             NaN                NaN          NaN   \n",
       "17774  31.0               0.0             NaN                NaN          NaN   \n",
       "\n",
       "       BootcampRecommend  ChildrenNumber                 CityPopulation  \\\n",
       "3010                 NaN             NaN            more than 1 million   \n",
       "12253                NaN             NaN  between 100,000 and 1 million   \n",
       "7012                 NaN             NaN            more than 1 million   \n",
       "17002                NaN             1.0              less than 100,000   \n",
       "4759                 NaN             NaN                            NaN   \n",
       "556                  NaN             NaN  between 100,000 and 1 million   \n",
       "4788                 NaN             NaN              less than 100,000   \n",
       "3389                 NaN             NaN              less than 100,000   \n",
       "11417                NaN             NaN                            NaN   \n",
       "17774                NaN             2.0              less than 100,000   \n",
       "\n",
       "       CodeEventConferences  CodeEventDjangoGirls  ...  YouTubeFCC  \\\n",
       "3010                    NaN                   NaN  ...         1.0   \n",
       "12253                   NaN                   NaN  ...         NaN   \n",
       "7012                    NaN                   NaN  ...         NaN   \n",
       "17002                   NaN                   NaN  ...         NaN   \n",
       "4759                    NaN                   NaN  ...         NaN   \n",
       "556                     NaN                   NaN  ...         NaN   \n",
       "4788                    NaN                   NaN  ...         1.0   \n",
       "3389                    NaN                   NaN  ...         NaN   \n",
       "11417                   NaN                   NaN  ...         NaN   \n",
       "17774                   NaN                   NaN  ...         NaN   \n",
       "\n",
       "       YouTubeFunFunFunction  YouTubeGoogleDev  YouTubeLearnCode  \\\n",
       "3010                     NaN               NaN               NaN   \n",
       "12253                    NaN               NaN               NaN   \n",
       "7012                     NaN               NaN               1.0   \n",
       "17002                    NaN               NaN               1.0   \n",
       "4759                     NaN               NaN               NaN   \n",
       "556                      NaN               NaN               NaN   \n",
       "4788                     NaN               NaN               1.0   \n",
       "3389                     NaN               NaN               NaN   \n",
       "11417                    NaN               NaN               NaN   \n",
       "17774                    NaN               NaN               NaN   \n",
       "\n",
       "       YouTubeLevelUpTuts  YouTubeMIT  YouTubeMozillaHacks YouTubeOther  \\\n",
       "3010                  NaN         NaN                  NaN          NaN   \n",
       "12253                 NaN         NaN                  NaN          NaN   \n",
       "7012                  NaN         NaN                  NaN          NaN   \n",
       "17002                 NaN         NaN                  NaN          NaN   \n",
       "4759                  NaN         NaN                  NaN          NaN   \n",
       "556                   NaN         NaN                  NaN          NaN   \n",
       "4788                  NaN         NaN                  NaN          NaN   \n",
       "3389                  NaN         NaN                  NaN          NaN   \n",
       "11417                 NaN         NaN                  NaN          NaN   \n",
       "17774                 NaN         NaN                  NaN          NaN   \n",
       "\n",
       "       YouTubeSimplilearn  YouTubeTheNewBoston  \n",
       "3010                  NaN                  1.0  \n",
       "12253                 NaN                  NaN  \n",
       "7012                  NaN                  1.0  \n",
       "17002                 NaN                  1.0  \n",
       "4759                  NaN                  NaN  \n",
       "556                   NaN                  NaN  \n",
       "4788                  1.0                  NaN  \n",
       "3389                  NaN                  NaN  \n",
       "11417                 NaN                  NaN  \n",
       "17774                 NaN                  NaN  \n",
       "\n",
       "[10 rows x 136 columns]"
      ]
     },
     "execution_count": 4,
     "metadata": {},
     "output_type": "execute_result"
    }
   ],
   "source": [
    "survey.sample(10)"
   ]
  },
  {
   "cell_type": "markdown",
   "metadata": {},
   "source": [
    "## Sample representativity \n",
    "\n",
    "Before analyzing the sample data we have, we will check whether it's representative of our population of interest and if it has the right categories of people for our purpose. The column `JobRoleInterest` describes for every participant the role(s) they'd be interested in working. If a participant is interested in working in a certain domain, it is likely that they're also interested in learning about that domain. We will drop all the rows where participants didn't answer what role they are interested in. Where a participant didn't respond, we can't know for sure what their interests are."
   ]
  },
  {
   "cell_type": "code",
   "execution_count": 5,
   "metadata": {},
   "outputs": [
    {
     "data": {
      "text/plain": [
       "12798      Front-End Web Developer, Data Engineer, Game...\n",
       "3204                              Full-Stack Web Developer\n",
       "368                               Full-Stack Web Developer\n",
       "15151                                     Mobile Developer\n",
       "12060                                      BA or developer\n",
       "1232       Front-End Web Developer,   Data Scientist, B...\n",
       "15457            DevOps / SysAdmin, Back-End Web Developer\n",
       "1211                                        Data Scientist\n",
       "5495                                        Game Developer\n",
       "12274    Information Security,   User Experience Design...\n",
       "9042                              Full-Stack Web Developer\n",
       "15771                               Back-End Web Developer\n",
       "3817                                Back-End Web Developer\n",
       "1860       User Experience Designer,   Front-End Web De...\n",
       "16734    Data Engineer, Information Security,   DevOps ...\n",
       "Name: JobRoleInterest, dtype: object"
      ]
     },
     "execution_count": 5,
     "metadata": {},
     "output_type": "execute_result"
    }
   ],
   "source": [
    "survey.dropna(subset=[\"JobRoleInterest\"], inplace=True)\n",
    "\n",
    "survey[\"JobRoleInterest\"].sample(15, random_state=0)"
   ]
  },
  {
   "cell_type": "markdown",
   "metadata": {},
   "source": [
    "Several participants selected several roles. We will extract the unique values and see which roles are more popular. We will also look at the number of roles each person choose."
   ]
  },
  {
   "cell_type": "code",
   "execution_count": 6,
   "metadata": {},
   "outputs": [
    {
     "data": {
      "text/plain": [
       "Full-Stack Web Developer    18.575221\n",
       "Front-End Web Developer     15.632743\n",
       "Back-End Web Developer      12.265487\n",
       "Mobile Developer            10.194690\n",
       "Data Scientist               7.269912\n",
       "Game Developer               7.203540\n",
       "User Experience Designer     6.500000\n",
       "Information Security         5.867257\n",
       "Data Engineer                5.522124\n",
       "DevOps / SysAdmin            4.101770\n",
       "dtype: float64"
      ]
     },
     "execution_count": 6,
     "metadata": {},
     "output_type": "execute_result"
    }
   ],
   "source": [
    "job_roles = survey[\"JobRoleInterest\"].str.split(\", \").dropna().apply(lambda x: [i.strip() for i in x])\n",
    "\n",
    "job_roles_counts = pd.Series([j for i in job_roles for j in i]).value_counts(normalize=True) * 100\n",
    "job_roles_counts.head(10)"
   ]
  },
  {
   "cell_type": "code",
   "execution_count": 7,
   "metadata": {},
   "outputs": [
    {
     "data": {
      "text/plain": [
       "1     31.650458\n",
       "2     10.883867\n",
       "3     15.889588\n",
       "4     15.217391\n",
       "5     12.042334\n",
       "6      6.721968\n",
       "7      3.861556\n",
       "8      1.759153\n",
       "9      0.986842\n",
       "10     0.471968\n",
       "Name: JobRoleInterest, dtype: float64"
      ]
     },
     "execution_count": 7,
     "metadata": {},
     "output_type": "execute_result"
    }
   ],
   "source": [
    "job_roles.apply(len).value_counts(normalize=True).head(10).sort_index() * 100"
   ]
  },
  {
   "cell_type": "markdown",
   "metadata": {},
   "source": [
    "The majority of the participants does not have a clear idea about the programming niche in which they would like to work. This is not a problem since the e-learning company offers several different programming courses.\n",
    "\n",
    "Regarding the selected roles, we can conclude that almost half is in web development (full-stack, front end and back end), and around 10% is in mobile development. This is good since the e-learning company focus on web and mobile development. Let’s now see how many people are interested in at least one of these two subjects."
   ]
  },
  {
   "cell_type": "code",
   "execution_count": 8,
   "metadata": {},
   "outputs": [
    {
     "data": {
      "image/png": "[encoded data removed]",
      "text/plain": [
       "<Figure size 432x288 with 1 Axes>"
      ]
     },
     "metadata": {
      "needs_background": "light"
     },
     "output_type": "display_data"
    }
   ],
   "source": [
    "# Roles in web and mobile development\n",
    "core_roles = {\"Full-Stack Web Developer\",\"Front-End Web Developer\",\"Back-End Web Developer\",\"Mobile Developer\"}\n",
    "\n",
    "# Frequency table\n",
    "freq_table = job_roles.apply(lambda x: 1 if len(set(x) & core_roles) > 0 else 0).value_counts(normalize=True) * 100\n",
    "\n",
    "# Plot results\n",
    "freq_table.plot.bar()\n",
    "plt.title('Participants interested in web or mobile Development')\n",
    "plt.xticks([0,1],['Web or mobile\\ndevelopment', 'Other subject'], rotation = 0)\n",
    "plt.ylabel('Percentage')\n",
    "plt.ylim([0,100])\n",
    "plt.show()"
   ]
  },
  {
   "cell_type": "markdown",
   "metadata": {},
   "source": [
    "Around 86% of the participants are interested in either web or mobile development. We can conclude that the sample data used is representative of our population of interest.\n",
    "\n",
    "## Locations and densities of new coders\n",
    "\n",
    "We will now look at where these new coders are located, and what are the densities for each location. The column `CountryLive` describes in which country each participant lives. We can think of each country as an individual market and frame our goal as finding the two best countries in which to advertise."
   ]
  },
  {
   "cell_type": "code",
   "execution_count": 9,
   "metadata": {},
   "outputs": [
    {
     "data": {
      "text/html": [
       "<div>\n",
       "<style scoped>\n",
       "    .dataframe tbody tr th:only-of-type {\n",
       "        vertical-align: middle;\n",
       "    }\n",
       "\n",
       "    .dataframe tbody tr th {\n",
       "        vertical-align: top;\n",
       "    }\n",
       "\n",
       "    .dataframe thead th {\n",
       "        text-align: right;\n",
       "    }\n",
       "</style>\n",
       "<table border=\"1\" class=\"dataframe\">\n",
       "  <thead>\n",
       "    <tr style=\"text-align: right;\">\n",
       "      <th></th>\n",
       "      <th>Count</th>\n",
       "      <th>Percentage</th>\n",
       "    </tr>\n",
       "  </thead>\n",
       "  <tbody>\n",
       "    <tr>\n",
       "      <th>United States of America</th>\n",
       "      <td>3125</td>\n",
       "      <td>45.700497</td>\n",
       "    </tr>\n",
       "    <tr>\n",
       "      <th>India</th>\n",
       "      <td>528</td>\n",
       "      <td>7.721556</td>\n",
       "    </tr>\n",
       "    <tr>\n",
       "      <th>United Kingdom</th>\n",
       "      <td>315</td>\n",
       "      <td>4.606610</td>\n",
       "    </tr>\n",
       "    <tr>\n",
       "      <th>Canada</th>\n",
       "      <td>260</td>\n",
       "      <td>3.802281</td>\n",
       "    </tr>\n",
       "    <tr>\n",
       "      <th>Poland</th>\n",
       "      <td>131</td>\n",
       "      <td>1.915765</td>\n",
       "    </tr>\n",
       "    <tr>\n",
       "      <th>...</th>\n",
       "      <td>...</td>\n",
       "      <td>...</td>\n",
       "    </tr>\n",
       "    <tr>\n",
       "      <th>Gibraltar</th>\n",
       "      <td>1</td>\n",
       "      <td>0.014624</td>\n",
       "    </tr>\n",
       "    <tr>\n",
       "      <th>Aruba</th>\n",
       "      <td>1</td>\n",
       "      <td>0.014624</td>\n",
       "    </tr>\n",
       "    <tr>\n",
       "      <th>Botswana</th>\n",
       "      <td>1</td>\n",
       "      <td>0.014624</td>\n",
       "    </tr>\n",
       "    <tr>\n",
       "      <th>Cameroon</th>\n",
       "      <td>1</td>\n",
       "      <td>0.014624</td>\n",
       "    </tr>\n",
       "    <tr>\n",
       "      <th>Yemen</th>\n",
       "      <td>1</td>\n",
       "      <td>0.014624</td>\n",
       "    </tr>\n",
       "  </tbody>\n",
       "</table>\n",
       "<p>137 rows × 2 columns</p>\n",
       "</div>"
      ],
      "text/plain": [
       "                          Count  Percentage\n",
       "United States of America   3125   45.700497\n",
       "India                       528    7.721556\n",
       "United Kingdom              315    4.606610\n",
       "Canada                      260    3.802281\n",
       "Poland                      131    1.915765\n",
       "...                         ...         ...\n",
       "Gibraltar                     1    0.014624\n",
       "Aruba                         1    0.014624\n",
       "Botswana                      1    0.014624\n",
       "Cameroon                      1    0.014624\n",
       "Yemen                         1    0.014624\n",
       "\n",
       "[137 rows x 2 columns]"
      ]
     },
     "execution_count": 9,
     "metadata": {},
     "output_type": "execute_result"
    }
   ],
   "source": [
    "pd.DataFrame(data = {'Count': survey[\"CountryLive\"].value_counts(), \n",
    "                     'Percentage': survey[\"CountryLive\"].value_counts(normalize=True) * 100}\n",
    "            )"
   ]
  },
  {
   "cell_type": "markdown",
   "metadata": {},
   "source": [
    "45.7% of our potential customers live in the US, followed by 7.7% in India. We need to evaluate how much much money people are willing to spend on learning to check if we should recommend these two markets. Advertising in markets where most people are only willing to learn for free is not desirable. \n",
    "\n",
    "## Amount of money spent on learning\n",
    "\n",
    "The columns `MoneyForLearning` has the amount of money spent (in American dollars) by participants from the moment they started coding until the moment they completed the survey. The e-learning company sells subscriptions at $59 per month. Hence, we're interested in finding out how much money each student spends per month. The column` MonthsProgramming` contains for how many months each participant has been learning."
   ]
  },
  {
   "cell_type": "code",
   "execution_count": 10,
   "metadata": {},
   "outputs": [
    {
     "name": "stdout",
     "output_type": "stream",
     "text": [
      "<class 'pandas.core.frame.DataFrame'>\n",
      "Int64Index: 6992 entries, 1 to 18174\n",
      "Data columns (total 4 columns):\n",
      " #   Column             Non-Null Count  Dtype  \n",
      "---  ------             --------------  -----  \n",
      " 0   CountryLive        6838 non-null   object \n",
      " 1   MoneyForLearning   6476 non-null   float64\n",
      " 2   MonthsProgramming  6633 non-null   float64\n",
      " 3   AttendedBootcamp   6894 non-null   float64\n",
      "dtypes: float64(3), object(1)\n",
      "memory usage: 273.1+ KB\n"
     ]
    }
   ],
   "source": [
    "money_spent = survey[[\"CountryLive\",\"MoneyForLearning\",\"MonthsProgramming\", \"AttendedBootcamp\"]].copy()\n",
    "money_spent.info()"
   ]
  },
  {
   "cell_type": "code",
   "execution_count": 11,
   "metadata": {},
   "outputs": [
    {
     "name": "stdout",
     "output_type": "stream",
     "text": [
      "N. of rows removed: 808\n"
     ]
    }
   ],
   "source": [
    "# Remove all rows with null values\n",
    "n_rows = money_spent.shape[0]\n",
    "money_spent.dropna(inplace=True)\n",
    "\n",
    "print(\"N. of rows removed: \" + str(n_rows - money_spent.shape[0]))"
   ]
  },
  {
   "cell_type": "code",
   "execution_count": 12,
   "metadata": {},
   "outputs": [
    {
     "name": "stdout",
     "output_type": "stream",
     "text": [
      "N. of zero values: 219\n"
     ]
    }
   ],
   "source": [
    "# Count the number of zero values\n",
    "print(\"N. of zero values: \" + str((money_spent[\"MonthsProgramming\"] == 0).sum()))"
   ]
  },
  {
   "cell_type": "markdown",
   "metadata": {},
   "source": [
    "Some participants answered that they had been learning to code for 0 months (it might be that they had just started when they completed the survey). To avoid dividing by 0, replace all the values of 0 with 1."
   ]
  },
  {
   "cell_type": "code",
   "execution_count": 13,
   "metadata": {},
   "outputs": [],
   "source": [
    "money_spent[\"MonthsProgramming\"].replace(0, 1, inplace=True)"
   ]
  },
  {
   "cell_type": "markdown",
   "metadata": {},
   "source": [
    "We will narrow down our analysis to only four countries: the US, India, the United Kingdom and Canada. Two reasons for this decision are:\n",
    "* These are the countries having the highest absolute frequencies in our sample, which means we have a decent amount of data for each.\n",
    "* Our courses are written in English, and English is an official language in all these four countries. The more people that know English, the better our chances to target the right people with our ads."
   ]
  },
  {
   "cell_type": "code",
   "execution_count": 14,
   "metadata": {},
   "outputs": [],
   "source": [
    "countries = [\"United States of America\",\"India\",\"United Kingdom\",\"Canada\"]\n",
    "\n",
    "money_spent = money_spent[money_spent[\"CountryLive\"].isin(countries)].copy()"
   ]
  },
  {
   "cell_type": "code",
   "execution_count": 15,
   "metadata": {},
   "outputs": [],
   "source": [
    "# Calculate the money spent monthly\n",
    "money_spent[\"money_per_month\"] = money_spent[\"MoneyForLearning\"] / money_spent[\"MonthsProgramming\"]"
   ]
  },
  {
   "cell_type": "code",
   "execution_count": 16,
   "metadata": {},
   "outputs": [
    {
     "data": {
      "text/plain": [
       "Text(0.5, 0, 'Money spent monthly (American dollars)')"
      ]
     },
     "execution_count": 16,
     "metadata": {},
     "output_type": "execute_result"
    },
    {
     "data": {
      "image/png": "[encoded data removed]",
      "text/plain": [
       "<Figure size 432x288 with 1 Axes>"
      ]
     },
     "metadata": {
      "needs_background": "light"
     },
     "output_type": "display_data"
    }
   ],
   "source": [
    "avg_money_spent = money_spent.groupby(\"CountryLive\")[\"money_per_month\"].mean()\n",
    "avg_money_spent.sort_values().plot.barh()\n",
    "plt.xlabel(\"Money spent monthly (American dollars)\")"
   ]
  },
  {
   "cell_type": "markdown",
   "metadata": {},
   "source": [
    "The result for the United Kingdom is surprisingly low relative to the values we see for India. We will analyze the amount spent monthly in more detail."
   ]
  },
  {
   "cell_type": "code",
   "execution_count": 17,
   "metadata": {},
   "outputs": [
    {
     "data": {
      "text/plain": [
       "<AxesSubplot:title={'center':'money_per_month'}, xlabel='[CountryLive]'>"
      ]
     },
     "execution_count": 17,
     "metadata": {},
     "output_type": "execute_result"
    },
    {
     "data": {
      "image/png": "[encoded data removed]",
      "text/plain": [
       "<Figure size 432x288 with 1 Axes>"
      ]
     },
     "metadata": {
      "needs_background": "light"
     },
     "output_type": "display_data"
    }
   ],
   "source": [
    "money_spent[[\"CountryLive\",\"money_per_month\"]].boxplot(by=\"CountryLive\")"
   ]
  },
  {
   "cell_type": "code",
   "execution_count": 18,
   "metadata": {},
   "outputs": [
    {
     "data": {
      "image/png": "[encoded data removed]",
      "text/plain": [
       "<Figure size 864x216 with 4 Axes>"
      ]
     },
     "metadata": {
      "needs_background": "light"
     },
     "output_type": "display_data"
    }
   ],
   "source": [
    "g = sns.FacetGrid(money_spent, col=\"CountryLive\", sharex=False, sharey=False)\n",
    "g = g.map(plt.hist, \"money_per_month\")"
   ]
  },
  {
   "cell_type": "markdown",
   "metadata": {},
   "source": [
    "Two participants from the USA spent \\\\$50000 or more per month. These values are skewing the results and, since they are not very relevant for our study, they will be removed. Let’s analyze in more detail the participants that spent more than \\\\$2500/month."
   ]
  },
  {
   "cell_type": "code",
   "execution_count": 19,
   "metadata": {},
   "outputs": [
    {
     "name": "stdout",
     "output_type": "stream",
     "text": [
      "N. of participants that spent more than $2500/month:49\n"
     ]
    }
   ],
   "source": [
    "money_spent = money_spent[money_spent[\"money_per_month\"] < 50000]\n",
    "\n",
    "money_spent_high = money_spent[money_spent[\"money_per_month\"] > 2500]\n",
    "\n",
    "print(\"N. of participants that spent more than $2500/month:\" + str(money_spent_high.shape[0]))"
   ]
  },
  {
   "cell_type": "markdown",
   "metadata": {},
   "source": [
    "49 participants spent more than \\\\$2500 monthly. Maybe these persons attended several bootcamps, which tend to be expensive. Or perhaps they did not understand the question regarding the money spent. The question of the survey was “Aside from university tuition, about how much money have you spent on learning to code so far (in US dollars)?”. They might have misunderstood and thought university tuition is included. We will remove the participants that spent more than \\\\$2500 monthly and did not attend any bootcamp."
   ]
  },
  {
   "cell_type": "code",
   "execution_count": 20,
   "metadata": {},
   "outputs": [
    {
     "name": "stdout",
     "output_type": "stream",
     "text": [
      "N. of participants removed:23\n"
     ]
    }
   ],
   "source": [
    "remove = (money_spent[\"money_per_month\"] > 2500) & (money_spent[\"AttendedBootcamp\"] == False)\n",
    "\n",
    "money_spent = money_spent[~remove]\n",
    "\n",
    "print(\"N. of participants removed:\" + str(remove.sum()))"
   ]
  },
  {
   "cell_type": "markdown",
   "metadata": {},
   "source": [
    "Let’s look at the remaining 26 participants that spent more than \\\\$2500 monthly."
   ]
  },
  {
   "cell_type": "code",
   "execution_count": 21,
   "metadata": {},
   "outputs": [
    {
     "data": {
      "text/html": [
       "<div>\n",
       "<style scoped>\n",
       "    .dataframe tbody tr th:only-of-type {\n",
       "        vertical-align: middle;\n",
       "    }\n",
       "\n",
       "    .dataframe tbody tr th {\n",
       "        vertical-align: top;\n",
       "    }\n",
       "\n",
       "    .dataframe thead th {\n",
       "        text-align: right;\n",
       "    }\n",
       "</style>\n",
       "<table border=\"1\" class=\"dataframe\">\n",
       "  <thead>\n",
       "    <tr style=\"text-align: right;\">\n",
       "      <th></th>\n",
       "      <th>CountryLive</th>\n",
       "      <th>MoneyForLearning</th>\n",
       "      <th>MonthsProgramming</th>\n",
       "      <th>AttendedBootcamp</th>\n",
       "      <th>money_per_month</th>\n",
       "    </tr>\n",
       "  </thead>\n",
       "  <tbody>\n",
       "    <tr>\n",
       "      <th>6805</th>\n",
       "      <td>United States of America</td>\n",
       "      <td>15000.0</td>\n",
       "      <td>1.0</td>\n",
       "      <td>1.0</td>\n",
       "      <td>15000.000000</td>\n",
       "    </tr>\n",
       "    <tr>\n",
       "      <th>3184</th>\n",
       "      <td>United States of America</td>\n",
       "      <td>9000.0</td>\n",
       "      <td>1.0</td>\n",
       "      <td>1.0</td>\n",
       "      <td>9000.000000</td>\n",
       "    </tr>\n",
       "    <tr>\n",
       "      <th>9778</th>\n",
       "      <td>United States of America</td>\n",
       "      <td>8000.0</td>\n",
       "      <td>1.0</td>\n",
       "      <td>1.0</td>\n",
       "      <td>8000.000000</td>\n",
       "    </tr>\n",
       "    <tr>\n",
       "      <th>718</th>\n",
       "      <td>United States of America</td>\n",
       "      <td>8000.0</td>\n",
       "      <td>1.0</td>\n",
       "      <td>1.0</td>\n",
       "      <td>8000.000000</td>\n",
       "    </tr>\n",
       "    <tr>\n",
       "      <th>7505</th>\n",
       "      <td>United States of America</td>\n",
       "      <td>20000.0</td>\n",
       "      <td>3.0</td>\n",
       "      <td>1.0</td>\n",
       "      <td>6666.666667</td>\n",
       "    </tr>\n",
       "    <tr>\n",
       "      <th>1222</th>\n",
       "      <td>United States of America</td>\n",
       "      <td>13000.0</td>\n",
       "      <td>2.0</td>\n",
       "      <td>1.0</td>\n",
       "      <td>6500.000000</td>\n",
       "    </tr>\n",
       "    <tr>\n",
       "      <th>3145</th>\n",
       "      <td>United States of America</td>\n",
       "      <td>17000.0</td>\n",
       "      <td>3.0</td>\n",
       "      <td>1.0</td>\n",
       "      <td>5666.666667</td>\n",
       "    </tr>\n",
       "    <tr>\n",
       "      <th>13145</th>\n",
       "      <td>United States of America</td>\n",
       "      <td>16000.0</td>\n",
       "      <td>3.0</td>\n",
       "      <td>1.0</td>\n",
       "      <td>5333.333333</td>\n",
       "    </tr>\n",
       "    <tr>\n",
       "      <th>8202</th>\n",
       "      <td>United States of America</td>\n",
       "      <td>15000.0</td>\n",
       "      <td>3.0</td>\n",
       "      <td>1.0</td>\n",
       "      <td>5000.000000</td>\n",
       "    </tr>\n",
       "    <tr>\n",
       "      <th>16211</th>\n",
       "      <td>United States of America</td>\n",
       "      <td>10000.0</td>\n",
       "      <td>2.0</td>\n",
       "      <td>1.0</td>\n",
       "      <td>5000.000000</td>\n",
       "    </tr>\n",
       "  </tbody>\n",
       "</table>\n",
       "</div>"
      ],
      "text/plain": [
       "                    CountryLive  MoneyForLearning  MonthsProgramming  \\\n",
       "6805   United States of America           15000.0                1.0   \n",
       "3184   United States of America            9000.0                1.0   \n",
       "9778   United States of America            8000.0                1.0   \n",
       "718    United States of America            8000.0                1.0   \n",
       "7505   United States of America           20000.0                3.0   \n",
       "1222   United States of America           13000.0                2.0   \n",
       "3145   United States of America           17000.0                3.0   \n",
       "13145  United States of America           16000.0                3.0   \n",
       "8202   United States of America           15000.0                3.0   \n",
       "16211  United States of America           10000.0                2.0   \n",
       "\n",
       "       AttendedBootcamp  money_per_month  \n",
       "6805                1.0     15000.000000  \n",
       "3184                1.0      9000.000000  \n",
       "9778                1.0      8000.000000  \n",
       "718                 1.0      8000.000000  \n",
       "7505                1.0      6666.666667  \n",
       "1222                1.0      6500.000000  \n",
       "3145                1.0      5666.666667  \n",
       "13145               1.0      5333.333333  \n",
       "8202                1.0      5000.000000  \n",
       "16211               1.0      5000.000000  "
      ]
     },
     "execution_count": 21,
     "metadata": {},
     "output_type": "execute_result"
    }
   ],
   "source": [
    "money_spent[money_spent[\"money_per_month\"] > 2500].sort_values(\"money_per_month\", ascending=False).head(10)"
   ]
  },
  {
   "cell_type": "markdown",
   "metadata": {},
   "source": [
    "Several of these participants spent $5000 or more and have been programming for 3 months or less. They most likely paid a large sum of money for a bootcamp lasting for several months. Hence, the calculated money spent monthly is not realistic and these participants will be removed."
   ]
  },
  {
   "cell_type": "code",
   "execution_count": 22,
   "metadata": {},
   "outputs": [
    {
     "name": "stdout",
     "output_type": "stream",
     "text": [
      "N. of participants removed:12\n"
     ]
    }
   ],
   "source": [
    "remove = (money_spent[\"money_per_month\"] >= 5000) & (money_spent[\"MonthsProgramming\"] <= 3)\n",
    "\n",
    "money_spent = money_spent[~remove]\n",
    "\n",
    "print(\"N. of participants removed:\" + str(remove.sum()))"
   ]
  },
  {
   "cell_type": "markdown",
   "metadata": {},
   "source": [
    "Let’s plot again the results."
   ]
  },
  {
   "cell_type": "code",
   "execution_count": 23,
   "metadata": {},
   "outputs": [
    {
     "data": {
      "text/plain": [
       "<AxesSubplot:title={'center':'money_per_month'}, xlabel='[CountryLive]'>"
      ]
     },
     "execution_count": 23,
     "metadata": {},
     "output_type": "execute_result"
    },
    {
     "data": {
      "image/png": "[encoded data removed]",
      "text/plain": [
       "<Figure size 432x288 with 1 Axes>"
      ]
     },
     "metadata": {
      "needs_background": "light"
     },
     "output_type": "display_data"
    }
   ],
   "source": [
    "money_spent[[\"CountryLive\",\"money_per_month\"]].boxplot(by=\"CountryLive\")"
   ]
  },
  {
   "cell_type": "code",
   "execution_count": 24,
   "metadata": {},
   "outputs": [
    {
     "data": {
      "text/plain": [
       "Text(0.5, 0, 'Money spent monthly (American dollars)')"
      ]
     },
     "execution_count": 24,
     "metadata": {},
     "output_type": "execute_result"
    },
    {
     "data": {
      "image/png": "[encoded data removed]",
      "text/plain": [
       "<Figure size 432x288 with 1 Axes>"
      ]
     },
     "metadata": {
      "needs_background": "light"
     },
     "output_type": "display_data"
    }
   ],
   "source": [
    "avg_money_spent = money_spent.groupby(\"CountryLive\")[\"money_per_month\"].mean()\n",
    "avg_money_spent.sort_values().plot.barh()\n",
    "plt.xlabel(\"Money spent monthly (American dollars)\")"
   ]
  },
  {
   "cell_type": "markdown",
   "metadata": {},
   "source": [
    "Now the results seem more plausible.\n",
    "\n",
    "## Best markets to advertise\n",
    "\n",
    "The e-learning company sells subscriptions at $59 per month. Let’s see how many participants in each country spent this amount or more per month."
   ]
  },
  {
   "cell_type": "code",
   "execution_count": 25,
   "metadata": {},
   "outputs": [
    {
     "data": {
      "text/plain": [
       "<AxesSubplot:title={'center':'Number of potential customers '}, ylabel='CountryLive'>"
      ]
     },
     "execution_count": 25,
     "metadata": {},
     "output_type": "execute_result"
    },
    {
     "data": {
      "image/png": "[encoded data removed]",
      "text/plain": [
       "<Figure size 432x288 with 1 Axes>"
      ]
     },
     "metadata": {
      "needs_background": "light"
     },
     "output_type": "display_data"
    }
   ],
   "source": [
    "potential_customers = money_spent[money_spent[\"money_per_month\"] >= 59].groupby(\"CountryLive\").size().sort_values()\n",
    "potential_customers.plot.barh(title=\"Number of potential customers \")"
   ]
  },
  {
   "cell_type": "code",
   "execution_count": 26,
   "metadata": {},
   "outputs": [
    {
     "data": {
      "text/plain": [
       "90.18492176386913"
      ]
     },
     "execution_count": 26,
     "metadata": {},
     "output_type": "execute_result"
    }
   ],
   "source": [
    "potential_customers[\"United States of America\"] / potential_customers[[\"United States of America\",\"India\"]].sum() * 100"
   ]
  },
  {
   "cell_type": "markdown",
   "metadata": {},
   "source": [
    "The two best markets are the USA and India. However, since the USA represents more than 90% of the potential customers, it does not make sense to split the advertising budget equally.\n",
    "\n",
    "## Conclusions\n",
    "\n",
    "We recommend that the e-learning company advertises in the USA and India. Note that, the USA represents more than 90% of the potential customers, and so, it might more sense to split the advertising budget unequally."
   ]
  }
 ],
 "metadata": {
  "kernelspec": {
   "display_name": "Python 3",
   "language": "python",
   "name": "python3"
  },
  "language_info": {
   "codemirror_mode": {
    "name": "ipython",
    "version": 3
   },
   "file_extension": ".py",
   "mimetype": "text/x-python",
   "name": "python",
   "nbconvert_exporter": "python",
   "pygments_lexer": "ipython3",
   "version": "3.8.5"
  }
 },
 "nbformat": 4,
 "nbformat_minor": 4
}
