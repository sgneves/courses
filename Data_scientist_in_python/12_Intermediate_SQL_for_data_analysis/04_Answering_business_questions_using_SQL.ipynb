{
 "cells": [
  {
   "cell_type": "markdown",
   "metadata": {},
   "source": [
    "# Answering business questions using SQL"
   ]
  },
  {
   "cell_type": "code",
   "execution_count": 1,
   "metadata": {},
   "outputs": [],
   "source": [
    "%%capture\n",
    "%load_ext sql\n",
    "%sql sqlite:///chinook.db"
   ]
  },
  {
   "cell_type": "markdown",
   "metadata": {},
   "source": [
    "# Overview of the data"
   ]
  },
  {
   "cell_type": "code",
   "execution_count": 2,
   "metadata": {},
   "outputs": [
    {
     "name": "stdout",
     "output_type": "stream",
     "text": [
      " * sqlite:///chinook.db\n",
      "Done.\n"
     ]
    },
    {
     "data": {
      "text/html": [
       "<table>\n",
       "    <tr>\n",
       "        <th>name</th>\n",
       "        <th>type</th>\n",
       "    </tr>\n",
       "    <tr>\n",
       "        <td>album</td>\n",
       "        <td>table</td>\n",
       "    </tr>\n",
       "    <tr>\n",
       "        <td>artist</td>\n",
       "        <td>table</td>\n",
       "    </tr>\n",
       "    <tr>\n",
       "        <td>customer</td>\n",
       "        <td>table</td>\n",
       "    </tr>\n",
       "    <tr>\n",
       "        <td>employee</td>\n",
       "        <td>table</td>\n",
       "    </tr>\n",
       "    <tr>\n",
       "        <td>genre</td>\n",
       "        <td>table</td>\n",
       "    </tr>\n",
       "    <tr>\n",
       "        <td>invoice</td>\n",
       "        <td>table</td>\n",
       "    </tr>\n",
       "    <tr>\n",
       "        <td>invoice_line</td>\n",
       "        <td>table</td>\n",
       "    </tr>\n",
       "    <tr>\n",
       "        <td>media_type</td>\n",
       "        <td>table</td>\n",
       "    </tr>\n",
       "    <tr>\n",
       "        <td>playlist</td>\n",
       "        <td>table</td>\n",
       "    </tr>\n",
       "    <tr>\n",
       "        <td>playlist_track</td>\n",
       "        <td>table</td>\n",
       "    </tr>\n",
       "    <tr>\n",
       "        <td>track</td>\n",
       "        <td>table</td>\n",
       "    </tr>\n",
       "    <tr>\n",
       "        <td>customer_gt_90_dollars</td>\n",
       "        <td>view</td>\n",
       "    </tr>\n",
       "    <tr>\n",
       "        <td>customer_usa</td>\n",
       "        <td>view</td>\n",
       "    </tr>\n",
       "</table>"
      ],
      "text/plain": [
       "[('album', 'table'),\n",
       " ('artist', 'table'),\n",
       " ('customer', 'table'),\n",
       " ('employee', 'table'),\n",
       " ('genre', 'table'),\n",
       " ('invoice', 'table'),\n",
       " ('invoice_line', 'table'),\n",
       " ('media_type', 'table'),\n",
       " ('playlist', 'table'),\n",
       " ('playlist_track', 'table'),\n",
       " ('track', 'table'),\n",
       " ('customer_gt_90_dollars', 'view'),\n",
       " ('customer_usa', 'view')]"
      ]
     },
     "execution_count": 2,
     "metadata": {},
     "output_type": "execute_result"
    }
   ],
   "source": [
    "%%sql\n",
    "-- List tables and views\n",
    "SELECT name, type\n",
    "  FROM sqlite_master\n",
    " WHERE type IN (\"table\",\"view\");"
   ]
  },
  {
   "cell_type": "markdown",
   "metadata": {},
   "source": [
    "## Selecting albums to purchase\n",
    "\n",
    "The Chinook record store has just signed a deal with a new record label, and we've been tasked with selecting the first three albums that will be added to the store, from the list of four shown below. All four albums are by artists that don't have any tracks in the store right now.\n",
    "\n",
    "Artist name | Genre\n",
    ":--- | :---\n",
    "Regal | Hip-Hop\n",
    "Red Tone | Punk\n",
    "Meteor and the Girls | Pop\n",
    "Slim Jim Bites | Blues\n",
    "\n",
    "The record label specializes in artists from the USA, and they have given Chinook some money to advertise the new albums in the USA, so we're interested in finding out which genres sell the best in the USA."
   ]
  },
  {
   "cell_type": "code",
   "execution_count": 3,
   "metadata": {},
   "outputs": [
    {
     "name": "stdout",
     "output_type": "stream",
     "text": [
      " * sqlite:///chinook.db\n",
      "Done.\n"
     ]
    },
    {
     "data": {
      "text/html": [
       "<table>\n",
       "    <tr>\n",
       "        <th>genre</th>\n",
       "        <th>n_tracks</th>\n",
       "        <th>percentage</th>\n",
       "    </tr>\n",
       "    <tr>\n",
       "        <td>Rock</td>\n",
       "        <td>561</td>\n",
       "        <td>0.53</td>\n",
       "    </tr>\n",
       "    <tr>\n",
       "        <td>Alternative &amp; Punk</td>\n",
       "        <td>130</td>\n",
       "        <td>0.12</td>\n",
       "    </tr>\n",
       "    <tr>\n",
       "        <td>Metal</td>\n",
       "        <td>124</td>\n",
       "        <td>0.12</td>\n",
       "    </tr>\n",
       "    <tr>\n",
       "        <td>R&amp;B/Soul</td>\n",
       "        <td>53</td>\n",
       "        <td>0.05</td>\n",
       "    </tr>\n",
       "    <tr>\n",
       "        <td>Blues</td>\n",
       "        <td>36</td>\n",
       "        <td>0.03</td>\n",
       "    </tr>\n",
       "    <tr>\n",
       "        <td>Alternative</td>\n",
       "        <td>35</td>\n",
       "        <td>0.03</td>\n",
       "    </tr>\n",
       "    <tr>\n",
       "        <td>Latin</td>\n",
       "        <td>22</td>\n",
       "        <td>0.02</td>\n",
       "    </tr>\n",
       "    <tr>\n",
       "        <td>Pop</td>\n",
       "        <td>22</td>\n",
       "        <td>0.02</td>\n",
       "    </tr>\n",
       "    <tr>\n",
       "        <td>Hip Hop/Rap</td>\n",
       "        <td>20</td>\n",
       "        <td>0.02</td>\n",
       "    </tr>\n",
       "    <tr>\n",
       "        <td>Jazz</td>\n",
       "        <td>14</td>\n",
       "        <td>0.01</td>\n",
       "    </tr>\n",
       "</table>"
      ],
      "text/plain": [
       "[('Rock', 561, 0.53),\n",
       " ('Alternative & Punk', 130, 0.12),\n",
       " ('Metal', 124, 0.12),\n",
       " ('R&B/Soul', 53, 0.05),\n",
       " ('Blues', 36, 0.03),\n",
       " ('Alternative', 35, 0.03),\n",
       " ('Latin', 22, 0.02),\n",
       " ('Pop', 22, 0.02),\n",
       " ('Hip Hop/Rap', 20, 0.02),\n",
       " ('Jazz', 14, 0.01)]"
      ]
     },
     "execution_count": 3,
     "metadata": {},
     "output_type": "execute_result"
    }
   ],
   "source": [
    "%%sql\n",
    "-- List the sales volume for each genre\n",
    "  WITH tracks_sold AS\n",
    "       (\n",
    "       SELECT g.name genre,\n",
    "              COUNT(t.track_id) n_tracks\n",
    "         FROM invoice i\n",
    "              INNER JOIN invoice_line il\n",
    "              ON il.invoice_id = i.invoice_id\n",
    "              INNER JOIN track t\n",
    "              ON t.track_id = il.track_id\n",
    "              INNER JOIN genre g\n",
    "              ON g.genre_id = t.genre_id\n",
    "        WHERE i.billing_country = 'USA'\n",
    "        GROUP BY 1\n",
    "       )\n",
    "SELECT genre,\n",
    "       n_tracks,\n",
    "       ROUND(n_tracks / CAST((SELECT SUM(n_tracks)\n",
    "                                FROM tracks_sold\n",
    "                             ) AS FLOAT), 2) percentage\n",
    "  FROM tracks_sold\n",
    " ORDER BY n_tracks DESC\n",
    " LIMIT 10;"
   ]
  },
  {
   "cell_type": "markdown",
   "metadata": {},
   "source": [
    "From the four genres listed in the table above, the three that sell the most tracks in the USA are Punk, Pop and Blues. Hence, we would recommend selecting the albums from the following artists:\n",
    "\n",
    "* Red Tone (Punk)\n",
    "* Meteor and the Girls (Blues)\n",
    "* Slim Jim Bites (Pop)\n",
    "\n",
    "From the three genres mentioned before, Blues is the one that sells most (12% of sales), but the best selling genre in the USA is Rock (53% of sales). We would recommend trying to negotiate a rock album with the new record label."
   ]
  },
  {
   "cell_type": "markdown",
   "metadata": {},
   "source": [
    "## Analyzing employee sales performance"
   ]
  },
  {
   "cell_type": "code",
   "execution_count": 4,
   "metadata": {},
   "outputs": [
    {
     "name": "stdout",
     "output_type": "stream",
     "text": [
      " * sqlite:///chinook.db\n",
      "Done.\n"
     ]
    },
    {
     "data": {
      "text/html": [
       "<table>\n",
       "    <tr>\n",
       "        <th>employee_name</th>\n",
       "        <th>total_sales</th>\n",
       "        <th>hire_date</th>\n",
       "        <th>sales_per_year</th>\n",
       "    </tr>\n",
       "    <tr>\n",
       "        <td>Jane Peacock</td>\n",
       "        <td>1731.5</td>\n",
       "        <td>2017-04-01 00:00:00</td>\n",
       "        <td>461.7</td>\n",
       "    </tr>\n",
       "    <tr>\n",
       "        <td>Margaret Park</td>\n",
       "        <td>1584.0</td>\n",
       "        <td>2017-05-03 00:00:00</td>\n",
       "        <td>432.8</td>\n",
       "    </tr>\n",
       "    <tr>\n",
       "        <td>Steve Johnson</td>\n",
       "        <td>1393.9</td>\n",
       "        <td>2017-10-17 00:00:00</td>\n",
       "        <td>438.6</td>\n",
       "    </tr>\n",
       "</table>"
      ],
      "text/plain": [
       "[('Jane Peacock', 1731.5, '2017-04-01 00:00:00', 461.7),\n",
       " ('Margaret Park', 1584.0, '2017-05-03 00:00:00', 432.8),\n",
       " ('Steve Johnson', 1393.9, '2017-10-17 00:00:00', 438.6)]"
      ]
     },
     "execution_count": 4,
     "metadata": {},
     "output_type": "execute_result"
    }
   ],
   "source": [
    "%%sql\n",
    "SELECT e.first_name || ' ' || e.last_name employee_name,\n",
    "       ROUND(SUM(i.total), 1) total_sales,\n",
    "       e.hire_date,\n",
    "       ROUND(SUM(i.total) / MAX(julianday(i.invoice_date) - julianday(e.hire_date)) * 365, 1) sales_per_year\n",
    "  FROM invoice i\n",
    "       INNER JOIN customer c\n",
    "       ON c.customer_id = i.customer_id\n",
    "       INNER JOIN employee e\n",
    "       ON e.employee_id = c.support_rep_id\n",
    " WHERE e.title = 'Sales Support Agent'\n",
    " GROUP BY 1\n",
    " ORDER BY 2 DESC;"
   ]
  },
  {
   "cell_type": "markdown",
   "metadata": {},
   "source": [
    "The top employee, Jane Peacock, sold 24% more than the bottom employee, Steve Johnson. However, if we account for when they were hired and analyse the sales per year, this difference is only 5%."
   ]
  },
  {
   "cell_type": "markdown",
   "metadata": {},
   "source": [
    "## Analyzing sales by country"
   ]
  },
  {
   "cell_type": "code",
   "execution_count": 5,
   "metadata": {},
   "outputs": [
    {
     "name": "stdout",
     "output_type": "stream",
     "text": [
      " * sqlite:///chinook.db\n",
      "Done.\n"
     ]
    },
    {
     "data": {
      "text/html": [
       "<table>\n",
       "    <tr>\n",
       "        <th>country</th>\n",
       "        <th>customers</th>\n",
       "        <th>total_sales</th>\n",
       "        <th>average_sale</th>\n",
       "        <th>average_sale_per_customer</th>\n",
       "    </tr>\n",
       "    <tr>\n",
       "        <td>USA</td>\n",
       "        <td>13</td>\n",
       "        <td>1040.5</td>\n",
       "        <td>7.9</td>\n",
       "        <td>80.0</td>\n",
       "    </tr>\n",
       "    <tr>\n",
       "        <td>Canada</td>\n",
       "        <td>8</td>\n",
       "        <td>535.6</td>\n",
       "        <td>7.0</td>\n",
       "        <td>66.9</td>\n",
       "    </tr>\n",
       "    <tr>\n",
       "        <td>Brazil</td>\n",
       "        <td>5</td>\n",
       "        <td>427.7</td>\n",
       "        <td>7.0</td>\n",
       "        <td>85.5</td>\n",
       "    </tr>\n",
       "    <tr>\n",
       "        <td>France</td>\n",
       "        <td>5</td>\n",
       "        <td>389.1</td>\n",
       "        <td>7.8</td>\n",
       "        <td>77.8</td>\n",
       "    </tr>\n",
       "    <tr>\n",
       "        <td>Germany</td>\n",
       "        <td>4</td>\n",
       "        <td>334.6</td>\n",
       "        <td>8.2</td>\n",
       "        <td>83.7</td>\n",
       "    </tr>\n",
       "    <tr>\n",
       "        <td>Czech Republic</td>\n",
       "        <td>2</td>\n",
       "        <td>273.2</td>\n",
       "        <td>9.1</td>\n",
       "        <td>136.6</td>\n",
       "    </tr>\n",
       "    <tr>\n",
       "        <td>United Kingdom</td>\n",
       "        <td>3</td>\n",
       "        <td>245.5</td>\n",
       "        <td>8.8</td>\n",
       "        <td>81.8</td>\n",
       "    </tr>\n",
       "    <tr>\n",
       "        <td>Portugal</td>\n",
       "        <td>2</td>\n",
       "        <td>185.1</td>\n",
       "        <td>6.4</td>\n",
       "        <td>92.6</td>\n",
       "    </tr>\n",
       "    <tr>\n",
       "        <td>India</td>\n",
       "        <td>2</td>\n",
       "        <td>183.2</td>\n",
       "        <td>8.7</td>\n",
       "        <td>91.6</td>\n",
       "    </tr>\n",
       "    <tr>\n",
       "        <td>Other</td>\n",
       "        <td>15</td>\n",
       "        <td>1094.9</td>\n",
       "        <td>7.4</td>\n",
       "        <td>73.0</td>\n",
       "    </tr>\n",
       "</table>"
      ],
      "text/plain": [
       "[('USA', 13, 1040.5, 7.9, 80.0),\n",
       " ('Canada', 8, 535.6, 7.0, 66.9),\n",
       " ('Brazil', 5, 427.7, 7.0, 85.5),\n",
       " ('France', 5, 389.1, 7.8, 77.8),\n",
       " ('Germany', 4, 334.6, 8.2, 83.7),\n",
       " ('Czech Republic', 2, 273.2, 9.1, 136.6),\n",
       " ('United Kingdom', 3, 245.5, 8.8, 81.8),\n",
       " ('Portugal', 2, 185.1, 6.4, 92.6),\n",
       " ('India', 2, 183.2, 8.7, 91.6),\n",
       " ('Other', 15, 1094.9, 7.4, 73.0)]"
      ]
     },
     "execution_count": 5,
     "metadata": {},
     "output_type": "execute_result"
    }
   ],
   "source": [
    "%%sql\n",
    "  WITH sales AS\n",
    "       (\n",
    "        SELECT c.customer_id,\n",
    "               CASE\n",
    "               WHEN (\n",
    "                     SELECT COUNT(DISTINCT customer_id)\n",
    "                       FROM customer\n",
    "                      WHERE country = c.country\n",
    "                    ) = 1 THEN 'Other'\n",
    "               ELSE country\n",
    "               END country,\n",
    "               SUM(i.total) total,\n",
    "               COUNT(i.total) n_sales\n",
    "          FROM invoice i\n",
    "               INNER JOIN customer c\n",
    "               ON c.customer_id = i.customer_id\n",
    "         GROUP BY c.customer_id\n",
    "       )\n",
    "SELECT country,\n",
    "       COUNT(DISTINCT customer_id) customers,\n",
    "       ROUND(SUM(total), 1) total_sales,\n",
    "       ROUND(SUM(total) / SUM(n_sales), 1) average_sale,\n",
    "       ROUND(AVG(total), 1) average_sale_per_customer\n",
    "  FROM (SELECT *,\n",
    "               CASE\n",
    "               WHEN country = 'Other' THEN 1\n",
    "               ELSE 0\n",
    "               END AS sort\n",
    "          FROM sales\n",
    "       )\n",
    " GROUP BY country\n",
    " ORDER BY sort, total_sales DESC;"
   ]
  },
  {
   "cell_type": "markdown",
   "metadata": {},
   "source": [
    "## Albums vs individual tracks\n",
    "\n",
    "Management is currently considering changing its purchasing strategy to save money. The strategy being considered is to purchase only the most popular tracks from each album from record companies, instead of purchasing every track from an album. Our task is to find out what percentage of purchases are individual tracks vs whole albums."
   ]
  },
  {
   "cell_type": "code",
   "execution_count": 6,
   "metadata": {},
   "outputs": [
    {
     "name": "stdout",
     "output_type": "stream",
     "text": [
      " * sqlite:///chinook.db\n",
      "Done.\n"
     ]
    },
    {
     "data": {
      "text/html": [
       "<table>\n",
       "    <tr>\n",
       "        <th>album_purchase</th>\n",
       "        <th>number_of_invoices</th>\n",
       "        <th>percentage</th>\n",
       "    </tr>\n",
       "    <tr>\n",
       "        <td>no</td>\n",
       "        <td>500</td>\n",
       "        <td>81.4</td>\n",
       "    </tr>\n",
       "    <tr>\n",
       "        <td>yes</td>\n",
       "        <td>114</td>\n",
       "        <td>18.6</td>\n",
       "    </tr>\n",
       "</table>"
      ],
      "text/plain": [
       "[('no', 500, 81.4), ('yes', 114, 18.6)]"
      ]
     },
     "execution_count": 6,
     "metadata": {},
     "output_type": "execute_result"
    }
   ],
   "source": [
    "%%sql\n",
    "  WITH invoice_tracks AS\n",
    "       (\n",
    "        SELECT i.invoice_id,\n",
    "               il.track_id,\n",
    "               t.album_id\n",
    "          FROM invoice i\n",
    "               INNER JOIN invoice_line il\n",
    "               ON il.invoice_id = i.invoice_id\n",
    "               INNER JOIN track t\n",
    "               ON t.track_id = il.track_id\n",
    "       ),\n",
    "       invoice_album AS\n",
    "       (\n",
    "        SELECT invoice_id,\n",
    "               album_id\n",
    "          FROM invoice_tracks\n",
    "         GROUP BY invoice_id\n",
    "       ),\n",
    "       is_album AS\n",
    "       (\n",
    "        SELECT (\n",
    "                SELECT track_id\n",
    "                  FROM invoice_tracks\n",
    "                 WHERE invoice_id = ia.invoice_id\n",
    "                EXCEPT\n",
    "                SELECT track_id\n",
    "                  FROM track\n",
    "                 WHERE album_id = ia.album_id\n",
    "               ) IS NULL\n",
    "               AND\n",
    "               (\n",
    "                SELECT track_id\n",
    "                  FROM track\n",
    "                 WHERE album_id = ia.album_id\n",
    "                EXCEPT\n",
    "                SELECT track_id\n",
    "                  FROM invoice_tracks\n",
    "                 WHERE invoice_id = ia.invoice_id\n",
    "               ) IS NULL is_album\n",
    "          FROM invoice_album ia\n",
    "         GROUP BY invoice_id\n",
    "       )\n",
    "SELECT CASE\n",
    "       WHEN is_album = 0 THEN 'no'\n",
    "       ELSE 'yes'\n",
    "       END album_purchase,\n",
    "       COUNT(*) number_of_invoices,\n",
    "       round(CAST(COUNT(*) AS FLOAT) / (SELECT COUNT(*) FROM is_album) * 100, 1) percentage\n",
    "  FROM is_album\n",
    " GROUP BY is_album;"
   ]
  },
  {
   "cell_type": "markdown",
   "metadata": {},
   "source": [
    "Since album purchases account for almost one fifth of the revenue, it is not advisable to purchase only the most popular tracks from each album."
   ]
  }
 ],
 "metadata": {
  "kernelspec": {
   "display_name": "Python 3",
   "language": "python",
   "name": "python3"
  },
  "language_info": {
   "codemirror_mode": {
    "name": "ipython",
    "version": 3
   },
   "file_extension": ".py",
   "mimetype": "text/x-python",
   "name": "python",
   "nbconvert_exporter": "python",
   "pygments_lexer": "ipython3",
   "version": "3.8.5"
  }
 },
 "nbformat": 4,
 "nbformat_minor": 4
}
